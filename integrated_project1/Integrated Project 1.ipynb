{
 "cells": [
  {
   "cell_type": "markdown",
   "metadata": {},
   "source": [
    "# Project Description"
   ]
  },
  {
   "cell_type": "markdown",
   "metadata": {},
   "source": [
    "The aim of this project is to identify patterns that determine whether a game succeeds or not which will allow in spotting potential big winners and plan advertising campaigns.<br>\n",
    "Here we will be investigating user and expert reviews, genres, platforms (e.g. Xbox or PlayStation), and historical data on game sales are available from open sources for the online store Ice, which sells video games all over the world. \n",
    "We have data which is going back to 2016 for planning a campaign for 2017.<br>\n",
    "The dataset contains the abbreviation ESRB. The Entertainment Software Rating Board evaluates a game's content and assigns an age rating such as Teen or Mature.<br>\n",
    "\n",
    "\n",
    "Data description<br>\n",
    "- Name\n",
    "- Platform\n",
    "- Year_of_Release\n",
    "- Genre\n",
    "- NA_sales (North American sales in USD million)\n",
    "- EU_sales (sales in Europe in USD million)\n",
    "- JP_sales (sales in Japan in USD million)\n",
    "- Other_sales (sales in other countries in USD million)\n",
    "- Critic_Score (maximum of 100)\n",
    "- User_Score (maximum of 10)\n",
    "- Rating (ESRB)\n",
    "\n",
    "<br>Data for 2016 may be incomplete."
   ]
  },
  {
   "cell_type": "markdown",
   "metadata": {},
   "source": [
    "## Open the data file and study the general information"
   ]
  },
  {
   "cell_type": "code",
   "execution_count": 1,
   "metadata": {},
   "outputs": [],
   "source": [
    "#importing libraries\n",
    "\n",
    "from matplotlib import pyplot\n",
    "import pandas as pd\n",
    "import numpy as np\n",
    "from scipy import stats\n",
    "from scipy.stats import shapiro\n",
    "from scipy.stats import mannwhitneyu\n",
    "from functools import reduce\n",
    "import warnings\n",
    "warnings.filterwarnings(\"ignore\")\n"
   ]
  },
  {
   "cell_type": "code",
   "execution_count": 2,
   "metadata": {},
   "outputs": [
    {
     "name": "stdout",
     "output_type": "stream",
     "text": [
      "\n",
      "\n",
      "Games\n",
      "       Year_of_Release      NA_sales      EU_sales      JP_sales  \\\n",
      "count     16446.000000  16715.000000  16715.000000  16715.000000   \n",
      "mean       2006.484616      0.263377      0.145060      0.077617   \n",
      "std           5.877050      0.813604      0.503339      0.308853   \n",
      "min        1980.000000      0.000000      0.000000      0.000000   \n",
      "25%        2003.000000      0.000000      0.000000      0.000000   \n",
      "50%        2007.000000      0.080000      0.020000      0.000000   \n",
      "75%        2010.000000      0.240000      0.110000      0.040000   \n",
      "max        2016.000000     41.360000     28.960000     10.220000   \n",
      "\n",
      "        Other_sales  Critic_Score  \n",
      "count  16715.000000   8137.000000  \n",
      "mean       0.047342     68.967679  \n",
      "std        0.186731     13.938165  \n",
      "min        0.000000     13.000000  \n",
      "25%        0.000000     60.000000  \n",
      "50%        0.010000     71.000000  \n",
      "75%        0.030000     79.000000  \n",
      "max       10.570000     98.000000  \n",
      "                       Name Platform  Year_of_Release         Genre  NA_sales  \\\n",
      "0                Wii Sports      Wii           2006.0        Sports     41.36   \n",
      "1         Super Mario Bros.      NES           1985.0      Platform     29.08   \n",
      "2            Mario Kart Wii      Wii           2008.0        Racing     15.68   \n",
      "3         Wii Sports Resort      Wii           2009.0        Sports     15.61   \n",
      "4  Pokemon Red/Pokemon Blue       GB           1996.0  Role-Playing     11.27   \n",
      "\n",
      "   EU_sales  JP_sales  Other_sales  Critic_Score User_Score Rating  \n",
      "0     28.96      3.77         8.45          76.0          8      E  \n",
      "1      3.58      6.81         0.77           NaN        NaN    NaN  \n",
      "2     12.76      3.79         3.29          82.0        8.3      E  \n",
      "3     10.93      3.28         2.95          80.0          8      E  \n",
      "4      8.89     10.22         1.00           NaN        NaN    NaN  \n",
      "\n",
      " Number of duplicated rows in game_info dataframe: 0\n",
      "\n",
      "<class 'pandas.core.frame.DataFrame'>\n",
      "RangeIndex: 16715 entries, 0 to 16714\n",
      "Data columns (total 11 columns):\n",
      "Name               16713 non-null object\n",
      "Platform           16715 non-null object\n",
      "Year_of_Release    16446 non-null float64\n",
      "Genre              16713 non-null object\n",
      "NA_sales           16715 non-null float64\n",
      "EU_sales           16715 non-null float64\n",
      "JP_sales           16715 non-null float64\n",
      "Other_sales        16715 non-null float64\n",
      "Critic_Score       8137 non-null float64\n",
      "User_Score         10014 non-null object\n",
      "Rating             9949 non-null object\n",
      "dtypes: float64(6), object(5)\n",
      "memory usage: 1.4+ MB\n",
      "None\n",
      "\n",
      "\n",
      "Skewness:\n",
      "Year_of_Release    -0.974739\n",
      "NA_sales           18.771908\n",
      "EU_sales           18.851045\n",
      "JP_sales           11.207460\n",
      "Other_sales        24.583655\n",
      "Critic_Score       -0.613646\n",
      "dtype: float64\n"
     ]
    },
    {
     "data": {
      "text/plain": [
       "Name                0.011965\n",
       "Platform            0.000000\n",
       "Year_of_Release     1.609333\n",
       "Genre               0.011965\n",
       "NA_sales            0.000000\n",
       "EU_sales            0.000000\n",
       "JP_sales            0.000000\n",
       "Other_sales         0.000000\n",
       "Critic_Score       51.319174\n",
       "User_Score         40.089740\n",
       "Rating             40.478612\n",
       "dtype: float64"
      ]
     },
     "execution_count": 2,
     "metadata": {},
     "output_type": "execute_result"
    }
   ],
   "source": [
    "#Loading the file into game_info dataframe\n",
    "game_info = pd.read_csv('/datasets/games.csv')\n",
    "\n",
    "#Studying the general information \n",
    "print('\\n\\nGames')\n",
    "print(game_info.describe())\n",
    "print(game_info.head())\n",
    "print('\\n Number of duplicated rows in game_info dataframe:',game_info.duplicated().sum())\n",
    "print()\n",
    "print(game_info.info())\n",
    "print('\\n\\nSkewness:')\n",
    "print(game_info.skew())\n",
    "game_info.isnull().sum()*100/len(game_info)\n"
   ]
  },
  {
   "cell_type": "markdown",
   "metadata": {},
   "source": [
    "#### Conclusion"
   ]
  },
  {
   "cell_type": "markdown",
   "metadata": {},
   "source": [
    "- The date column has a wrong datatype.\n",
    "- The column names have upper case, would be changing them\n",
    "- There are missing values in several columns - `critic_score`,`user_score`,`name`,`year_of_release`,`genre` and `rating`.\n",
    "- There are no duplicated rows in the dataframe\n",
    "- We can also see that the data is highly skewed.\n"
   ]
  },
  {
   "cell_type": "markdown",
   "metadata": {},
   "source": [
    "## Prepare the Data"
   ]
  },
  {
   "cell_type": "markdown",
   "metadata": {},
   "source": [
    "### Replace the column names (make them lowercase)"
   ]
  },
  {
   "cell_type": "code",
   "execution_count": 3,
   "metadata": {},
   "outputs": [],
   "source": [
    "#Changing the column names to lower case\n",
    "game_info.columns = map(str.lower, game_info.columns)"
   ]
  },
  {
   "cell_type": "markdown",
   "metadata": {},
   "source": [
    "#### Conclusion"
   ]
  },
  {
   "cell_type": "markdown",
   "metadata": {},
   "source": [
    "- The column names have upper case so changed them to smaller case for better readability and accessibility"
   ]
  },
  {
   "cell_type": "markdown",
   "metadata": {},
   "source": [
    "### Convert the data to the required types."
   ]
  },
  {
   "cell_type": "code",
   "execution_count": 4,
   "metadata": {},
   "outputs": [],
   "source": [
    "#Changing the datatype of all the dates of all the dataframes into datetime\n",
    "game_info['year_of_release'] = pd.to_datetime(game_info['year_of_release'] , format='%Y')\n",
    "#just adding the year back to the column for ease of calculations\n",
    "game_info['year_of_release'] = pd.DatetimeIndex(game_info['year_of_release']).year\n",
    "\n",
    "\n"
   ]
  },
  {
   "cell_type": "markdown",
   "metadata": {},
   "source": [
    "#### Conclusion"
   ]
  },
  {
   "cell_type": "markdown",
   "metadata": {},
   "source": [
    "- Converted the datatype of year_of release to datetime from string and then just added the year back with datetime.year method for ease of calculations.\n"
   ]
  },
  {
   "cell_type": "markdown",
   "metadata": {},
   "source": [
    "### Dealing with missing values:"
   ]
  },
  {
   "cell_type": "code",
   "execution_count": 5,
   "metadata": {},
   "outputs": [],
   "source": [
    "#Working on missing values\n",
    "#Name column has only two missing values, dropping both of those rows,  which are eventually the same genre null rows\n",
    "game_info = game_info.dropna(subset=['name'])\n",
    "\n",
    "\n",
    "#Filling year_of_release missing values\n",
    "game_info['year_of_release']= game_info.groupby(['name'], sort=False)['year_of_release'].apply(lambda x: x.fillna(x.mode()))\n",
    "game_info = game_info.dropna(subset=['year_of_release'])\n",
    "\n",
    "\n",
    "#Filling user_score by grouping `name`,`genre` and `platform` columns\n",
    "#first replacing the tbd values with null values\\n\",\n",
    "game_info['user_score'] = game_info['user_score'].replace('tbd',np.NaN)\n",
    "\n",
    "\n",
    "#Filling rating by grouping with undefined value\n",
    "game_info['rating'] = game_info['rating'].fillna(value = 'undefined')\n"
   ]
  },
  {
   "cell_type": "markdown",
   "metadata": {},
   "source": [
    "#### Conclusion"
   ]
  },
  {
   "cell_type": "markdown",
   "metadata": {},
   "source": [
    "- Initially there were missing values in `name`,`year_of release`,`critic_score`,`user_score` and `rating` columns\n",
    "- Removed the two rows that had missing values in the `name` column\n",
    "- Filled the missing values of `year_of release` with the mode value which we got by grouping `name` column as mostly games are rated based on the name. Remaining 269 null valued rows we have dropped it as it was only 1.6% of the data.\n",
    "- Similarily filled the missing values of `rating` column with the NaN values \n",
    "- The missing values in the `user_score` column there are several missing values out of which most of them are 'tbd' values , but there is not much information to determine these values so I just replaced these values with null values so that it doesn't come in our way during the analysis.\n",
    "- The reason we did not fill the null values is because we can't guarantee we would do it right, too much missing values, so when analyzing - we will just use the subset of the data without any missing values"
   ]
  },
  {
   "cell_type": "markdown",
   "metadata": {},
   "source": [
    "### Calculate the total sales (the sum of sales in all regions) for each game and put these values in a separate column."
   ]
  },
  {
   "cell_type": "code",
   "execution_count": 6,
   "metadata": {},
   "outputs": [
    {
     "name": "stdout",
     "output_type": "stream",
     "text": [
      "\n",
      "\n",
      "Games\n",
      "<class 'pandas.core.frame.DataFrame'>\n",
      "Int64Index: 16444 entries, 0 to 16714\n",
      "Data columns (total 12 columns):\n",
      "name               16444 non-null object\n",
      "platform           16444 non-null object\n",
      "year_of_release    16444 non-null float64\n",
      "genre              16444 non-null object\n",
      "na_sales           16444 non-null float64\n",
      "eu_sales           16444 non-null float64\n",
      "jp_sales           16444 non-null float64\n",
      "other_sales        16444 non-null float64\n",
      "critic_score       7983 non-null float64\n",
      "user_score         7463 non-null object\n",
      "rating             16444 non-null object\n",
      "total_sales        16444 non-null float64\n",
      "dtypes: float64(7), object(5)\n",
      "memory usage: 1.6+ MB\n"
     ]
    }
   ],
   "source": [
    "\n",
    "#Calculating the total_sales\n",
    "game_info['total_sales'] = game_info.na_sales + game_info.eu_sales + game_info.jp_sales + game_info.other_sales\n",
    "\n",
    "#Checking for the updated datatype and names\n",
    "print('\\n\\nGames')\n",
    "game_info.info()"
   ]
  },
  {
   "cell_type": "markdown",
   "metadata": {},
   "source": [
    "#### Conclusion"
   ]
  },
  {
   "cell_type": "markdown",
   "metadata": {},
   "source": [
    "- Added a `total_sales` column to the dataframe which contains the sum of sales of NA,EU,Japan and other regions for each respective game"
   ]
  },
  {
   "cell_type": "markdown",
   "metadata": {},
   "source": [
    "## Analyze the data"
   ]
  },
  {
   "cell_type": "markdown",
   "metadata": {},
   "source": [
    "We are going to analyze the games data to look how many different games were released each year , how sales varied from platform to platform, determine what period you should take data for, look for  potentially profitable platforms, find  average sales on various platforms, calculate the correlation between reviews and sales, investigate general distribution of games by genre."
   ]
  },
  {
   "cell_type": "markdown",
   "metadata": {},
   "source": [
    "### Look at how many games were released in different years."
   ]
  },
  {
   "cell_type": "code",
   "execution_count": 25,
   "metadata": {},
   "outputs": [
    {
     "data": {
      "image/png": "[encoded data removed]",
      "text/plain": [
       "<Figure size 720x360 with 1 Axes>"
      ]
     },
     "metadata": {
      "needs_background": "light"
     },
     "output_type": "display_data"
    }
   ],
   "source": [
    "\n",
    "#calculating total games per year\n",
    "total_games_year = game_info.groupby('year_of_release')['name'].agg({'total_games':'count'})\n",
    "\n",
    "total_games_plot = total_games_year['total_games'].plot.bar(figsize=(10,5))\n",
    "total_games_plot.set_title('Total games released per year',fontsize=(15))\n",
    "total_games_plot.set_ylabel('total games')\n",
    "total_games_plot.legend();\n",
    "pyplot.show()\n",
    "\n",
    "\n"
   ]
  },
  {
   "cell_type": "markdown",
   "metadata": {},
   "source": [
    "#### Conclusion"
   ]
  },
  {
   "cell_type": "markdown",
   "metadata": {},
   "source": [
    "- We see a increase in the number of games mainly from 2000, 2008 and 2009 did really well in terms of number of games released but we also see a steady decrease after 2012\n",
    "- There is a boom in the number of games released per year from 1995, after which there is an higher growth rate from 2005. But then again it started decreasing from 2010.\n"
   ]
  },
  {
   "cell_type": "markdown",
   "metadata": {},
   "source": [
    "### Look at how sales varied from platform to platform. "
   ]
  },
  {
   "cell_type": "code",
   "execution_count": 35,
   "metadata": {},
   "outputs": [
    {
     "data": {
      "image/png": "[encoded data removed]",
      "text/plain": [
       "<Figure size 720x360 with 1 Axes>"
      ]
     },
     "metadata": {
      "needs_background": "light"
     },
     "output_type": "display_data"
    },
    {
     "name": "stdout",
     "output_type": "stream",
     "text": [
      "          total_sales\n",
      "platform             \n",
      "PS2           1233.56\n",
      "X360           961.24\n",
      "PS3            931.34\n",
      "Wii            891.18\n",
      "DS             802.78\n"
     ]
    },
    {
     "data": {
      "text/html": [
       "<div>\n",
       "<style scoped>\n",
       "    .dataframe tbody tr th:only-of-type {\n",
       "        vertical-align: middle;\n",
       "    }\n",
       "\n",
       "    .dataframe tbody tr th {\n",
       "        vertical-align: top;\n",
       "    }\n",
       "\n",
       "    .dataframe thead th {\n",
       "        text-align: right;\n",
       "    }\n",
       "</style>\n",
       "<table border=\"1\" class=\"dataframe\">\n",
       "  <thead>\n",
       "    <tr style=\"text-align: right;\">\n",
       "      <th></th>\n",
       "      <th>name</th>\n",
       "      <th>platform</th>\n",
       "      <th>year_of_release</th>\n",
       "      <th>genre</th>\n",
       "      <th>na_sales</th>\n",
       "      <th>eu_sales</th>\n",
       "      <th>jp_sales</th>\n",
       "      <th>other_sales</th>\n",
       "      <th>critic_score</th>\n",
       "      <th>user_score</th>\n",
       "      <th>rating</th>\n",
       "      <th>total_sales</th>\n",
       "    </tr>\n",
       "  </thead>\n",
       "  <tbody>\n",
       "    <tr>\n",
       "      <td>0</td>\n",
       "      <td>Wii Sports</td>\n",
       "      <td>Wii</td>\n",
       "      <td>2006.0</td>\n",
       "      <td>Sports</td>\n",
       "      <td>41.36</td>\n",
       "      <td>28.96</td>\n",
       "      <td>3.77</td>\n",
       "      <td>8.45</td>\n",
       "      <td>76.0</td>\n",
       "      <td>8</td>\n",
       "      <td>E</td>\n",
       "      <td>82.54</td>\n",
       "    </tr>\n",
       "    <tr>\n",
       "      <td>1</td>\n",
       "      <td>Mario Kart Wii</td>\n",
       "      <td>Wii</td>\n",
       "      <td>2008.0</td>\n",
       "      <td>Racing</td>\n",
       "      <td>15.68</td>\n",
       "      <td>12.76</td>\n",
       "      <td>3.79</td>\n",
       "      <td>3.29</td>\n",
       "      <td>82.0</td>\n",
       "      <td>8.3</td>\n",
       "      <td>E</td>\n",
       "      <td>35.52</td>\n",
       "    </tr>\n",
       "    <tr>\n",
       "      <td>2</td>\n",
       "      <td>Wii Sports Resort</td>\n",
       "      <td>Wii</td>\n",
       "      <td>2009.0</td>\n",
       "      <td>Sports</td>\n",
       "      <td>15.61</td>\n",
       "      <td>10.93</td>\n",
       "      <td>3.28</td>\n",
       "      <td>2.95</td>\n",
       "      <td>80.0</td>\n",
       "      <td>8</td>\n",
       "      <td>E</td>\n",
       "      <td>32.77</td>\n",
       "    </tr>\n",
       "    <tr>\n",
       "      <td>3</td>\n",
       "      <td>New Super Mario Bros.</td>\n",
       "      <td>DS</td>\n",
       "      <td>2006.0</td>\n",
       "      <td>Platform</td>\n",
       "      <td>11.28</td>\n",
       "      <td>9.14</td>\n",
       "      <td>6.50</td>\n",
       "      <td>2.88</td>\n",
       "      <td>89.0</td>\n",
       "      <td>8.5</td>\n",
       "      <td>E</td>\n",
       "      <td>29.80</td>\n",
       "    </tr>\n",
       "    <tr>\n",
       "      <td>4</td>\n",
       "      <td>Wii Play</td>\n",
       "      <td>Wii</td>\n",
       "      <td>2006.0</td>\n",
       "      <td>Misc</td>\n",
       "      <td>13.96</td>\n",
       "      <td>9.18</td>\n",
       "      <td>2.93</td>\n",
       "      <td>2.84</td>\n",
       "      <td>58.0</td>\n",
       "      <td>6.6</td>\n",
       "      <td>E</td>\n",
       "      <td>28.91</td>\n",
       "    </tr>\n",
       "  </tbody>\n",
       "</table>\n",
       "</div>"
      ],
      "text/plain": [
       "                    name platform  year_of_release     genre  na_sales  \\\n",
       "0             Wii Sports      Wii           2006.0    Sports     41.36   \n",
       "1         Mario Kart Wii      Wii           2008.0    Racing     15.68   \n",
       "2      Wii Sports Resort      Wii           2009.0    Sports     15.61   \n",
       "3  New Super Mario Bros.       DS           2006.0  Platform     11.28   \n",
       "4               Wii Play      Wii           2006.0      Misc     13.96   \n",
       "\n",
       "   eu_sales  jp_sales  other_sales  critic_score user_score rating  \\\n",
       "0     28.96      3.77         8.45          76.0          8      E   \n",
       "1     12.76      3.79         3.29          82.0        8.3      E   \n",
       "2     10.93      3.28         2.95          80.0          8      E   \n",
       "3      9.14      6.50         2.88          89.0        8.5      E   \n",
       "4      9.18      2.93         2.84          58.0        6.6      E   \n",
       "\n",
       "   total_sales  \n",
       "0        82.54  \n",
       "1        35.52  \n",
       "2        32.77  \n",
       "3        29.80  \n",
       "4        28.91  "
      ]
     },
     "execution_count": 35,
     "metadata": {},
     "output_type": "execute_result"
    }
   ],
   "source": [
    "#Finding out total sales per platform and plotting a bar graph\n",
    "total_sales_platform = game_info.groupby('platform')['total_sales'].agg({'total_sales':'sum'})\n",
    "total_sales_platform.sort_values(by='total_sales',ascending=False,inplace=True)\n",
    "total_sales_plot = total_sales_platform['total_sales'].plot.bar(figsize=(10,5))\n",
    "total_sales_plot.set_title('Total sales per platform',fontsize=(15))\n",
    "total_sales_plot.set_ylabel('total sales')\n",
    "pyplot.show()\n",
    "\n",
    "#Selecting platforms with highest number of sales\n",
    "print(total_sales_platform.head())\n",
    "\n",
    "#Selecting the data of platforms with highest sales\n",
    "platform_sales = game_info.query('platform == [\"DS\",\"PS2\",\"PS3\",\"Wii\",\"X360\"]')\n",
    "platform_sales = platform_sales.reset_index(drop=True)\n",
    "\n",
    "platform_sales.head()\n"
   ]
  },
  {
   "cell_type": "markdown",
   "metadata": {},
   "source": [
    "#### Conclusion"
   ]
  },
  {
   "cell_type": "markdown",
   "metadata": {},
   "source": [
    "- PS2,X360,PS3,Wii,DS,PS are the platforms which have high number of sales"
   ]
  },
  {
   "cell_type": "markdown",
   "metadata": {},
   "source": [
    "### Determine what period you should take data for. To do so, look at your answers to the previous questions. The data should allow you to build a prognosis for 2017."
   ]
  },
  {
   "cell_type": "code",
   "execution_count": 29,
   "metadata": {},
   "outputs": [
    {
     "name": "stdout",
     "output_type": "stream",
     "text": [
      "Games data after the year 2013\n",
      "                                         name platform  year_of_release  \\\n",
      "31                  Call of Duty: Black Ops 3      PS4           2015.0   \n",
      "42                         Grand Theft Auto V      PS4           2014.0   \n",
      "47  Pokemon Omega Ruby/Pokemon Alpha Sapphire      3DS           2014.0   \n",
      "77                                    FIFA 16      PS4           2015.0   \n",
      "87               Star Wars Battlefront (2015)      PS4           2015.0   \n",
      "\n",
      "           genre  na_sales  eu_sales  jp_sales  other_sales  critic_score  \\\n",
      "31       Shooter      6.03      5.86      0.36         2.38           NaN   \n",
      "42        Action      3.96      6.31      0.38         1.97          97.0   \n",
      "47  Role-Playing      4.35      3.49      3.10         0.74           NaN   \n",
      "77        Sports      1.12      6.12      0.06         1.28          82.0   \n",
      "87       Shooter      2.99      3.49      0.22         1.28           NaN   \n",
      "\n",
      "   user_score     rating  total_sales  \n",
      "31        NaN  undefined        14.63  \n",
      "42        8.3          M        12.62  \n",
      "47        NaN  undefined        11.68  \n",
      "77        4.3          E         8.58  \n",
      "87        NaN  undefined         7.98  \n"
     ]
    },
    {
     "data": {
      "image/png": "[encoded data removed]",
      "text/plain": [
       "<Figure size 720x360 with 1 Axes>"
      ]
     },
     "metadata": {
      "needs_background": "light"
     },
     "output_type": "display_data"
    }
   ],
   "source": [
    "\n",
    "#Based on the 10 year lifetime,selecting data after 2013 for 2017 prognosis\n",
    "print('Games data after the year 2013')\n",
    "games = game_info[game_info['year_of_release'] > 2013]\n",
    "print(games.head())\n",
    "\n",
    "\n",
    "#Changing the user_score to int datatype\n",
    "games['user_score'] =  games['user_score'].astype('float')\n",
    "\n",
    "\n",
    "#calculating total sales for each platform per year\n",
    "platform_sales_year = platform_sales.groupby(['platform','year_of_release'])['total_sales'].agg({'total_sales':'sum'})\n",
    "platform_sales_year = platform_sales_year.reset_index()\n",
    "\n",
    "\n",
    "#Analysing the timeline required for 2017 prognosis by finding distributions of platform sales based on year of release\\n\",\n",
    "platform_sales_yearpivot = platform_sales_year.pivot_table(index='year_of_release',columns='platform',values='total_sales')\n",
    "platform_sales_yearplot = platform_sales_yearpivot.plot(kind = 'line',rot=100,figsize=(10,5),fontsize=13, alpha = 0.8)\n",
    "platform_sales_yearplot.set_title('Graph showing distributions of highest sales platforms as per their release years',fontsize=15)\n",
    "platform_sales_yearplot.set_xlabel('year of release',fontsize=13)\n",
    "platform_sales_yearplot.legend()\n",
    "platform_sales_yearplot.set_ylabel('total number of sales',fontsize=13)\n",
    "pyplot.show()\n",
    "\n",
    "\n",
    "\n"
   ]
  },
  {
   "cell_type": "markdown",
   "metadata": {},
   "source": [
    "#### Conclusion"
   ]
  },
  {
   "cell_type": "markdown",
   "metadata": {},
   "source": [
    "- PS2: We see that the leader in sales in the entire history of the PS2. But sales by 2011 are already equal to zero. Or X360: it was at its peak in 2010, but by 2016 it had dropped to almost 0. \n",
    "- From the above line graph it's clearly evident that the platforms that were once most popular ones don't have sales in 2016 at all  such as PS2,DS\n",
    "- However, there are very few sales for about less than 5 million USD for the PS3,Wii and X360 platforms.\n",
    "- By looking at the graph we can say that usually the platforms are in the market for around 10 years\n",
    "- Based on the above findings , we can say that data after the year 2013 would be perfect for our analysis. The relevance of the game falls according to the charts on average for 3-4 years (since games quickly become obsolete, although they can continue to be sold in stores) Accordingly, if we choose a longer period,we risk capturing a lagging trend, i.e. we include in the data irrelevant pre-period platforms that should not remain in the data for the predicted period.\n",
    "- We have formed a new dataframe `games` with the data after the year 2013"
   ]
  },
  {
   "cell_type": "markdown",
   "metadata": {},
   "source": [
    "### Which platforms are leading in sales? Which ones are growing or shrinking? Select several potentially profitable platforms."
   ]
  },
  {
   "cell_type": "code",
   "execution_count": 36,
   "metadata": {},
   "outputs": [
    {
     "name": "stdout",
     "output_type": "stream",
     "text": [
      "\n",
      "Total sales per platform\n"
     ]
    },
    {
     "data": {
      "image/png": "[encoded data removed]",
      "text/plain": [
       "<Figure size 720x360 with 1 Axes>"
      ]
     },
     "metadata": {
      "needs_background": "light"
     },
     "output_type": "display_data"
    },
    {
     "name": "stdout",
     "output_type": "stream",
     "text": [
      "\n",
      " Growing platforms:\n",
      "          total_sales\n",
      "platform             \n",
      "PS4            288.15\n",
      "XOne           140.36\n",
      "3DS             86.68\n",
      "PS3             68.18\n",
      "X360            48.22\n",
      "\n",
      " Sinking platforms:\n",
      "          total_sales\n",
      "platform             \n",
      "WiiU            42.98\n",
      "PC              27.05\n",
      "PSV             22.40\n",
      "Wii              5.07\n",
      "PSP              0.36\n"
     ]
    }
   ],
   "source": [
    "\n",
    "#Finding platforms that are leading and lagging in sales  and also plotting a bar graph\n",
    "new_platform_sales = games.groupby('platform')['total_sales'].agg({'total_sales':'sum'})\n",
    "new_platform_sales.sort_values(by='total_sales',ascending=False,inplace=True)\n",
    "print('\\nTotal sales per platform')\n",
    "#print(new_platform_sales.head())\n",
    "new_platform_salesplot = new_platform_sales['total_sales'].plot.bar(figsize=(10,5))\n",
    "new_platform_salesplot.set_title('Total sales per platform',fontsize=(15))\n",
    "new_platform_salesplot.set_ylabel('total sales')\n",
    "pyplot.show()\n",
    "\n",
    "print('\\n Growing platforms:')\n",
    "print(new_platform_sales.head(5))\n",
    "print('\\n Sinking platforms:')\n",
    "print(new_platform_sales.tail(5))\n",
    "\n"
   ]
  },
  {
   "cell_type": "markdown",
   "metadata": {},
   "source": [
    "#### Conclusion"
   ]
  },
  {
   "cell_type": "markdown",
   "metadata": {},
   "source": [
    "- We can now see which platforms turns in more sales. PS4,Xone,3DS,PS3 and X360 are leading in sales."
   ]
  },
  {
   "cell_type": "markdown",
   "metadata": {},
   "source": [
    "### Build a box plot for the global sales of all games, broken down by platform. "
   ]
  },
  {
   "cell_type": "code",
   "execution_count": 10,
   "metadata": {},
   "outputs": [
    {
     "data": {
      "image/png": "[encoded data removed]",
      "text/plain": [
       "<Figure size 1080x360 with 1 Axes>"
      ]
     },
     "metadata": {
      "needs_background": "light"
     },
     "output_type": "display_data"
    },
    {
     "name": "stdout",
     "output_type": "stream",
     "text": [
      "Average of the sales of each platform:\n",
      "          total_sales\n",
      "platform             \n",
      "3DS          0.408868\n",
      "PC           0.179139\n",
      "PS3          0.311324\n",
      "PS4          0.766356\n",
      "PSP          0.027692\n",
      "PSV          0.075932\n",
      "Wii          0.460909\n",
      "WiiU         0.588767\n",
      "X360         0.434414\n",
      "XOne         0.615614\n"
     ]
    }
   ],
   "source": [
    "\n",
    "#Build a box plot for the global sales of all games, broken down by platform.\n",
    "games.boxplot(column = ['total_sales'], by = 'platform' ,figsize = (15,5)).set(title='Graph showing total sales for different years of release', xlabel='platform type', ylabel='Total Sales')\n",
    "pyplot.show()\n",
    "plat_sales = games.pivot_table(index='platform',values='total_sales')\n",
    "print('Average of the sales of each platform:')\n",
    "print(plat_sales)\n"
   ]
  },
  {
   "cell_type": "markdown",
   "metadata": {},
   "source": [
    "#### Conclusion"
   ]
  },
  {
   "cell_type": "markdown",
   "metadata": {},
   "source": [
    "- From the above boxplot we can see the amount of  difference in the global sales of these platforms, here the total sales vary from almost 1 million USD to 36 million USD\n"
   ]
  },
  {
   "cell_type": "markdown",
   "metadata": {},
   "source": [
    "### Build a scatter plot and calculate the correlation between reviews and sales for one popular platform (PS4)"
   ]
  },
  {
   "cell_type": "code",
   "execution_count": 51,
   "metadata": {
    "scrolled": true
   },
   "outputs": [
    {
     "name": "stdout",
     "output_type": "stream",
     "text": [
      "Correlation between sales of PS4 and critic score is 0.40266141068104083\n",
      "Correlation between sales of PS4 and user score is -0.040131589472697356\n"
     ]
    },
    {
     "data": {
      "image/png": "[encoded data removed]",
      "text/plain": [
       "<Figure size 432x288 with 1 Axes>"
      ]
     },
     "metadata": {
      "needs_background": "light"
     },
     "output_type": "display_data"
    },
    {
     "data": {
      "image/png": "[encoded data removed]",
      "text/plain": [
       "<Figure size 432x288 with 1 Axes>"
      ]
     },
     "metadata": {
      "needs_background": "light"
     },
     "output_type": "display_data"
    }
   ],
   "source": [
    "#selecting PS4 data \n",
    "ps4_data = games.query(\"platform =='PS4'\")\n",
    "ps4_data.isna().sum()\n",
    "\n",
    "\n",
    "# plotting scatter plot for critic score and user score and sales of PS4 platform\n",
    "scatter_graphc = ps4_data.plot(x='total_sales',y='critic_score',kind='scatter',alpha = 0.6) \n",
    "scatter_graphc.set_title('Scatter plot of sales and critic score' )\n",
    "scatter_graphu = ps4_data.plot(x='total_sales',y='user_score',kind='scatter',alpha = 0.6) \n",
    "scatter_graphu.set_title('Scatter plot of sales and user score' )\n",
    "\n",
    "\n",
    "#Finding the correlation between critic score and user score and sales of PS4 platform\n",
    "print('Correlation between sales of PS4 and critic score is', (ps4_data['total_sales']).corr(ps4_data['critic_score']))\n",
    "print('Correlation between sales of PS4 and user score is', (ps4_data['total_sales']).corr(ps4_data['user_score']))\n"
   ]
  },
  {
   "cell_type": "markdown",
   "metadata": {},
   "source": [
    "#### Conclusion"
   ]
  },
  {
   "cell_type": "markdown",
   "metadata": {},
   "source": [
    "\n",
    "- Here we can see that the correlation between critic score and sales is approximately 0.4 which indicates that as the critic score increases the number of sales also increases. \n",
    "- Also we  see that the correlation between user score and sales is approximately -0.166 which indicates that there is a low dependency between the user score and the number of sales  .\n",
    "- Both the Scatter plot graphs also confirm the same\n"
   ]
  },
  {
   "cell_type": "markdown",
   "metadata": {},
   "source": [
    "### Compare the sales of the same games on other platforms."
   ]
  },
  {
   "cell_type": "code",
   "execution_count": 54,
   "metadata": {},
   "outputs": [
    {
     "name": "stdout",
     "output_type": "stream",
     "text": [
      "Correlation between sales of PS4 and critic score is 0.28652300431660405\n",
      "Correlation between sales of PS4 and user score is -0.14040603058285647\n"
     ]
    },
    {
     "data": {
      "image/png": "[encoded data removed]",
      "text/plain": [
       "<Figure size 432x288 with 1 Axes>"
      ]
     },
     "metadata": {
      "needs_background": "light"
     },
     "output_type": "display_data"
    },
    {
     "data": {
      "image/png": "[encoded data removed]",
      "text/plain": [
       "<Figure size 432x288 with 1 Axes>"
      ]
     },
     "metadata": {
      "needs_background": "light"
     },
     "output_type": "display_data"
    }
   ],
   "source": [
    "# comparing the sales of the same games of PS4 platform on other platforms\n",
    "\n",
    "nonps4_sales = games[games.name.isin(ps4_data.name)]\n",
    "nonps4_sales = nonps4_sales[nonps4_sales.platform != 'PS4']\n",
    "\n",
    "# plotting scatter plot for critic score and user score and sales of non PS4 platform\n",
    "scatter_graphc_nonps4 = nonps4_sales.plot(x='total_sales',y='critic_score',kind='scatter',alpha = 0.6) \n",
    "scatter_graphc_nonps4.set_title('Scatter plot of sales and critic score' )\n",
    "scatter_graphu_nonps4 = nonps4_sales.plot(x='total_sales',y='user_score',kind='scatter',alpha = 0.6) \n",
    "scatter_graphu_nonps4.set_title('Scatter plot of sales and user score' )\n",
    "\n",
    "\n",
    "#Finding the correlation between critic score and user score and sales of non PS4 platform\n",
    "print('Correlation between sales of PS4 and critic score is', (nonps4_sales['total_sales']).corr(nonps4_sales['critic_score']))\n",
    "print('Correlation between sales of PS4 and user score is', (nonps4_sales['total_sales']).corr(nonps4_sales['user_score']))"
   ]
  },
  {
   "cell_type": "markdown",
   "metadata": {},
   "source": [
    "#### Conclusion"
   ]
  },
  {
   "cell_type": "markdown",
   "metadata": {},
   "source": [
    "\n",
    "\n",
    "- Here we can see that the correlation between critic score and sales is approximately 0.3 which indicates that as the critic score increases the number of sales also increases. \n",
    "- Also we  see that the correlation between user score and sales is approximately -0.140 which indicates that there is a low dependency between the user score and the number of sales  .\n",
    "- Both the Scatter plot graphs also confirm the same, it follows the same pattern of PS4 platform but just the intensity is different\n",
    "- We might conclude that games performance depends on the platform. \n",
    "\n"
   ]
  },
  {
   "cell_type": "markdown",
   "metadata": {},
   "source": [
    "### Take a look at the general distribution of games by genre. "
   ]
  },
  {
   "cell_type": "code",
   "execution_count": 59,
   "metadata": {},
   "outputs": [
    {
     "name": "stdout",
     "output_type": "stream",
     "text": [
      "              total_games  total_sales     ratio\n",
      "genre                                           \n",
      "Shooter               128       170.94  1.335469\n",
      "Sports                161       109.48  0.680000\n",
      "Platform               38        18.09  0.476053\n",
      "Fighting               60        28.22  0.470333\n",
      "Role-Playing          221       101.44  0.459005\n",
      "Racing                 69        27.52  0.398841\n",
      "Misc                  113        37.55  0.332301\n",
      "Action                619       199.36  0.322068\n",
      "Simulation             44        13.13  0.298409\n",
      "Puzzle                 14         2.21  0.157857\n",
      "Strategy               37         3.96  0.107027\n",
      "Adventure             185        17.55  0.094865\n"
     ]
    }
   ],
   "source": [
    "#calculating total number of sales and games for each genre\n",
    "genre_sales = games.pivot_table(index='genre',values=['total_sales','name'],aggfunc={'total_sales':'sum','name':'count'})\n",
    "genre_sales.sort_values(by=['name','total_sales'],ascending=False,inplace=True)\n",
    "genre_sales.rename(columns={'name':'total_games'},inplace=True)\n",
    "genre_sales['ratio'] = genre_sales['total_sales'] / genre_sales['total_games']\n",
    "print(genre_sales.sort_values('ratio', ascending = False))\n",
    "\n"
   ]
  },
  {
   "cell_type": "markdown",
   "metadata": {},
   "source": [
    "#### Conclusion"
   ]
  },
  {
   "cell_type": "markdown",
   "metadata": {},
   "source": [
    "- When we compare the global sales and genre we need to take into consideration the total number of games as well! Because we can see that second highest number of games are for Action genre but the sales is not proportionate compared to other genres\n",
    "- Shooter games perform the best in terms of sales to number of games ratio"
   ]
  },
  {
   "cell_type": "markdown",
   "metadata": {},
   "source": [
    "### Choose the platforms with the greatest total sales and build a distribution based on data for each year. Find platforms that used to be popular but now have zero sales. How long does it generally take for new platforms to appear and old ones to fade?"
   ]
  },
  {
   "cell_type": "code",
   "execution_count": 56,
   "metadata": {},
   "outputs": [
    {
     "data": {
      "image/png": "[encoded data removed]",
      "text/plain": [
       "<Figure size 1224x504 with 1 Axes>"
      ]
     },
     "metadata": {
      "needs_background": "light"
     },
     "output_type": "display_data"
    },
    {
     "name": "stdout",
     "output_type": "stream",
     "text": [
      "platform           3DS     PS4    PSV   WiiU   XOne\n",
      "year_of_release                                    \n",
      "2014.0           43.76  100.00  11.90  22.03  54.07\n",
      "2015.0           27.78  118.90   6.25  16.35  60.14\n",
      "2016.0           15.14   69.25   4.25   4.60  26.15\n"
     ]
    }
   ],
   "source": [
    "#Selecting the data of platforms with highest sales -  comparing the sales of the same games on other platforms\n",
    "platform_othersales = games.query('platform == [\"3DS\",\"PS4\",\"PSV\",\"WiiU\",\"XOne\"]')\n",
    "platform_othersales = platform_othersales.reset_index()\n",
    "#platform_sales.drop(columns=['index'])\n",
    "platform_othersales.head()\n",
    "\n",
    "#calculating total sales for each platform per year -  compare the sales of the same games on other platforms\n",
    "platform_othersales_year = platform_othersales.groupby(['platform','year_of_release'])['total_sales'].agg({'total_sales':'sum'})\n",
    "platform_othersales_year = platform_othersales_year.reset_index()\n",
    "\n",
    "\n",
    "#finding distributions of other platform sales based on year of release -  compare the sales of the same games on other platforms\n",
    "platform_othersales_yearpivot = platform_othersales_year.pivot_table(index='year_of_release',columns='platform',values='total_sales')\n",
    "platform_othersales_yearplot = platform_othersales_yearpivot.plot(kind = 'line',rot=100,figsize=(17,7),fontsize=13, alpha = 0.8)\n",
    "platform_othersales_yearplot.set_title('Graph showing distributions of highest sales of the other platforms as per their release years',fontsize=15)\n",
    "platform_othersales_yearplot.set_xlabel('year of release',fontsize=13)\n",
    "platform_othersales_yearplot.legend()\n",
    "platform_othersales_yearplot.set_ylabel('total number of sales',fontsize=13)\n",
    "pyplot.show()\n",
    "print(platform_othersales_yearpivot)\n",
    "\n",
    "\n"
   ]
  },
  {
   "cell_type": "markdown",
   "metadata": {},
   "source": [
    "#### Conclusion"
   ]
  },
  {
   "cell_type": "markdown",
   "metadata": {},
   "source": [
    "\n",
    "- There is no one conclusion to say about the dependency\n",
    "- From the above line graph we see that the other platforms the ones apart from the previous anmalysed graphs also show same kind of pattern, i.e they reach to a peak and then they have a gradual fall."
   ]
  },
  {
   "cell_type": "markdown",
   "metadata": {},
   "source": [
    "## Create a user profile for each region"
   ]
  },
  {
   "cell_type": "markdown",
   "metadata": {},
   "source": [
    "### The top five platforms based on their market shares from region to region. For each region (NA, EU, JP)"
   ]
  },
  {
   "cell_type": "code",
   "execution_count": 16,
   "metadata": {},
   "outputs": [
    {
     "data": {
      "image/png": "[encoded data removed]",
      "text/plain": [
       "<Figure size 720x360 with 1 Axes>"
      ]
     },
     "metadata": {
      "needs_background": "light"
     },
     "output_type": "display_data"
    }
   ],
   "source": [
    "#creating pivot tables for all the three regions to calculate their corresponding regional sales per platform\n",
    "na_platform = games.pivot_table(index='platform',values='na_sales',aggfunc='sum')\n",
    "na_platform.reset_index(inplace=True)\n",
    "eu_platform = games.pivot_table(index='platform',values='eu_sales',aggfunc='sum')\n",
    "eu_platform.reset_index(inplace=True)\n",
    "jp_platform = games.pivot_table(index='platform',values='jp_sales',aggfunc='sum')\n",
    "jp_platform.reset_index(inplace=True)\n",
    "\n",
    "\n",
    "#plotting a bar graph representing regional sales per platform over different regions\n",
    "x = np.arange(len(na_platform['platform']))\n",
    "width=0.25\n",
    "fig, ax = pyplot.subplots(figsize=(10,5))\n",
    "r1 = ax.bar(x - width/2, na_platform['na_sales'], width, label='North America')\n",
    "r2 = ax.bar(x + width/2, eu_platform['eu_sales'], width, label='Europe')\n",
    "r3 = ax.bar(x + width, jp_platform['jp_sales'], width, label='Japan')\n",
    "pyplot.legend(loc='upper right')\n",
    "fig.tight_layout()\n",
    "ax.set_ylabel('regional sales')\n",
    "ax.set_xlabel('platforms')\n",
    "ax.set_title('Bar graph plotting regional sales in different regions')\n",
    "ax.set_xticks(x)\n",
    "ax.set_xticklabels(na_platform['platform'])\n",
    "pyplot.show()"
   ]
  },
  {
   "cell_type": "markdown",
   "metadata": {},
   "source": [
    "#### Conclusion"
   ]
  },
  {
   "cell_type": "markdown",
   "metadata": {},
   "source": [
    "- From the above graph we can see that  the following platforms were most profitable in corresponding regions:\n",
    "1. North America - PS4,XOne,X360,PS3 and 3DS\n",
    "2. Europe - PS4,XOne,X360,PS3 and PS\n",
    "3. Japan - 3DS,PS3,PS4,PSV and Wiiu\n",
    "- We can see that there we very few sales in Japan when compared to other two regions which was followed by Europe, there by making highest sales in North America.\n",
    "- The most common profitable platforms among all the three regions are 'PS3', 'PS4','3DS'."
   ]
  },
  {
   "cell_type": "markdown",
   "metadata": {},
   "source": [
    "### The top five genres.  For each region (NA, EU, JP)"
   ]
  },
  {
   "cell_type": "code",
   "execution_count": 17,
   "metadata": {},
   "outputs": [
    {
     "data": {
      "image/png": "[encoded data removed]",
      "text/plain": [
       "<Figure size 720x360 with 1 Axes>"
      ]
     },
     "metadata": {
      "needs_background": "light"
     },
     "output_type": "display_data"
    }
   ],
   "source": [
    "# creating pivot tables for all the three regions to calculate their corresponding regional sales per genre\\n\",\n",
    "na_genre = games.pivot_table(index='genre',values='na_sales',aggfunc='sum')\n",
    "na_genre.reset_index(inplace=True)\n",
    "eu_genre = games.pivot_table(index='genre',values='eu_sales',aggfunc='sum')\n",
    "eu_genre.reset_index(inplace=True)\n",
    "jp_genre = games.pivot_table(index='genre',values='jp_sales',aggfunc='sum')\n",
    "jp_genre.reset_index(inplace=True)\n",
    "\n",
    "\n",
    "#plotting a bar graph representing regional sales per genre over different regions\n",
    "x = np.arange(len(na_genre['genre']))\n",
    "width=0.25\n",
    "fig, ax = pyplot.subplots(figsize=(10,5))\n",
    "r1 = ax.bar(x - width/2, na_genre['na_sales'], width, label='North America')\n",
    "r2 = ax.bar(x + width/2, eu_genre['eu_sales'], width, label='Europe')\n",
    "r3 = ax.bar(x + width, jp_genre['jp_sales'], width, label='Japan')\n",
    "pyplot.legend(loc='upper right')\n",
    "fig.tight_layout()\n",
    "ax.set_ylabel('regional sales')\n",
    "ax.set_xlabel('genre')\n",
    "ax.set_title('Bar graph plotting regional sales in different genre')\n",
    "ax.set_xticks(x)\n",
    "ax.set_xticklabels(na_genre['genre'])\n",
    "pyplot.show()"
   ]
  },
  {
   "cell_type": "markdown",
   "metadata": {},
   "source": [
    "#### Conclusion"
   ]
  },
  {
   "cell_type": "markdown",
   "metadata": {},
   "source": [
    "- The top 5 genre for :\n",
    "    - NA: Action, Misc,Role Playing,Shooter,Sports\n",
    "    - Europe: Action,Misc,Racing,Shooter,Sports\n",
    "    - Japan: Action, Adventure, Fighting, Misc, RolePlaying, Sports\n",
    "- The difference being same as the Platform- it follows the similar pattern. NA>Europe>Japan"
   ]
  },
  {
   "cell_type": "markdown",
   "metadata": {},
   "source": [
    "### Do ESRB ratings affect sales in individual regions?  For each region (NA, EU, JP)"
   ]
  },
  {
   "cell_type": "code",
   "execution_count": 18,
   "metadata": {},
   "outputs": [
    {
     "data": {
      "image/png": "[encoded data removed]",
      "text/plain": [
       "<Figure size 720x360 with 1 Axes>"
      ]
     },
     "metadata": {
      "needs_background": "light"
     },
     "output_type": "display_data"
    }
   ],
   "source": [
    "#creating pivot tables for all the three regions to calculate their corresponding regional sales for different ratings\n",
    "na_rating = games.pivot_table(index='rating',values='na_sales',aggfunc='sum')\n",
    "na_rating.reset_index(inplace=True)\n",
    "eu_rating = games.pivot_table(index='rating',values='eu_sales',aggfunc='sum')\n",
    "eu_rating.reset_index(inplace=True)\n",
    "jp_rating = games.pivot_table(index='rating',values='jp_sales',aggfunc='sum')\n",
    "jp_rating.reset_index(inplace=True)\n",
    "\n",
    "#plotting a bar graph representing regional sales over different regions for different ratings\n",
    "x = np.arange(len(na_rating['rating']))\n",
    "width=0.25\n",
    "fig, ax = pyplot.subplots(figsize=(10,5))\n",
    "r1 = ax.bar(x - width/2, na_rating['na_sales'], width, label='North America')\n",
    "r2 = ax.bar(x + width/2, eu_rating['eu_sales'], width, label='Europe')\n",
    "r3 = ax.bar(x + width, jp_rating['jp_sales'], width, label='Japan')\n",
    "pyplot.legend(loc='upper right')\n",
    "fig.tight_layout()\n",
    "ax.set_ylabel('regional sales')\n",
    "ax.set_xlabel('Types of ratings')\n",
    "ax.set_title('Bar graph plotting regional sales in different regions')\n",
    "ax.set_xticks(x)\n",
    "ax.set_xticklabels(na_rating['rating'])\n",
    "pyplot.show()"
   ]
  },
  {
   "cell_type": "markdown",
   "metadata": {},
   "source": [
    "#### Conclusion"
   ]
  },
  {
   "cell_type": "markdown",
   "metadata": {},
   "source": [
    "- The top ratings for :\n",
    "    - NA: M>undefined>E>T>E10+\n",
    "    - Europe: M>E>undefined>T>E10+\n",
    "    - Japan: undefined>T>E>M>E10+\n",
    "- We can here notice that NA and Europe follow kind of similar pattern regarding the ESRB rating whereas Japan there is a higher sale of Teen rated games when excluding the undefined rating of ESRB"
   ]
  },
  {
   "cell_type": "markdown",
   "metadata": {},
   "source": [
    "## Test the following hypotheses:"
   ]
  },
  {
   "cell_type": "markdown",
   "metadata": {},
   "source": [
    "### Average user ratings of the Xbox One and PC platforms are the same."
   ]
  },
  {
   "cell_type": "markdown",
   "metadata": {},
   "source": [
    "\n",
    "We start with the null hypothesis H₀ : “Average user ratings of the Xbox One and PC platforms are the same.” The alternative hypothesis, H₁, is based on H₀. For this H₀, H₁ would be, “Average user ratings of the Xbox One and PC platforms are not same.”"
   ]
  },
  {
   "cell_type": "code",
   "execution_count": 19,
   "metadata": {},
   "outputs": [
    {
     "name": "stdout",
     "output_type": "stream",
     "text": [
      "Statistics=nan, p=1.000\n",
      "Sample looks Gaussian (fail to reject H0)\n",
      "Statistics=nan, p=1.000\n",
      "Sample looks Gaussian (fail to reject H0)\n",
      "Equal variance (fail to reject H0)\n",
      "\n",
      "\n",
      " Student's t-test\n",
      "Different distribution (reject H0)\n"
     ]
    }
   ],
   "source": [
    "games['user_score'] = games['user_score'].astype('float')\n",
    "#check the normality of the distribution\n",
    "xone= games.query(\"platform=='XOne'\")\n",
    "pc = games.query(\"platform=='PC'\")\n",
    "\n",
    "# Shapiro-Wilk Test for Xbox One\n",
    "stat, p = shapiro(xone.user_score)\n",
    "print('Statistics=%.3f, p=%.3f' % (stat, p))\n",
    "# interpret\n",
    "alpha = 0.05\n",
    "if p > alpha:\n",
    "    print('Sample looks Gaussian (fail to reject H0)')\n",
    "else:\n",
    "    print('Sample does not look Gaussian (reject H0)')\n",
    " \n",
    "# Shapiro-Wilk Test for PC\n",
    "stat, p = shapiro(pc.user_score)\n",
    "print('Statistics=%.3f, p=%.3f' % (stat, p))\n",
    "# interpret\n",
    "alpha = 0.05\n",
    "if p > alpha:\n",
    "    print('Sample looks Gaussian (fail to reject H0)')\n",
    "else:\n",
    "    print('Sample does not look Gaussian (reject H0)')\n",
    "    \n",
    "\n",
    "# checking for variance\n",
    "stats.levene(xone.user_score, pc.user_score)\n",
    "# interpret\n",
    "alpha = 0.05\n",
    "if p > alpha:\n",
    "    print('Equal variance (fail to reject H0)')\n",
    "else:\n",
    "    print('Unequal variance (reject H0)')\n",
    "    \n",
    "    \n",
    "#t-test with unequal variance\n",
    "results = stats.ttest_ind(\n",
    "        xone.user_score, \n",
    "        pc.user_score, equal_var = True)\n",
    "#\n",
    "\n",
    "print(\"\\n\\n Student's t-test\" ) \n",
    "alpha = 0.05\n",
    "if results.pvalue > alpha:\n",
    "    print('Same distribution (fail to reject H0)')\n",
    "else:\n",
    "    print('Different distribution (reject H0)')\n",
    "    \n"
   ]
  },
  {
   "cell_type": "markdown",
   "metadata": {},
   "source": [
    "#### Conclusion"
   ]
  },
  {
   "cell_type": "markdown",
   "metadata": {},
   "source": [
    "Here I decided to conduct a 't' test as we need to check for the equality of two means by passing the two arrays whose means are to be tested and has set the equal variance parameter to 'True' as we are checking the null hypothesis and the average values are not to be equal.\n",
    "\n",
    "As a result of the test we can see that the p-value is less than the level of significance, resulting where we can make the assumption that we can reject the null hypothesis, i.e the ratings of Xbox One and PC platforms are not the same."
   ]
  },
  {
   "cell_type": "markdown",
   "metadata": {},
   "source": [
    "### Average user ratings for the Action and Sports genres are different."
   ]
  },
  {
   "cell_type": "markdown",
   "metadata": {},
   "source": [
    "\n",
    "We start with the null hypothesis H₀ : “Average user ratings for the Action and Sports genres are different.” The alternative hypothesis, H₁, is based on H₀. For this H₀, H₁ would be, “Average user ratings for the Action and Sports genres are same.”"
   ]
  },
  {
   "cell_type": "code",
   "execution_count": 20,
   "metadata": {},
   "outputs": [
    {
     "name": "stdout",
     "output_type": "stream",
     "text": [
      "Statistics=nan, p=1.000\n",
      "Sample looks Gaussian (fail to reject H0)\n",
      "Statistics=nan, p=1.000\n",
      "Sample looks Gaussian (fail to reject H0)\n",
      "Equal variance (fail to reject H0)\n",
      "\n",
      "\n",
      " Student's t-test\n",
      "Different distribution (reject H0)\n"
     ]
    }
   ],
   "source": [
    "#check the normality of the distribution\n",
    "action= games.query(\"genre=='Action'\")\n",
    "sports = games.query(\"genre=='Sports'\")\n",
    "\n",
    "# Shapiro-Wilk Test for action genre\n",
    "stat, p = shapiro(action.user_score)\n",
    "print('Statistics=%.3f, p=%.3f' % (stat, p))\n",
    "# interpret\n",
    "alpha = 0.05\n",
    "if p > alpha:\n",
    "    print('Sample looks Gaussian (fail to reject H0)')\n",
    "else:\n",
    "    print('Sample does not look Gaussian (reject H0)')\n",
    " \n",
    "# Shapiro-Wilk Test for sports genre\n",
    "stat, p = shapiro(sports.user_score)\n",
    "print('Statistics=%.3f, p=%.3f' % (stat, p))\n",
    "# interpret\n",
    "alpha = 0.05\n",
    "if p > alpha:\n",
    "    print('Sample looks Gaussian (fail to reject H0)')\n",
    "else:\n",
    "    print('Sample does not look Gaussian (reject H0)')\n",
    "    \n",
    "\n",
    "# checking for variance\n",
    "stats.levene(action.user_score, sports.user_score)\n",
    "# interpret\n",
    "alpha = 0.05\n",
    "if p > alpha:\n",
    "    print('Equal variance (fail to reject H0)')\n",
    "else:\n",
    "    print('Unequal variance (reject H0)')\n",
    "    \n",
    "\n",
    "#t-test with unequal variance\n",
    "results = stats.ttest_ind(\n",
    "        action.user_score, \n",
    "        sports.user_score, equal_var = True)\n",
    "#\n",
    "\n",
    "print(\"\\n\\n Student's t-test\" ) \n",
    "alpha = 0.05\n",
    "if results.pvalue > alpha:\n",
    "    print('Same distribution (fail to reject H0)')\n",
    "else:\n",
    "    print('Different distribution (reject H0)')\n",
    "    \n"
   ]
  },
  {
   "cell_type": "markdown",
   "metadata": {},
   "source": [
    "#### Conclusion"
   ]
  },
  {
   "cell_type": "markdown",
   "metadata": {},
   "source": [
    "- Here I decided to conduct a 't' test as we need to check for the equality of two means by passing the two arrays whose means are to be tested and has set the equal variance parameter to 'False' as we are checking the null hypothesis and the average values are not supposed to be equal.\n",
    "\n",
    "- As a result of the test we can see that the p-value is less than the level of significance, resulting where we can make the assumption that we can reject the null hypothesis.\n"
   ]
  },
  {
   "cell_type": "markdown",
   "metadata": {},
   "source": [
    "## Overall conclusion"
   ]
  },
  {
   "cell_type": "markdown",
   "metadata": {},
   "source": [
    "From the above analysis we can arrive at the following conclusions:\n",
    "\n",
    "The total number of games being sold in 20th century are far more higher than the numbewr of games that were being sold in late 1980's, this may be due to the developing modern technology that makes these games more and more interactive and interesting.\n",
    "\n",
    "We can see that since 2007 the most profitable platforms were PS3, X360, Wii, DS, PS4, 3DS, PC,PSP\n",
    "Generally platforms have an optimal lifetime of 10 years, after which the sales go down. Most probably the reason would be launch of a new updated version of the same platform or a complete new platform. Either way customer like to experience the new platforms.\n",
    "\n",
    "In order to make an effective analysis for 2017 it's better to consider most recent data that may be for about 4 years and there we can observe that the platforms like \"X360\",\"PS3\",\"3DS\",\"XOne\",\"PS4\" were the most popular ones, which are still going strong even in 2016.\n",
    "\n",
    "From the scatter plots drawn before it was clearly evident that the critic/official reviews do have a  impact on the preferences of video games to be bought by the users. But there are some die-hard fans who would just by the game without being affected by external factors. \n",
    "\n",
    " North America see much more higher  sales than the in Europe and Japan. We cannot ignore the fact the population of these regions play a huge factor. If we go by the density then they all have an equal average.\n",
    "\n",
    "In the end, we should focus on the hot selling platforms like 'PS4' and 'PS3' platforms and games with genres like Action, Shooter as they are the ones that have been selling like hot cakes."
   ]
  },
  {
   "cell_type": "markdown",
   "metadata": {},
   "source": [
    "Thank You!"
   ]
  }
 ],
 "metadata": {
  "ExecuteTimeLog": [
   {
    "duration": 1006,
    "start_time": "2021-08-17T15:14:16.658Z"
   },
   {
    "duration": 1311,
    "start_time": "2021-08-18T14:59:59.610Z"
   },
   {
    "duration": 164,
    "start_time": "2021-08-18T15:00:00.924Z"
   },
   {
    "duration": 3,
    "start_time": "2021-08-18T15:00:01.091Z"
   },
   {
    "duration": 24,
    "start_time": "2021-08-18T15:00:01.097Z"
   },
   {
    "duration": 14570,
    "start_time": "2021-08-18T15:00:01.124Z"
   },
   {
    "duration": 16,
    "start_time": "2021-08-18T15:00:15.696Z"
   },
   {
    "duration": 899,
    "start_time": "2021-08-18T15:00:15.714Z"
   },
   {
    "duration": 706,
    "start_time": "2021-08-18T15:00:16.615Z"
   },
   {
    "duration": 380,
    "start_time": "2021-08-18T15:00:17.327Z"
   },
   {
    "duration": 822,
    "start_time": "2021-08-18T15:00:17.710Z"
   },
   {
    "duration": 536,
    "start_time": "2021-08-18T15:00:18.535Z"
   },
   {
    "duration": 752,
    "start_time": "2021-08-18T15:00:19.074Z"
   },
   {
    "duration": 577,
    "start_time": "2021-08-18T15:00:19.830Z"
   },
   {
    "duration": 628,
    "start_time": "2021-08-18T15:00:20.410Z"
   },
   {
    "duration": 645,
    "start_time": "2021-08-18T15:00:21.041Z"
   },
   {
    "duration": 516,
    "start_time": "2021-08-18T15:00:21.689Z"
   },
   {
    "duration": 22,
    "start_time": "2021-08-18T15:00:22.208Z"
   },
   {
    "duration": 49,
    "start_time": "2021-08-18T15:00:22.233Z"
   },
   {
    "duration": 22,
    "start_time": "2021-08-18T15:21:48.662Z"
   },
   {
    "duration": 550,
    "start_time": "2021-08-18T15:32:50.180Z"
   },
   {
    "duration": 547,
    "start_time": "2021-08-18T18:20:47.703Z"
   },
   {
    "duration": 1190,
    "start_time": "2021-08-18T18:23:39.825Z"
   },
   {
    "duration": 775,
    "start_time": "2021-08-18T18:24:20.200Z"
   },
   {
    "duration": 636,
    "start_time": "2021-08-18T18:24:38.150Z"
   },
   {
    "duration": 501,
    "start_time": "2021-08-18T18:24:48.726Z"
   },
   {
    "duration": 1377,
    "start_time": "2021-08-18T18:31:11.906Z"
   },
   {
    "duration": 162,
    "start_time": "2021-08-18T18:31:13.285Z"
   },
   {
    "duration": 4,
    "start_time": "2021-08-18T18:31:13.450Z"
   },
   {
    "duration": 32,
    "start_time": "2021-08-18T18:31:13.457Z"
   },
   {
    "duration": 13241,
    "start_time": "2021-08-18T18:31:13.491Z"
   },
   {
    "duration": 19,
    "start_time": "2021-08-18T18:31:26.734Z"
   },
   {
    "duration": 673,
    "start_time": "2021-08-18T18:31:26.756Z"
   },
   {
    "duration": 683,
    "start_time": "2021-08-18T18:31:27.433Z"
   },
   {
    "duration": 440,
    "start_time": "2021-08-18T18:31:28.119Z"
   },
   {
    "duration": 609,
    "start_time": "2021-08-18T18:31:28.562Z"
   },
   {
    "duration": 544,
    "start_time": "2021-08-18T18:31:29.173Z"
   },
   {
    "duration": 987,
    "start_time": "2021-08-18T18:31:29.720Z"
   },
   {
    "duration": 26,
    "start_time": "2021-08-18T18:31:30.710Z"
   },
   {
    "duration": 28,
    "start_time": "2021-08-18T18:31:30.738Z"
   },
   {
    "duration": 574,
    "start_time": "2021-08-18T18:31:30.784Z"
   },
   {
    "duration": 639,
    "start_time": "2021-08-18T18:31:31.360Z"
   },
   {
    "duration": 832,
    "start_time": "2021-08-18T18:31:32.002Z"
   },
   {
    "duration": 550,
    "start_time": "2021-08-18T18:31:32.837Z"
   },
   {
    "duration": 22,
    "start_time": "2021-08-18T18:31:33.390Z"
   },
   {
    "duration": 19,
    "start_time": "2021-08-18T18:31:33.414Z"
   },
   {
    "duration": 970,
    "start_time": "2021-08-18T19:30:20.868Z"
   },
   {
    "duration": 939,
    "start_time": "2021-08-18T19:30:47.390Z"
   },
   {
    "duration": 597,
    "start_time": "2021-08-18T19:31:36.513Z"
   },
   {
    "duration": 578,
    "start_time": "2021-08-18T19:44:47.860Z"
   },
   {
    "duration": 572,
    "start_time": "2021-08-18T19:47:49.042Z"
   },
   {
    "duration": 571,
    "start_time": "2021-08-18T20:39:14.042Z"
   },
   {
    "duration": 517,
    "start_time": "2021-08-18T20:39:39.845Z"
   },
   {
    "duration": 502,
    "start_time": "2021-08-18T20:39:53.596Z"
   },
   {
    "duration": 548,
    "start_time": "2021-08-18T20:40:07.354Z"
   },
   {
    "duration": 531,
    "start_time": "2021-08-18T21:19:00.233Z"
   },
   {
    "duration": 496,
    "start_time": "2021-08-18T21:21:29.403Z"
   },
   {
    "duration": 509,
    "start_time": "2021-08-18T21:23:06.818Z"
   },
   {
    "duration": 507,
    "start_time": "2021-08-18T21:23:23.488Z"
   },
   {
    "duration": 832,
    "start_time": "2021-08-18T21:24:22.206Z"
   },
   {
    "duration": 512,
    "start_time": "2021-08-18T21:24:53.372Z"
   },
   {
    "duration": 501,
    "start_time": "2021-08-18T21:58:55.675Z"
   },
   {
    "duration": 19,
    "start_time": "2021-08-18T22:06:41.829Z"
   },
   {
    "duration": 322,
    "start_time": "2021-08-18T22:07:10.165Z"
   },
   {
    "duration": 860,
    "start_time": "2021-08-18T22:07:41.113Z"
   },
   {
    "duration": 8,
    "start_time": "2021-08-18T22:08:52.982Z"
   },
   {
    "duration": 9,
    "start_time": "2021-08-18T22:09:01.598Z"
   },
   {
    "duration": 8,
    "start_time": "2021-08-18T22:09:23.529Z"
   },
   {
    "duration": 10,
    "start_time": "2021-08-18T22:16:45.309Z"
   },
   {
    "duration": 8,
    "start_time": "2021-08-18T22:19:14.072Z"
   },
   {
    "duration": 8,
    "start_time": "2021-08-18T22:19:19.317Z"
   },
   {
    "duration": 8,
    "start_time": "2021-08-18T22:19:32.716Z"
   },
   {
    "duration": 23,
    "start_time": "2021-08-18T22:19:48.340Z"
   },
   {
    "duration": 25,
    "start_time": "2021-08-18T22:21:31.461Z"
   },
   {
    "duration": 34,
    "start_time": "2021-08-18T22:21:41.698Z"
   },
   {
    "duration": 738,
    "start_time": "2021-08-18T22:23:49.832Z"
   },
   {
    "duration": 1044,
    "start_time": "2021-08-18T22:27:07.161Z"
   },
   {
    "duration": 791,
    "start_time": "2021-08-18T22:27:14.468Z"
   },
   {
    "duration": 268,
    "start_time": "2021-08-18T22:29:01.779Z"
   },
   {
    "duration": 778,
    "start_time": "2021-08-18T22:29:08.890Z"
   },
   {
    "duration": 299,
    "start_time": "2021-08-18T22:30:48.426Z"
   },
   {
    "duration": 578,
    "start_time": "2021-08-18T22:31:51.146Z"
   },
   {
    "duration": 30,
    "start_time": "2021-08-18T22:35:24.871Z"
   },
   {
    "duration": 27,
    "start_time": "2021-08-18T22:35:52.319Z"
   },
   {
    "duration": 27,
    "start_time": "2021-08-18T22:36:10.791Z"
   }
  ],
  "kernelspec": {
   "display_name": "Python 3",
   "language": "python",
   "name": "python3"
  },
  "language_info": {
   "codemirror_mode": {
    "name": "ipython",
    "version": 3
   },
   "file_extension": ".py",
   "mimetype": "text/x-python",
   "name": "python",
   "nbconvert_exporter": "python",
   "pygments_lexer": "ipython3",
   "version": "3.7.8"
  },
  "toc": {
   "base_numbering": "1",
   "nav_menu": {},
   "number_sections": false,
   "sideBar": true,
   "skip_h1_title": false,
   "title_cell": "Table of Contents",
   "title_sidebar": "Contents",
   "toc_cell": false,
   "toc_position": {},
   "toc_section_display": true,
   "toc_window_display": true
  }
 },
 "nbformat": 4,
 "nbformat_minor": 2
}
