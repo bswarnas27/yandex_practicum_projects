{
 "cells": [
  {
   "cell_type": "markdown",
   "metadata": {},
   "source": [
    "# Project Description"
   ]
  },
  {
   "cell_type": "markdown",
   "metadata": {},
   "source": [
    "We are working as an analyst for Zuber, a new ride-sharing company that's launching in Chicago. The task is to find patterns in the available information. We want to understand passenger preferences and the impact of external factors on rides.\n",
    "We are going study a database, analyze data from competitors, and test a hypothesis about the impact of weather on ride frequency.\n",
    "We have already worked on the database with the help of SQL to\n",
    "- find the number of taxi rides for each taxi company for November 15-16, 2017.\n",
    "- find the number of rides for every taxi company whose name contains the words \"Yellow\" or \"Blue\" for November 1-7, 2017\n",
    "- find the number of rides for Flash Cab and Taxi Affiliation Services and the remaining other taxi companies\n",
    "- also for each hour, retrieved the weather condition records from the weather_records table\n",
    "\n",
    "Now using Python we are going to identify the top 10 neighborhoods in terms of drop-offs and also we are going to test the hypothesis:\n",
    "The average duration of rides from the Loop to O'Hare International Airport changes on rainy Saturdays.\n",
    "\n",
    "Here we have three dataframes - taxi, travel and weather.\n",
    "\n",
    "taxi contains the following data:\n",
    "- company_name: taxi company name\n",
    "- trips_amount: the number of rides for each taxi company on November 15-16, 2017.\n",
    "\n",
    "travel contains the follwing data:\n",
    "- dropoff_location_name: Chicago neighborhoods where rides ended\n",
    "- average_trips: the average number of rides that ended in each neighborhood in November 2017.\n",
    "\n",
    "weather contains the following data:\n",
    "- start_ts - pickup date and time\n",
    "- weather_conditions - weather conditions at the moment the ride started\n",
    "- duration_seconds - ride duration in seconds"
   ]
  },
  {
   "cell_type": "markdown",
   "metadata": {},
   "source": [
    "## Importing libraries and data files"
   ]
  },
  {
   "cell_type": "code",
   "execution_count": 5,
   "metadata": {},
   "outputs": [],
   "source": [
    "from matplotlib import pyplot\n",
    "\n",
    "import pandas as pd\n",
    "import numpy as np\n",
    "from scipy import stats\n",
    "from scipy.stats import shapiro\n",
    "from scipy.stats import mannwhitneyu\n",
    "from functools import reduce\n",
    "\n",
    "import warnings\n",
    "warnings.simplefilter(action='ignore', category=FutureWarning)"
   ]
  },
  {
   "cell_type": "code",
   "execution_count": 2,
   "metadata": {},
   "outputs": [
    {
     "name": "stdout",
     "output_type": "stream",
     "text": [
      "Taxi details\n",
      "\n",
      "Description\n",
      "       trips_amount\n",
      "count     64.000000\n",
      "mean    2145.484375\n",
      "std     3812.310186\n",
      "min        2.000000\n",
      "25%       20.750000\n",
      "50%      178.500000\n",
      "75%     2106.500000\n",
      "max    19558.000000\n",
      "\n",
      "Datatypes\n",
      "<class 'pandas.core.frame.DataFrame'>\n",
      "RangeIndex: 64 entries, 0 to 63\n",
      "Data columns (total 2 columns):\n",
      "company_name    64 non-null object\n",
      "trips_amount    64 non-null int64\n",
      "dtypes: int64(1), object(1)\n",
      "memory usage: 1.1+ KB\n",
      "None\n",
      "\n",
      "Head\n",
      "                      company_name  trips_amount\n",
      "0                        Flash Cab         19558\n",
      "1        Taxi Affiliation Services         11422\n",
      "2                Medallion Leasing         10367\n",
      "3                       Yellow Cab          9888\n",
      "4  Taxi Affiliation Service Yellow          9299\n",
      "\n",
      "Duplicated Values\n",
      "0\n",
      "\n",
      "Null Values\n",
      "company_name    0.0\n",
      "trips_amount    0.0\n",
      "dtype: float64\n",
      "\n",
      "Skewness\n",
      "trips_amount    2.404351\n",
      "dtype: float64\n",
      "\n",
      "\n",
      "Travel details\n",
      "\n",
      "Description\n",
      "       average_trips\n",
      "count      94.000000\n",
      "mean      599.953728\n",
      "std      1714.591098\n",
      "min         1.800000\n",
      "25%        14.266667\n",
      "50%        52.016667\n",
      "75%       298.858333\n",
      "max     10727.466667\n",
      "\n",
      "Datatypes\n",
      "<class 'pandas.core.frame.DataFrame'>\n",
      "RangeIndex: 94 entries, 0 to 93\n",
      "Data columns (total 2 columns):\n",
      "dropoff_location_name    94 non-null object\n",
      "average_trips            94 non-null float64\n",
      "dtypes: float64(1), object(1)\n",
      "memory usage: 1.6+ KB\n",
      "None\n",
      "\n",
      "Head\n",
      "  dropoff_location_name  average_trips\n",
      "0                  Loop   10727.466667\n",
      "1           River North    9523.666667\n",
      "2         Streeterville    6664.666667\n",
      "3             West Loop    5163.666667\n",
      "4                O'Hare    2546.900000\n",
      "\n",
      "Duplicated Values\n",
      "0\n",
      "\n",
      "Null Values\n",
      "dropoff_location_name    0.0\n",
      "average_trips            0.0\n",
      "dtype: float64\n",
      "\n",
      "Skewness\n",
      "average_trips    4.520761\n",
      "dtype: float64\n",
      "\n",
      "\n",
      "Weather details\n",
      "\n",
      "Description\n",
      "       duration_seconds\n",
      "count       1068.000000\n",
      "mean        2071.731273\n",
      "std          769.461125\n",
      "min            0.000000\n",
      "25%         1438.250000\n",
      "50%         1980.000000\n",
      "75%         2580.000000\n",
      "max         7440.000000\n",
      "\n",
      "Datatypes\n",
      "<class 'pandas.core.frame.DataFrame'>\n",
      "RangeIndex: 1068 entries, 0 to 1067\n",
      "Data columns (total 3 columns):\n",
      "start_ts              1068 non-null object\n",
      "weather_conditions    1068 non-null object\n",
      "duration_seconds      1068 non-null float64\n",
      "dtypes: float64(1), object(2)\n",
      "memory usage: 25.2+ KB\n",
      "None\n",
      "\n",
      "Head\n",
      "              start_ts weather_conditions  duration_seconds\n",
      "0  2017-11-25 16:00:00               Good            2410.0\n",
      "1  2017-11-25 14:00:00               Good            1920.0\n",
      "2  2017-11-25 12:00:00               Good            1543.0\n",
      "3  2017-11-04 10:00:00               Good            2512.0\n",
      "4  2017-11-11 07:00:00               Good            1440.0\n",
      "\n",
      "Duplicated Values\n",
      "197\n",
      "\n",
      "Null Values\n",
      "start_ts              0.0\n",
      "weather_conditions    0.0\n",
      "duration_seconds      0.0\n",
      "dtype: float64\n",
      "\n",
      "Skewness\n",
      "duration_seconds    0.914699\n",
      "dtype: float64\n"
     ]
    }
   ],
   "source": [
    "#importing files \n",
    "taxi = pd.read_csv('/datasets/project_sql_result_01.csv')\n",
    "travel = pd.read_csv('/datasets/project_sql_result_04.csv')\n",
    "weather = pd.read_csv('/datasets/project_sql_result_07.csv')\n",
    "\n",
    "#studying the general information \n",
    "print('Taxi details')\n",
    "print('\\nDescription')\n",
    "print(taxi.describe())\n",
    "print('\\nDatatypes')\n",
    "print(taxi.info()) #checking for datatypes\n",
    "print('\\nHead')\n",
    "print(taxi.head())\n",
    "print('\\nDuplicated Values')\n",
    "print(taxi.duplicated().sum()) #checking for duplicated values\n",
    "print('\\nNull Values')\n",
    "print(taxi.isnull().sum()*100/len(taxi)) #checking for null values\n",
    "print('\\nSkewness')\n",
    "print(taxi.skew()) #checking for skewness\n",
    "\n",
    "print('\\n\\nTravel details')\n",
    "print('\\nDescription')\n",
    "print(travel.describe())\n",
    "print('\\nDatatypes')\n",
    "print(travel.info()) #checking for datatypes\n",
    "print('\\nHead')\n",
    "print(travel.head())\n",
    "print('\\nDuplicated Values')\n",
    "print(travel.duplicated().sum())#checking for duplicated values\n",
    "print('\\nNull Values')\n",
    "print(travel.isnull().sum()*100/len(taxi))#checking for null values\n",
    "print('\\nSkewness')\n",
    "print(travel.skew()) #checking for skewness\n",
    "\n",
    "\n",
    "print('\\n\\nWeather details')\n",
    "print('\\nDescription')\n",
    "print(weather.describe())\n",
    "print('\\nDatatypes')\n",
    "print(weather.info()) #checking for datatypes\n",
    "print('\\nHead')\n",
    "print(weather.head())\n",
    "print('\\nDuplicated Values')\n",
    "print(weather.duplicated().sum())#checking for duplicated values\n",
    "print('\\nNull Values')\n",
    "print(weather.isnull().sum()*100/len(taxi))#checking for null values\n",
    "print('\\nSkewness')\n",
    "print(weather.skew()) #checking for skewness\n"
   ]
  },
  {
   "cell_type": "markdown",
   "metadata": {},
   "source": [
    "### Conclusion"
   ]
  },
  {
   "cell_type": "markdown",
   "metadata": {},
   "source": [
    "- Here we see that none of the dataframes have any null values. \n",
    "- But when checked for the datatypes we can see that `start_ts`has a datatype of string, we will be changing that to date \n",
    "- We checked for the duplicates using .duplicated().sum() method and found that they were none\n",
    "- All the dataframes are skewed, we will be keeping that in mind when testing the hypothesis"
   ]
  },
  {
   "cell_type": "markdown",
   "metadata": {},
   "source": [
    "## Exploratory data analysis "
   ]
  },
  {
   "cell_type": "markdown",
   "metadata": {},
   "source": [
    "#### Plot graph for top 10 neighbourhoods by number of dropoffs"
   ]
  },
  {
   "cell_type": "code",
   "execution_count": 15,
   "metadata": {
    "scrolled": true
   },
   "outputs": [
    {
     "data": {
      "image/png": "[encoded data removed]",
      "text/plain": [
       "<Figure size 720x360 with 1 Axes>"
      ]
     },
     "metadata": {
      "needs_background": "light"
     },
     "output_type": "display_data"
    }
   ],
   "source": [
    "#changing the datatype of weather\n",
    "weather['start_ts'] = pd.to_datetime(weather['start_ts'] , format='%Y.%m.%d %H:%M:%S')\n",
    "\n",
    "#identifying the top neighbourhoods in terms of drop=offs\n",
    "travel_top10 = travel.sort_values(by='average_trips',ascending=False).head(10)\n",
    "#print(travel_top10.head(10))\n",
    "\n",
    "#Bar graph for top 10 neighbourhoods by number of dropoffs\n",
    "travel_top10_plot = travel_top10.set_index('dropoff_location_name').plot(kind = 'bar',figsize=(10,5), grid = True)\n",
    "travel_top10_plot.set_title(\"Bar graph for top 10 neighbourhoods by number of dropoffs\")\n",
    "travel_top10_plot.set_xlabel(\"Neighbourhood Names\")\n",
    "travel_top10_plot.set_ylabel(\"Average Trip Numbers\")\n",
    "pyplot.show()\n",
    "\n",
    "\n"
   ]
  },
  {
   "cell_type": "markdown",
   "metadata": {},
   "source": [
    "#### Plot graph for top 30 cab companies by number of trips"
   ]
  },
  {
   "cell_type": "code",
   "execution_count": 16,
   "metadata": {},
   "outputs": [
    {
     "data": {
      "image/png": "[encoded data removed]",
      "text/plain": [
       "<Figure size 720x360 with 1 Axes>"
      ]
     },
     "metadata": {
      "needs_background": "light"
     },
     "output_type": "display_data"
    }
   ],
   "source": [
    "#selecting top 30 taxi companies and grouping the remaining into Others\n",
    "taxi_sort = taxi.sort_values(by='trips_amount',ascending=False)\n",
    "taxi_top31 = taxi_sort.head(30)\n",
    "other_taxi = taxi_sort.tail(34)\n",
    "other_taxi_avg = other_taxi.trips_amount.mean()\n",
    "taxi_top31.loc[len(taxi_top31.index)] = ['Other',0]\n",
    "taxi_top31.loc[30,'trips_amount'] = other_taxi_avg\n",
    "#print(taxi_top31)\n",
    "\n",
    "#Bar graph for top 30 cab companies by number of trips\n",
    "taxi_top31_plot = taxi_top31.set_index('company_name').plot(kind = 'bar', grid = True, figsize=(10,5))\n",
    "taxi_top31_plot.set_title(\"Bar graph for top 30 cab companes by the number of trips\")\n",
    "taxi_top31_plot.set_xlabel(\"Cab Company Names\")\n",
    "taxi_top31_plot.set_ylabel(\"Number of Trips\")\n",
    "pyplot.show()"
   ]
  },
  {
   "cell_type": "markdown",
   "metadata": {},
   "source": [
    "### Conclusion"
   ]
  },
  {
   "cell_type": "markdown",
   "metadata": {},
   "source": [
    "- Here I have combined the last 34 taxi companies into Other category as it will be easier to study the graph, rather than having all the 64 cab companies' name.\n",
    "- From the above graphs we can see that Loop and River North are the neighbourhoods with the most drop-offs. Probably that is because these two areas are the most sought after areas in Chicago, Loop being the central business district. It's convenient to the museums and Millenium Park. River North is nearby, just on the other side of the Chicago River. There are more restaurants and bars in River North plus good transit which is why it's usually recommended for first-time visitors. That explains the high number of taxi drop-offs.\n",
    "- And from the second graph - we see that the Flash Cabs is the company with highest number of trips. I believe the reason is that Flash cab offers corporate accounts apart from other common minimum facilities, therefore it explains why Loop has the highest number of drop-offs."
   ]
  },
  {
   "cell_type": "markdown",
   "metadata": {},
   "source": [
    "## Testing hypotheses "
   ]
  },
  {
   "cell_type": "markdown",
   "metadata": {},
   "source": [
    "We start with the null hypothesis H₀ : \"The average duration of rides from the Loop to O'Hare International Airport don't change on rainy Saturdays.\" The alternative hypothesis, H₁, is based on H₀. For this H₀, H₁ would be, \"The average duration of rides from the Loop to O'Hare International Airport change on rainy Saturdays.\""
   ]
  },
  {
   "cell_type": "code",
   "execution_count": 4,
   "metadata": {},
   "outputs": [
    {
     "name": "stdout",
     "output_type": "stream",
     "text": [
      "Statistics=0.644, p=0.000\n",
      "Sample does not look Gaussian (reject H0)\n",
      "Statistics=0.818, p=0.000\n",
      "Sample does not look Gaussian (reject H0)\n",
      "\n",
      "\n",
      " Mann-Whitney U test\n",
      "Statistics=62439.000, p=0.000\n",
      "Different distribution (reject H0)\n"
     ]
    }
   ],
   "source": [
    "#Selecting all Saturdays\n",
    "filtered_df = weather.loc[weather['start_ts'].dt.weekday == 5]\n",
    "\n",
    "#Selecting two samples based on the weather_conditions\n",
    "bad_weather = filtered_df.query(\"weather_conditions=='Bad'\")\n",
    "good_weather = filtered_df.query(\"weather_conditions=='Good'\") \n",
    "\n",
    "# Shapiro-Wilk Test for bad_weather start_ts\n",
    "stat, p = shapiro(bad_weather.start_ts)\n",
    "print('Statistics=%.3f, p=%.3f' % (stat, p))\n",
    "# interpret\n",
    "alpha = 0.05\n",
    "if p > alpha:\n",
    "    print('Sample looks Gaussian (fail to reject H0)')\n",
    "else:\n",
    "    print('Sample does not look Gaussian (reject H0)')\n",
    " \n",
    "# Shapiro-Wilk Test for good_weather start_ts\n",
    "stat, p = shapiro(good_weather.start_ts)\n",
    "print('Statistics=%.3f, p=%.3f' % (stat, p))\n",
    "# interpret\n",
    "alpha = 0.05\n",
    "if p > alpha:\n",
    "    print('Sample looks Gaussian (fail to reject H0)')\n",
    "else:\n",
    "    print('Sample does not look Gaussian (reject H0)')\n",
    "\n",
    "    \n",
    "\n",
    "\n",
    "print(\"\\n\\n Mann-Whitney U test\" ) \n",
    "stat, p = mannwhitneyu(bad_weather.start_ts, good_weather.start_ts)\n",
    "print('Statistics=%.3f, p=%.3f' % (stat, p))\n",
    "alpha = 0.05\n",
    "if p > alpha:\n",
    "    print('Same distribution (fail to reject H0)')\n",
    "else:\n",
    "    print('Different distribution (reject H0)')\n",
    "    \n"
   ]
  },
  {
   "cell_type": "markdown",
   "metadata": {},
   "source": [
    "### Conclusion "
   ]
  },
  {
   "cell_type": "markdown",
   "metadata": {},
   "source": [
    "- With the help of the Shapiro-Wilk Normality Test output we can see that the test statistic for checking if good weather and bad weather data follow the Normal Distribution. Since the p-value is less than .05, we can reject the null hypothesis. We have sufficient evidence to say that the sample data does not come from a normal distribution.\n",
    "- Since we arrived at the conclusion that the data might not be a Normal Gaussian distribution and the both the samples are not paired - we went for Mann Whitney test from which we can make the assumption that - The average duration of rides from the Loop to O'Hare International Airport changes on rainy Saturdays.\n"
   ]
  },
  {
   "cell_type": "markdown",
   "metadata": {},
   "source": [
    "# Overall Conclusion"
   ]
  },
  {
   "cell_type": "markdown",
   "metadata": {},
   "source": [
    "- We can conclude that most people prefer Flash Cab and Taxi Affiliation Services to hitch a ride and people generally like to visit the Loop or River North, as one is commercial and business spot and the other being tourist spot.\n",
    "- Secondly now we have a clear picture to make the assumption that the average duration of rides from Loop to O'Hare Airport changes for both good and bad weather. It does make sense because in bad weather people are mindful of the traffic and roads when driving, as there will be visibility issues and roads can also slippery. "
   ]
  },
  {
   "cell_type": "markdown",
   "metadata": {},
   "source": [
    "Thank you so much!"
   ]
  }
 ],
 "metadata": {
  "ExecuteTimeLog": [
   {
    "duration": 1362,
    "start_time": "2021-08-20T21:28:55.968Z"
   },
   {
    "duration": 136,
    "start_time": "2021-08-20T21:28:57.333Z"
   },
   {
    "duration": 1237,
    "start_time": "2021-08-20T21:28:57.472Z"
   },
   {
    "duration": 19,
    "start_time": "2021-08-20T21:28:58.712Z"
   },
   {
    "duration": 4,
    "start_time": "2021-08-20T21:29:56.734Z"
   },
   {
    "duration": 1063,
    "start_time": "2021-08-20T21:30:01.065Z"
   },
   {
    "duration": 1080,
    "start_time": "2021-08-20T21:30:40.755Z"
   },
   {
    "duration": 18,
    "start_time": "2021-08-20T21:30:46.911Z"
   },
   {
    "duration": 395,
    "start_time": "2021-08-20T21:32:48.515Z"
   },
   {
    "duration": 273,
    "start_time": "2021-08-20T21:35:43.771Z"
   },
   {
    "duration": 287,
    "start_time": "2021-08-20T21:36:02.780Z"
   },
   {
    "duration": 271,
    "start_time": "2021-08-20T21:36:26.698Z"
   },
   {
    "duration": 25,
    "start_time": "2021-08-20T21:37:05.735Z"
   },
   {
    "duration": 2331,
    "start_time": "2021-08-20T21:41:06.600Z"
   },
   {
    "duration": 418,
    "start_time": "2021-08-20T21:44:11.667Z"
   },
   {
    "duration": 674,
    "start_time": "2021-08-20T21:45:33.430Z"
   }
  ],
  "kernelspec": {
   "display_name": "Python 3",
   "language": "python",
   "name": "python3"
  },
  "language_info": {
   "codemirror_mode": {
    "name": "ipython",
    "version": 3
   },
   "file_extension": ".py",
   "mimetype": "text/x-python",
   "name": "python",
   "nbconvert_exporter": "python",
   "pygments_lexer": "ipython3",
   "version": "3.7.8"
  },
  "toc": {
   "base_numbering": 1,
   "nav_menu": {},
   "number_sections": false,
   "sideBar": true,
   "skip_h1_title": false,
   "title_cell": "Table of Contents",
   "title_sidebar": "Contents",
   "toc_cell": false,
   "toc_position": {
    "height": "calc(100% - 180px)",
    "left": "10px",
    "top": "150px",
    "width": "303.837px"
   },
   "toc_section_display": true,
   "toc_window_display": true
  }
 },
 "nbformat": 4,
 "nbformat_minor": 2
}
