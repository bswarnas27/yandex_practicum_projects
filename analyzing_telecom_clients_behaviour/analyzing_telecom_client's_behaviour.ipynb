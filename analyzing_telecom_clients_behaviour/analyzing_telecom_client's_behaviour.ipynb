{
 "cells": [
  {
   "cell_type": "markdown",
   "metadata": {},
   "source": [
    "# Analyzing Telecom Clients' Behavior "
   ]
  },
  {
   "cell_type": "markdown",
   "metadata": {},
   "source": [
    "<h1>Project Description</h1>"
   ]
  },
  {
   "cell_type": "markdown",
   "metadata": {},
   "source": [
    "\n",
    "As an analyst for the telecom operator Megaline, we will analyze clients' behavior and determine which prepaid plan brings in more revenue.\n",
    " The company offers its clients two prepaid plans, Surf and Ultimate. The commercial department wants to know which of the plans brings in more revenue in order to adjust the advertising budget.\n",
    "We are going to carry out a preliminary analysis of the plans based on a relatively small client selection. We'll have the data on 500 Megaline clients: who the clients are, where they're from, which plan they use, and the number of calls they made and text messages they sent in 2018. \n",
    "<br>\n",
    "\n",
    "Description of the plans\n",
    "<br>Note: Megaline rounds seconds up to minutes, and megabytes to gigabytes. For calls, each individual call is rounded up: even if the call lasted just one second, it will be counted as one minute. For web traffic, individual web sessions are not rounded up. Instead, the total for the month is rounded up. If someone uses 1025 megabytes this month, they will be charged for 2 gigabytes.\n",
    "- Surf: \n",
    " - Monthly charge: \\\\$20\n",
    " - 500 monthly minutes, 50 texts, and 15 GB of data\n",
    " - After exceeding the package limits:\n",
    " - 1 minute: 3 cents\n",
    " - 1 text message: 3 cents\n",
    " - 1 GB of data: \\\\$10, \n",
    " \n",
    "\n",
    "\n",
    "- Ultimate\n",
    " - Monthly charge: \\\\$70\n",
    " - 3000 monthly minutes, 1000 text messages, and 30 GB of data\n",
    " - After exceeding the package limits:\n",
    " - 1 minute: 1 cent\n",
    " - 1 text message: 1 cent\n",
    " - 1 GB of data: \\\\$7\n",
    " \n",
    " Description of the data\n",
    "Remember! Megaline rounds seconds up to minutes, and megabytes to gigabytes. For calls, each individual call is rounded up: even if the call lasted just one second, it will be counted as one minute. For web traffic, individual web sessions are not rounded up. Instead, the total for the month is rounded up. If someone uses 1025 megabytes this month, they will be charged for 2 gigabytes.\n",
    "- The users table (data on users):\n",
    " - user_id — unique user identifier\n",
    " - first_name — user's name\n",
    " - last_name — user's last name\n",
    " - age — user's age (years)\n",
    " - reg_date — subscription date (dd, mm, yy)\n",
    " - churn_date — the date the user stopped using the service (if the value is missing, the calling plan was being used when this data was retrieved)\n",
    " - city — user's city of residence\n",
    " - plan — calling plan name\n",
    "- The calls table (data on calls):\n",
    " - id — unique call identifier\n",
    " - call_date — call date\n",
    " - duration — call duration (in minutes)\n",
    " - user_id — the identifier of the user making the call\n",
    "- The messages table (data on texts):\n",
    " - id — unique text message identifier\n",
    " - message_date — text message date\n",
    " - user_id — the identifier of the user sending the text\n",
    "- The internet table (data on web sessions):\n",
    " - id — unique session identifier\n",
    " - mb_used — the volume of data spent during the session (in megabytes)\n",
    " - session_date — web session date\n",
    " - user_id — user identifier\n",
    "- The plans table (data on the plans):\n",
    " - plan_name — calling plan name\n",
    " - usd_monthly_fee — monthly charge in US dollars\n",
    " - minutes_included — monthly minute allowance\n",
    " - messages_included — monthly text allowance\n",
    " - mb_per_month_included — data volume allowance (in megabytes)\n",
    " - usd_per_minute — price per minute after exceeding the package limits (e.g., if the package includes 100 minutes, the 101st minute will be charged)\n",
    " - usd_per_message — price per text after exceeding the package limits\n",
    " - usd_per_gb — price per extra gigabyte of data after exceeding the package limits (1 GB = 1024 megabytes)"
   ]
  },
  {
   "cell_type": "markdown",
   "metadata": {},
   "source": [
    "<h2> Open the data file and study the general information"
   ]
  },
  {
   "cell_type": "code",
   "execution_count": 1,
   "metadata": {},
   "outputs": [],
   "source": [
    "\n",
    "from matplotlib import pyplot\n",
    "import pandas as pd\n",
    "import numpy as np\n",
    "from scipy import stats\n",
    "from scipy.stats import shapiro\n",
    "from scipy.stats import mannwhitneyu\n",
    "from functools import reduce\n",
    "\n"
   ]
  },
  {
   "cell_type": "code",
   "execution_count": 2,
   "metadata": {},
   "outputs": [
    {
     "name": "stdout",
     "output_type": "stream",
     "text": [
      "\n",
      "\n",
      "Calls\n",
      "             user_id       duration\n",
      "count  137735.000000  137735.000000\n",
      "mean     1247.658046       6.745927\n",
      "std       139.416268       5.839241\n",
      "min      1000.000000       0.000000\n",
      "25%      1128.000000       1.290000\n",
      "50%      1247.000000       5.980000\n",
      "75%      1365.000000      10.690000\n",
      "max      1499.000000      37.600000\n",
      "         id  user_id   call_date  duration\n",
      "0   1000_93     1000  2018-12-27      8.52\n",
      "1  1000_145     1000  2018-12-27     13.66\n",
      "2  1000_247     1000  2018-12-27     14.48\n",
      "3  1000_309     1000  2018-12-28      5.76\n",
      "4  1000_380     1000  2018-12-30      4.22\n",
      "\n",
      " Number of duplicated rows in megaline_calls dataframe: 0\n",
      "\n",
      "<class 'pandas.core.frame.DataFrame'>\n",
      "RangeIndex: 137735 entries, 0 to 137734\n",
      "Data columns (total 4 columns):\n",
      "id           137735 non-null object\n",
      "user_id      137735 non-null int64\n",
      "call_date    137735 non-null object\n",
      "duration     137735 non-null float64\n",
      "dtypes: float64(1), int64(1), object(2)\n",
      "memory usage: 4.2+ MB\n",
      "\n",
      "\n",
      "Users\n",
      "           user_id         age\n",
      "count   500.000000  500.000000\n",
      "mean   1249.500000   45.486000\n",
      "std     144.481833   16.972269\n",
      "min    1000.000000   18.000000\n",
      "25%    1124.750000   30.000000\n",
      "50%    1249.500000   46.000000\n",
      "75%    1374.250000   61.000000\n",
      "max    1499.000000   75.000000\n",
      "   user_id first_name  last_name  age                                   city  \\\n",
      "0     1000   Anamaria      Bauer   45  Atlanta-Sandy Springs-Roswell, GA MSA   \n",
      "1     1001     Mickey  Wilkerson   28        Seattle-Tacoma-Bellevue, WA MSA   \n",
      "2     1002     Carlee    Hoffman   36   Las Vegas-Henderson-Paradise, NV MSA   \n",
      "3     1003   Reynaldo    Jenkins   52                          Tulsa, OK MSA   \n",
      "4     1004    Leonila   Thompson   40        Seattle-Tacoma-Bellevue, WA MSA   \n",
      "\n",
      "     reg_date      plan churn_date  \n",
      "0  2018-12-24  ultimate        NaN  \n",
      "1  2018-08-13      surf        NaN  \n",
      "2  2018-10-21      surf        NaN  \n",
      "3  2018-01-28      surf        NaN  \n",
      "4  2018-05-23      surf        NaN  \n",
      "\n",
      " Number of duplicated rows in megaline_users dataframe: 0\n",
      "\n",
      "<class 'pandas.core.frame.DataFrame'>\n",
      "RangeIndex: 500 entries, 0 to 499\n",
      "Data columns (total 8 columns):\n",
      "user_id       500 non-null int64\n",
      "first_name    500 non-null object\n",
      "last_name     500 non-null object\n",
      "age           500 non-null int64\n",
      "city          500 non-null object\n",
      "reg_date      500 non-null object\n",
      "plan          500 non-null object\n",
      "churn_date    34 non-null object\n",
      "dtypes: int64(2), object(6)\n",
      "memory usage: 31.4+ KB\n",
      "\n",
      "\n",
      "Messages\n",
      "            user_id\n",
      "count  76051.000000\n",
      "mean    1245.972768\n",
      "std      139.843635\n",
      "min     1000.000000\n",
      "25%     1123.000000\n",
      "50%     1251.000000\n",
      "75%     1362.000000\n",
      "max     1497.000000\n",
      "         id  user_id message_date\n",
      "0  1000_125     1000   2018-12-27\n",
      "1  1000_160     1000   2018-12-31\n",
      "2  1000_223     1000   2018-12-31\n",
      "3  1000_251     1000   2018-12-27\n",
      "4  1000_255     1000   2018-12-26\n",
      "\n",
      " Number of duplicated rows in megaline_messages dataframe: 0\n",
      "\n",
      "<class 'pandas.core.frame.DataFrame'>\n",
      "RangeIndex: 76051 entries, 0 to 76050\n",
      "Data columns (total 3 columns):\n",
      "id              76051 non-null object\n",
      "user_id         76051 non-null int64\n",
      "message_date    76051 non-null object\n",
      "dtypes: int64(1), object(2)\n",
      "memory usage: 1.7+ MB\n",
      "\n",
      "\n",
      "Internet\n",
      "             user_id        mb_used\n",
      "count  104825.000000  104825.000000\n",
      "mean     1242.496361     366.713701\n",
      "std       142.053913     277.170542\n",
      "min      1000.000000       0.000000\n",
      "25%      1122.000000     136.080000\n",
      "50%      1236.000000     343.980000\n",
      "75%      1367.000000     554.610000\n",
      "max      1499.000000    1693.470000\n",
      "         id  user_id session_date  mb_used\n",
      "0   1000_13     1000   2018-12-29    89.86\n",
      "1  1000_204     1000   2018-12-31     0.00\n",
      "2  1000_379     1000   2018-12-28   660.40\n",
      "3  1000_413     1000   2018-12-26   270.99\n",
      "4  1000_442     1000   2018-12-27   880.22\n",
      "\n",
      " Number of duplicated rows in megaline_internet dataframe: 0\n",
      "\n",
      "<class 'pandas.core.frame.DataFrame'>\n",
      "RangeIndex: 104825 entries, 0 to 104824\n",
      "Data columns (total 4 columns):\n",
      "id              104825 non-null object\n",
      "user_id         104825 non-null int64\n",
      "session_date    104825 non-null object\n",
      "mb_used         104825 non-null float64\n",
      "dtypes: float64(1), int64(1), object(2)\n",
      "memory usage: 3.2+ MB\n",
      "\n",
      "\n",
      "Plans\n",
      "       messages_included  mb_per_month_included  minutes_included  \\\n",
      "count           2.000000               2.000000          2.000000   \n",
      "mean          525.000000           23040.000000       1750.000000   \n",
      "std           671.751442           10861.160159       1767.766953   \n",
      "min            50.000000           15360.000000        500.000000   \n",
      "25%           287.500000           19200.000000       1125.000000   \n",
      "50%           525.000000           23040.000000       1750.000000   \n",
      "75%           762.500000           26880.000000       2375.000000   \n",
      "max          1000.000000           30720.000000       3000.000000   \n",
      "\n",
      "       usd_monthly_pay  usd_per_gb  usd_per_message  usd_per_minute  \n",
      "count         2.000000     2.00000         2.000000        2.000000  \n",
      "mean         45.000000     8.50000         0.020000        0.020000  \n",
      "std          35.355339     2.12132         0.014142        0.014142  \n",
      "min          20.000000     7.00000         0.010000        0.010000  \n",
      "25%          32.500000     7.75000         0.015000        0.015000  \n",
      "50%          45.000000     8.50000         0.020000        0.020000  \n",
      "75%          57.500000     9.25000         0.025000        0.025000  \n",
      "max          70.000000    10.00000         0.030000        0.030000  \n",
      "   messages_included  mb_per_month_included  minutes_included  \\\n",
      "0                 50                  15360               500   \n",
      "1               1000                  30720              3000   \n",
      "\n",
      "   usd_monthly_pay  usd_per_gb  usd_per_message  usd_per_minute plan_name  \n",
      "0               20          10             0.03            0.03      surf  \n",
      "1               70           7             0.01            0.01  ultimate  \n",
      "\n",
      " Number of duplicated rows in megaline_plans dataframe: 0\n",
      "\n",
      "<class 'pandas.core.frame.DataFrame'>\n",
      "RangeIndex: 2 entries, 0 to 1\n",
      "Data columns (total 8 columns):\n",
      "messages_included        2 non-null int64\n",
      "mb_per_month_included    2 non-null int64\n",
      "minutes_included         2 non-null int64\n",
      "usd_monthly_pay          2 non-null int64\n",
      "usd_per_gb               2 non-null int64\n",
      "usd_per_message          2 non-null float64\n",
      "usd_per_minute           2 non-null float64\n",
      "plan_name                2 non-null object\n",
      "dtypes: float64(2), int64(5), object(1)\n",
      "memory usage: 256.0+ bytes\n",
      "\n",
      "\n",
      "Calls\n",
      "id          6.340691\n",
      "user_id     0.010325\n",
      "duration    0.693502\n",
      "dtype: float64\n",
      "\n",
      "\n",
      "Users\n",
      "user_id    0.000000\n",
      "age        0.040081\n",
      "dtype: float64\n",
      "\n",
      "\n",
      "Messages\n",
      "id         5.696779\n",
      "user_id    0.042754\n",
      "dtype: float64\n",
      "\n",
      "\n",
      "Internet\n",
      "id        -0.598233\n",
      "user_id    0.080268\n",
      "mb_used    0.532269\n",
      "dtype: float64\n"
     ]
    }
   ],
   "source": [
    "\n",
    "megaline_calls = pd.read_csv('/datasets/megaline_calls.csv')\n",
    "megaline_users = pd.read_csv('/datasets/megaline_users.csv')\n",
    "megaline_messages = pd.read_csv('/datasets/megaline_messages.csv')\n",
    "megaline_internet = pd.read_csv('/datasets/megaline_internet.csv')\n",
    "megaline_plans = pd.read_csv('/datasets/megaline_plans.csv')\n",
    "\n",
    "\n",
    "\n",
    "#Studying the general information \n",
    "print('\\n\\nCalls')\n",
    "print(megaline_calls.describe())\n",
    "print(megaline_calls.head())\n",
    "print('\\n Number of duplicated rows in megaline_calls dataframe:',megaline_calls.duplicated().sum())\n",
    "print()\n",
    "megaline_calls.info()\n",
    "\n",
    "print('\\n\\nUsers')\n",
    "print(megaline_users.describe())\n",
    "print(megaline_users.head())\n",
    "print('\\n Number of duplicated rows in megaline_users dataframe:',megaline_users.duplicated().sum())\n",
    "print()\n",
    "megaline_users.info()\n",
    "\n",
    "print('\\n\\nMessages')\n",
    "print(megaline_messages.describe())\n",
    "print(megaline_messages.head())\n",
    "print('\\n Number of duplicated rows in megaline_messages dataframe:',megaline_messages.duplicated().sum())\n",
    "print()\n",
    "megaline_messages.info()\n",
    "\n",
    "print('\\n\\nInternet')\n",
    "print(megaline_internet.describe())\n",
    "print(megaline_internet.head())\n",
    "print('\\n Number of duplicated rows in megaline_internet dataframe:',megaline_internet.duplicated().sum())\n",
    "print()\n",
    "megaline_internet.info()\n",
    "\n",
    "print('\\n\\nPlans')\n",
    "print(megaline_plans.describe())\n",
    "print(megaline_plans.head())\n",
    "print('\\n Number of duplicated rows in megaline_plans dataframe:',megaline_plans.duplicated().sum())\n",
    "print()\n",
    "megaline_plans.info()\n",
    "\n",
    "\n",
    "\n",
    "#Checking skewness for the dataframes \n",
    "print('\\n\\nCalls')\n",
    "print(megaline_calls.skew())\n",
    "\n",
    "print('\\n\\nUsers')\n",
    "print(megaline_users.skew())\n",
    "\n",
    "print('\\n\\nMessages')\n",
    "print(megaline_messages.skew())\n",
    "\n",
    "print('\\n\\nInternet')\n",
    "print(megaline_internet.skew())\n",
    "\n",
    "\n"
   ]
  },
  {
   "cell_type": "markdown",
   "metadata": {},
   "source": [
    "<h4>Conclusion"
   ]
  },
  {
   "cell_type": "markdown",
   "metadata": {},
   "source": [
    "- All the dates in the files have wrong datatype. <br>\n",
    "- Did not find any missing values as the count for each column for each data file is same when checked with info() method<br>\n",
    "- The megaline_calls dataframe is a bit skewed to the right(call_duration = 0.69) apart from that the rest of the dataframes have skewness between -0.5 and 0.5, the data are fairly symmetrical\n",
    "- We checked for the duplicates using `.duplicated().sum()` method and found that they were none\n",
    "- There are also no null values in any of the dataframes except for `churn_date` which means the date the user stopped using the service (if the value is missing, the calling plan was being used when this data was retrieved)\n"
   ]
  },
  {
   "cell_type": "markdown",
   "metadata": {},
   "source": [
    "<h2>Prepare the Data"
   ]
  },
  {
   "cell_type": "markdown",
   "metadata": {},
   "source": [
    "<h3>Convert the data to the necessary types"
   ]
  },
  {
   "cell_type": "code",
   "execution_count": 3,
   "metadata": {},
   "outputs": [
    {
     "name": "stdout",
     "output_type": "stream",
     "text": [
      "\n",
      "\n",
      "Calls\n",
      "<class 'pandas.core.frame.DataFrame'>\n",
      "RangeIndex: 137735 entries, 0 to 137734\n",
      "Data columns (total 4 columns):\n",
      "id           137735 non-null object\n",
      "user_id      137735 non-null int64\n",
      "call_date    137735 non-null datetime64[ns]\n",
      "duration     137735 non-null float64\n",
      "dtypes: datetime64[ns](1), float64(1), int64(1), object(1)\n",
      "memory usage: 4.2+ MB\n",
      "\n",
      "\n",
      "Users\n",
      "<class 'pandas.core.frame.DataFrame'>\n",
      "RangeIndex: 500 entries, 0 to 499\n",
      "Data columns (total 8 columns):\n",
      "user_id       500 non-null int64\n",
      "first_name    500 non-null object\n",
      "last_name     500 non-null object\n",
      "age           500 non-null int64\n",
      "city          500 non-null object\n",
      "reg_date      500 non-null datetime64[ns]\n",
      "plan          500 non-null object\n",
      "churn_date    34 non-null datetime64[ns]\n",
      "dtypes: datetime64[ns](2), int64(2), object(4)\n",
      "memory usage: 31.4+ KB\n",
      "\n",
      "\n",
      "Messages\n",
      "<class 'pandas.core.frame.DataFrame'>\n",
      "RangeIndex: 76051 entries, 0 to 76050\n",
      "Data columns (total 3 columns):\n",
      "id              76051 non-null object\n",
      "user_id         76051 non-null int64\n",
      "message_date    76051 non-null datetime64[ns]\n",
      "dtypes: datetime64[ns](1), int64(1), object(1)\n",
      "memory usage: 1.7+ MB\n",
      "\n",
      "\n",
      "Internet\n",
      "<class 'pandas.core.frame.DataFrame'>\n",
      "RangeIndex: 104825 entries, 0 to 104824\n",
      "Data columns (total 4 columns):\n",
      "id              104825 non-null object\n",
      "user_id         104825 non-null int64\n",
      "session_date    104825 non-null datetime64[ns]\n",
      "mb_used         104825 non-null float64\n",
      "dtypes: datetime64[ns](1), float64(1), int64(1), object(1)\n",
      "memory usage: 3.2+ MB\n"
     ]
    }
   ],
   "source": [
    "#Changing the datatype of all the dates of all the dataframes into datetime\n",
    "megaline_calls['call_date'] = pd.to_datetime(megaline_calls['call_date'] , format='%Y.%m.%d')\n",
    "megaline_users['reg_date'] = pd.to_datetime(megaline_users['reg_date'] , format='%Y.%m.%d')\n",
    "megaline_users['churn_date'] = pd.to_datetime(megaline_users['churn_date'] , format='%Y.%m.%d')\n",
    "megaline_messages['message_date'] = pd.to_datetime(megaline_messages['message_date'], format='%Y.%m.%d')\n",
    "megaline_internet['session_date'] = pd.to_datetime(megaline_internet['session_date'], format='%Y.%m.%d')\n",
    "\n",
    "\n",
    "\n",
    "#Checking for the updated datatypes\n",
    "print('\\n\\nCalls')\n",
    "megaline_calls.info()\n",
    "print('\\n\\nUsers')\n",
    "megaline_users.info()\n",
    "print('\\n\\nMessages')\n",
    "megaline_messages.info()\n",
    "print('\\n\\nInternet')\n",
    "megaline_internet.info()"
   ]
  },
  {
   "cell_type": "markdown",
   "metadata": {},
   "source": [
    "<h4>Conclusion"
   ]
  },
  {
   "cell_type": "markdown",
   "metadata": {},
   "source": [
    "- Changed all the dates datatypes to datetime and checked with `.info()` method\n",
    "- Did not remove the calls with `duration` and `mb_used` of 0 , as they are a total count of around 26000 and 13000 values, i.e a good 20% and 10% of the values. Assuming that these are customers who are opting for other services. Say 0 duration of calls can be a missed call."
   ]
  },
  {
   "cell_type": "markdown",
   "metadata": {},
   "source": [
    "<h3>Find and eliminate errors in the data"
   ]
  },
  {
   "cell_type": "code",
   "execution_count": 4,
   "metadata": {
    "scrolled": true
   },
   "outputs": [
    {
     "name": "stdout",
     "output_type": "stream",
     "text": [
      "\n",
      "\n",
      "Calls duration\n",
      "0.0     26834\n",
      "6.0      7848\n",
      "5.0      7778\n",
      "7.0      7769\n",
      "8.0      7718\n",
      "4.0      7434\n",
      "9.0      7357\n",
      "3.0      6942\n",
      "10.0     6918\n",
      "2.0      6446\n",
      "11.0     6407\n",
      "1.0      5795\n",
      "12.0     5750\n",
      "13.0     5070\n",
      "14.0     4402\n",
      "15.0     3889\n",
      "16.0     3011\n",
      "17.0     2461\n",
      "18.0     1992\n",
      "19.0     1604\n",
      "20.0     1243\n",
      "21.0      910\n",
      "22.0      671\n",
      "23.0      461\n",
      "24.0      324\n",
      "25.0      235\n",
      "26.0      157\n",
      "27.0      118\n",
      "28.0       62\n",
      "29.0       58\n",
      "30.0       27\n",
      "31.0       18\n",
      "32.0       13\n",
      "33.0        6\n",
      "36.0        3\n",
      "34.0        2\n",
      "38.0        1\n",
      "37.0        1\n",
      "Name: duration, dtype: int64\n",
      "Zero month rows\n",
      "      user_id  first_name  last_name  age  \\\n",
      "86       1025        Jess  Wilkinson   64   \n",
      "612      1129       Marin     Bolton   70   \n",
      "682      1143      Lorina    Stevens   69   \n",
      "1285     1269      Irving   Thompson   39   \n",
      "1297     1275       Elvie  Velazquez   33   \n",
      "1418     1307  Kristopher       Lang   28   \n",
      "1466     1319      Eliseo     Carson   21   \n",
      "1762     1378    Mckinley    Clayton   22   \n",
      "2139     1463     Dinorah    Simmons   30   \n",
      "2189     1473        Kirk      Velez   61   \n",
      "\n",
      "                                           city   reg_date      plan  \\\n",
      "86        Atlanta-Sandy Springs-Roswell, GA MSA 2018-10-28  ultimate   \n",
      "612                         Baton Rouge, LA MSA 2018-11-10      surf   \n",
      "682                    Cincinnati, OH-KY-IN MSA 2018-10-26      surf   \n",
      "1285        Dallas-Fort Worth-Arlington, TX MSA 2018-09-13  ultimate   \n",
      "1297  New York-Newark-Jersey City, NY-NJ-PA MSA 2018-11-29  ultimate   \n",
      "1418         Boston-Cambridge-Newton, MA-NH MSA 2018-12-31      surf   \n",
      "1466                   Colorado Springs, CO MSA 2018-06-17      surf   \n",
      "1762             Denver-Aurora-Lakewood, CO MSA 2018-12-17      surf   \n",
      "2139      Atlanta-Sandy Springs-Roswell, GA MSA 2018-11-27  ultimate   \n",
      "2189     Louisville/Jefferson County, KY-IN MSA 2018-12-31      surf   \n",
      "\n",
      "               churn_date  month  total_duration  count_calls  total_data  \\\n",
      "86                      0    0.0             0.0          0.0         0.0   \n",
      "612   2018-12-27 00:00:00    0.0             0.0          0.0         0.0   \n",
      "682                     0    0.0             0.0          0.0         0.0   \n",
      "1285  2018-12-15 00:00:00    0.0             0.0          0.0         0.0   \n",
      "1297                    0    0.0             0.0          0.0         0.0   \n",
      "1418                    0    0.0             0.0          0.0         0.0   \n",
      "1466                    0    0.0             0.0          0.0         0.0   \n",
      "1762                    0    0.0             0.0          0.0         0.0   \n",
      "2139                    0    0.0             0.0          0.0         0.0   \n",
      "2189                    0    0.0             0.0          0.0         0.0   \n",
      "\n",
      "      count_messages  \n",
      "86               0.0  \n",
      "612              0.0  \n",
      "682              0.0  \n",
      "1285             0.0  \n",
      "1297             0.0  \n",
      "1418             0.0  \n",
      "1466             0.0  \n",
      "1762             0.0  \n",
      "2139             0.0  \n",
      "2189             0.0  \n",
      "Zero total_duration, total_data and count_messages rows\n",
      "      user_id  first_name  last_name  age  \\\n",
      "86       1025        Jess  Wilkinson   64   \n",
      "612      1129       Marin     Bolton   70   \n",
      "682      1143      Lorina    Stevens   69   \n",
      "1285     1269      Irving   Thompson   39   \n",
      "1297     1275       Elvie  Velazquez   33   \n",
      "1418     1307  Kristopher       Lang   28   \n",
      "1466     1319      Eliseo     Carson   21   \n",
      "1762     1378    Mckinley    Clayton   22   \n",
      "2139     1463     Dinorah    Simmons   30   \n",
      "2189     1473        Kirk      Velez   61   \n",
      "\n",
      "                                           city   reg_date      plan  \\\n",
      "86        Atlanta-Sandy Springs-Roswell, GA MSA 2018-10-28  ultimate   \n",
      "612                         Baton Rouge, LA MSA 2018-11-10      surf   \n",
      "682                    Cincinnati, OH-KY-IN MSA 2018-10-26      surf   \n",
      "1285        Dallas-Fort Worth-Arlington, TX MSA 2018-09-13  ultimate   \n",
      "1297  New York-Newark-Jersey City, NY-NJ-PA MSA 2018-11-29  ultimate   \n",
      "1418         Boston-Cambridge-Newton, MA-NH MSA 2018-12-31      surf   \n",
      "1466                   Colorado Springs, CO MSA 2018-06-17      surf   \n",
      "1762             Denver-Aurora-Lakewood, CO MSA 2018-12-17      surf   \n",
      "2139      Atlanta-Sandy Springs-Roswell, GA MSA 2018-11-27  ultimate   \n",
      "2189     Louisville/Jefferson County, KY-IN MSA 2018-12-31      surf   \n",
      "\n",
      "               churn_date  month  total_duration  count_calls  total_data  \\\n",
      "86                      0    0.0             0.0          0.0         0.0   \n",
      "612   2018-12-27 00:00:00    0.0             0.0          0.0         0.0   \n",
      "682                     0    0.0             0.0          0.0         0.0   \n",
      "1285  2018-12-15 00:00:00    0.0             0.0          0.0         0.0   \n",
      "1297                    0    0.0             0.0          0.0         0.0   \n",
      "1418                    0    0.0             0.0          0.0         0.0   \n",
      "1466                    0    0.0             0.0          0.0         0.0   \n",
      "1762                    0    0.0             0.0          0.0         0.0   \n",
      "2139                    0    0.0             0.0          0.0         0.0   \n",
      "2189                    0    0.0             0.0          0.0         0.0   \n",
      "\n",
      "      count_messages  \n",
      "86               0.0  \n",
      "612              0.0  \n",
      "682              0.0  \n",
      "1285             0.0  \n",
      "1297             0.0  \n",
      "1418             0.0  \n",
      "1466             0.0  \n",
      "1762             0.0  \n",
      "2139             0.0  \n",
      "2189             0.0  \n"
     ]
    }
   ],
   "source": [
    "#Rounding up individual call duration and replacing them in the the same duration column\n",
    "print('\\n\\nCalls duration')\n",
    "megaline_calls['duration'] = np.ceil(megaline_calls['duration'])\n",
    "print(megaline_calls.duration.value_counts())\n",
    "\n",
    "\n",
    "#Setting up respective month column onto each billable dataframes\n",
    "megaline_messages['month'] = pd.DatetimeIndex(megaline_messages['message_date']).month\n",
    "megaline_internet['month'] = pd.DatetimeIndex(megaline_internet['session_date']).month\n",
    "megaline_calls['month'] = pd.DatetimeIndex(megaline_calls['call_date']).month\n",
    "\n",
    "\n",
    "\n",
    "#Grouping data for each user and month for call duration, internet and messages respectively\n",
    "grouped_calls = megaline_calls.groupby(['user_id','month'])['duration'].agg({'count','sum'})\n",
    "grouped_internet = megaline_internet.groupby(['user_id','month'])['mb_used'].agg({'sum'})\n",
    "grouped_messages = megaline_messages.groupby(['user_id','month'])['message_date'].agg({'count'})\n",
    "\n",
    "\n",
    "\n",
    "#Merging the above three dataframes\n",
    "data_frames = [ grouped_calls,grouped_internet, grouped_messages]\n",
    "first_merged = reduce(lambda  left,right: pd.merge(left,right,on=['user_id', 'month'],how='outer'), data_frames)\n",
    "first_merged.rename(columns = {'sum_x':'total_duration', 'count_x':'count_calls','sum_y':'total_data', 'count_y':'count_messages'}, inplace = True)\n",
    "\n",
    "\n",
    "\n",
    "#Rounding of the total internet used\n",
    "\n",
    "first_merged['total_data'] = np.ceil(first_merged['total_data']/1024)\n",
    "first_merged = first_merged.reset_index()\n",
    "\n",
    "\n",
    "\n",
    "#Merging with users dataframe\n",
    "data_frames2 = [megaline_users,first_merged]\n",
    "final_merged = reduce(lambda  left,right: pd.merge(left,right,on=['user_id'], how ='outer'), data_frames2).fillna(0)\n",
    "\n",
    "\n",
    "#Checking for rows with 0 as month\n",
    "print('Zero month rows')\n",
    "print(final_merged.query('month == 0'))\n",
    "print('Zero total_duration, total_data and count_messages rows')\n",
    "#Checking for rows with total_duration == 0 and total_mb == 0 and count_messages == 0\n",
    "print(final_merged.query('total_duration == 0 and total_data == 0 and count_messages == 0'))\n",
    "\n",
    "#Dropping rows with 0 as month\n",
    "final_merged.drop(final_merged[final_merged['month'] == 0].index, inplace = True) \n",
    "final_merged = final_merged.reset_index()\n"
   ]
  },
  {
   "cell_type": "markdown",
   "metadata": {},
   "source": [
    "<h4>Conclusion"
   ]
  },
  {
   "cell_type": "markdown",
   "metadata": {},
   "source": [
    "- Rounded up individual call duration and replacing them in the the same duration column while the individual web sessions are not rounded up. Instead, the total for the month is rounded up.\n",
    "- When merging filled the NaN values with 0\n",
    "- The merged dataframes has now in total of 2303 rows for 500 customers. \n",
    "- We also notice that there are outliers present in the data, for example - `total_duration` has a max value of 1432 where the mean and median is around 400. Similarily for `total_data` and `count_messages`. We also notice that there is a min value of 0 in `month` column. That might have been due to filling the NaN values with 0. \n",
    "- Since the rows with 0 `month` and the rows with `total_duration`,`total_data` and `count_messages` as 0 are same.  \n",
    "- When compared the 0 `month` users `reg_date` with `churn_date` , 3 of them have just registered themselves are still paying customers, they are the users who have just bought the plans and did not get to use it for more than a month and will end up paying the basic monthly charge. There are 2 who just cancelled their plan in December. Since most of them only started their contracts in the last quarter of the year so their absence won't affect the data that much.The whole idea is about monthly spending on messages,internet, calls.\n",
    "- Therefore will be dropping those values."
   ]
  },
  {
   "cell_type": "markdown",
   "metadata": {},
   "source": [
    "<h3>The number of calls made and minutes used per month"
   ]
  },
  {
   "cell_type": "code",
   "execution_count": 8,
   "metadata": {},
   "outputs": [
    {
     "name": "stdout",
     "output_type": "stream",
     "text": [
      "Sample of the number of calls made and minutes used:\n",
      "      user_id  count_calls  total_duration\n",
      "1433     1312         55.0           384.0\n",
      "1902     1406         61.0           425.0\n",
      "1811     1390         97.0           726.0\n",
      "2245     1491         48.0           429.0\n",
      "932      1194          0.0             0.0\n"
     ]
    }
   ],
   "source": [
    "print('Sample of the number of calls made and minutes used view for each user:')\n",
    "print(final_merged[['user_id','count_calls','total_duration']].sample(5))"
   ]
  },
  {
   "cell_type": "markdown",
   "metadata": {},
   "source": [
    "<h4>Conclusion"
   ]
  },
  {
   "cell_type": "markdown",
   "metadata": {},
   "source": [
    "Here we can see the total number of calls and the total duration of those calls for each user."
   ]
  },
  {
   "cell_type": "markdown",
   "metadata": {},
   "source": [
    "<h3>The number of text messages sent per month"
   ]
  },
  {
   "cell_type": "code",
   "execution_count": 16,
   "metadata": {},
   "outputs": [
    {
     "name": "stdout",
     "output_type": "stream",
     "text": [
      "Sample of the number of text messages sent per month view for each user:\n",
      "               count\n",
      "user_id month       \n",
      "1000    12.0       1\n",
      "1001    8.0        1\n",
      "        9.0        1\n",
      "        10.0       1\n",
      "        11.0       1\n",
      "        12.0       1\n"
     ]
    }
   ],
   "source": [
    "print('Sample of the number of text messages sent per month view for each user:')\n",
    "print(final_merged.groupby(['user_id','month'])['count_messages'].agg({'count'}).head(6))"
   ]
  },
  {
   "cell_type": "markdown",
   "metadata": {},
   "source": [
    "<h4>Conclusion"
   ]
  },
  {
   "cell_type": "markdown",
   "metadata": {},
   "source": [
    "Here we have the count of messages for each month sent by a user"
   ]
  },
  {
   "cell_type": "markdown",
   "metadata": {},
   "source": [
    "<h3>The volume of data per month"
   ]
  },
  {
   "cell_type": "code",
   "execution_count": 17,
   "metadata": {},
   "outputs": [
    {
     "name": "stdout",
     "output_type": "stream",
     "text": [
      "Volume of the data per month view for each user:\n",
      "                sum\n",
      "user_id month      \n",
      "1000    12.0    2.0\n",
      "1001    8.0     7.0\n",
      "        9.0    14.0\n",
      "        10.0   22.0\n",
      "        11.0   19.0\n",
      "        12.0   19.0\n"
     ]
    }
   ],
   "source": [
    "print('Volume of the data per month view for each user:')\n",
    "print(final_merged.groupby(['user_id','month'])['total_data'].agg({'sum'}).head(6))"
   ]
  },
  {
   "cell_type": "markdown",
   "metadata": {},
   "source": [
    "<h4>Conclusion"
   ]
  },
  {
   "cell_type": "markdown",
   "metadata": {},
   "source": [
    "Here we have the total volume of data per month used by a user"
   ]
  },
  {
   "cell_type": "markdown",
   "metadata": {},
   "source": [
    "<h2>Prepare the Data - Revenue Generator"
   ]
  },
  {
   "cell_type": "markdown",
   "metadata": {},
   "source": [
    "<h3>The monthly revenue from each user (subtract the free package limit from the total number of calls, text messages, and data; multiply the result by the calling plan value; add the monthly charge depending on the calling plan)"
   ]
  },
  {
   "cell_type": "code",
   "execution_count": 19,
   "metadata": {},
   "outputs": [
    {
     "data": {
      "text/html": [
       "<div>\n",
       "<style scoped>\n",
       "    .dataframe tbody tr th:only-of-type {\n",
       "        vertical-align: middle;\n",
       "    }\n",
       "\n",
       "    .dataframe tbody tr th {\n",
       "        vertical-align: top;\n",
       "    }\n",
       "\n",
       "    .dataframe thead th {\n",
       "        text-align: right;\n",
       "    }\n",
       "</style>\n",
       "<table border=\"1\" class=\"dataframe\">\n",
       "  <thead>\n",
       "    <tr style=\"text-align: right;\">\n",
       "      <th></th>\n",
       "      <th>index</th>\n",
       "      <th>user_id</th>\n",
       "      <th>first_name</th>\n",
       "      <th>last_name</th>\n",
       "      <th>age</th>\n",
       "      <th>city</th>\n",
       "      <th>reg_date</th>\n",
       "      <th>plan</th>\n",
       "      <th>churn_date</th>\n",
       "      <th>month</th>\n",
       "      <th>total_duration</th>\n",
       "      <th>count_calls</th>\n",
       "      <th>total_data</th>\n",
       "      <th>count_messages</th>\n",
       "      <th>total_cost</th>\n",
       "    </tr>\n",
       "  </thead>\n",
       "  <tbody>\n",
       "    <tr>\n",
       "      <td>88</td>\n",
       "      <td>89</td>\n",
       "      <td>1027</td>\n",
       "      <td>Georgeanna</td>\n",
       "      <td>Cardenas</td>\n",
       "      <td>38</td>\n",
       "      <td>New York-Newark-Jersey City, NY-NJ-PA MSA</td>\n",
       "      <td>2018-06-26</td>\n",
       "      <td>surf</td>\n",
       "      <td>0</td>\n",
       "      <td>7.0</td>\n",
       "      <td>347.0</td>\n",
       "      <td>46.0</td>\n",
       "      <td>12.0</td>\n",
       "      <td>18.0</td>\n",
       "      <td>20.00</td>\n",
       "    </tr>\n",
       "    <tr>\n",
       "      <td>1311</td>\n",
       "      <td>1316</td>\n",
       "      <td>1280</td>\n",
       "      <td>Jasper</td>\n",
       "      <td>Berry</td>\n",
       "      <td>29</td>\n",
       "      <td>New York-Newark-Jersey City, NY-NJ-PA MSA</td>\n",
       "      <td>2018-06-23</td>\n",
       "      <td>surf</td>\n",
       "      <td>0</td>\n",
       "      <td>6.0</td>\n",
       "      <td>65.0</td>\n",
       "      <td>11.0</td>\n",
       "      <td>5.0</td>\n",
       "      <td>11.0</td>\n",
       "      <td>20.00</td>\n",
       "    </tr>\n",
       "    <tr>\n",
       "      <td>1454</td>\n",
       "      <td>1460</td>\n",
       "      <td>1317</td>\n",
       "      <td>Ruthanne</td>\n",
       "      <td>Heath</td>\n",
       "      <td>70</td>\n",
       "      <td>Phoenix-Mesa-Chandler, AZ MSA</td>\n",
       "      <td>2018-11-11</td>\n",
       "      <td>ultimate</td>\n",
       "      <td>0</td>\n",
       "      <td>11.0</td>\n",
       "      <td>418.0</td>\n",
       "      <td>58.0</td>\n",
       "      <td>9.0</td>\n",
       "      <td>0.0</td>\n",
       "      <td>70.00</td>\n",
       "    </tr>\n",
       "    <tr>\n",
       "      <td>894</td>\n",
       "      <td>897</td>\n",
       "      <td>1186</td>\n",
       "      <td>Josiah</td>\n",
       "      <td>Douglas</td>\n",
       "      <td>55</td>\n",
       "      <td>Las Vegas-Henderson-Paradise, NV MSA</td>\n",
       "      <td>2018-12-22</td>\n",
       "      <td>ultimate</td>\n",
       "      <td>2018-12-31 00:00:00</td>\n",
       "      <td>12.0</td>\n",
       "      <td>91.0</td>\n",
       "      <td>17.0</td>\n",
       "      <td>2.0</td>\n",
       "      <td>13.0</td>\n",
       "      <td>70.00</td>\n",
       "    </tr>\n",
       "    <tr>\n",
       "      <td>1450</td>\n",
       "      <td>1456</td>\n",
       "      <td>1316</td>\n",
       "      <td>Lucilla</td>\n",
       "      <td>Weeks</td>\n",
       "      <td>59</td>\n",
       "      <td>Tulsa, OK MSA</td>\n",
       "      <td>2018-05-21</td>\n",
       "      <td>surf</td>\n",
       "      <td>0</td>\n",
       "      <td>9.0</td>\n",
       "      <td>180.0</td>\n",
       "      <td>32.0</td>\n",
       "      <td>24.0</td>\n",
       "      <td>61.0</td>\n",
       "      <td>110.33</td>\n",
       "    </tr>\n",
       "  </tbody>\n",
       "</table>\n",
       "</div>"
      ],
      "text/plain": [
       "      index  user_id  first_name last_name  age  \\\n",
       "88       89     1027  Georgeanna  Cardenas   38   \n",
       "1311   1316     1280      Jasper     Berry   29   \n",
       "1454   1460     1317    Ruthanne     Heath   70   \n",
       "894     897     1186      Josiah   Douglas   55   \n",
       "1450   1456     1316     Lucilla     Weeks   59   \n",
       "\n",
       "                                           city   reg_date      plan  \\\n",
       "88    New York-Newark-Jersey City, NY-NJ-PA MSA 2018-06-26      surf   \n",
       "1311  New York-Newark-Jersey City, NY-NJ-PA MSA 2018-06-23      surf   \n",
       "1454              Phoenix-Mesa-Chandler, AZ MSA 2018-11-11  ultimate   \n",
       "894        Las Vegas-Henderson-Paradise, NV MSA 2018-12-22  ultimate   \n",
       "1450                              Tulsa, OK MSA 2018-05-21      surf   \n",
       "\n",
       "               churn_date  month  total_duration  count_calls  total_data  \\\n",
       "88                      0    7.0           347.0         46.0        12.0   \n",
       "1311                    0    6.0            65.0         11.0         5.0   \n",
       "1454                    0   11.0           418.0         58.0         9.0   \n",
       "894   2018-12-31 00:00:00   12.0            91.0         17.0         2.0   \n",
       "1450                    0    9.0           180.0         32.0        24.0   \n",
       "\n",
       "      count_messages  total_cost  \n",
       "88              18.0       20.00  \n",
       "1311            11.0       20.00  \n",
       "1454             0.0       70.00  \n",
       "894             13.0       70.00  \n",
       "1450            61.0      110.33  "
      ]
     },
     "execution_count": 19,
     "metadata": {},
     "output_type": "execute_result"
    }
   ],
   "source": [
    "#Finding the monthly revenue from each user\n",
    "#Surf plan charges\n",
    "S_MONTH_CHARGE = 20\n",
    "S_MONTH_MINUTES = 500\n",
    "S_MONTH_TEXTS = 50\n",
    "S_MONTH_DATA = 15\n",
    "\n",
    "S_EXCESS_MINUTES = 0.03\n",
    "S_EXCESS_TEXTS = 0.03\n",
    "S_EXCESS_DATA = 10\n",
    "\n",
    "#Ultimate plan charges\n",
    "U_MONTH_CHARGE = 70\n",
    "U_MONTH_MINUTES = 3000\n",
    "U_MONTH_TEXTS = 1000\n",
    "U_MONTH_DATA = 30\n",
    "\n",
    "U_EXCESS_MINUTES = 0.01\n",
    "U_EXCESS_TEXTS = 0.01\n",
    "U_EXCESS_DATA = 7\n",
    "\n",
    "\n",
    "def total_revenue(row):\n",
    "    plan = row['plan']\n",
    "    messages = row['count_messages']\n",
    "    monthly_minutes = row['total_duration']\n",
    "    internet_usage = row['total_data']\n",
    "    if plan == 'surf':\n",
    " \n",
    "        if monthly_minutes >= S_MONTH_MINUTES:\n",
    "            revenue_calls = (S_EXCESS_MINUTES)*(monthly_minutes - S_MONTH_MINUTES) \n",
    "        else:\n",
    "            revenue_calls = 0\n",
    "        if messages >= S_MONTH_TEXTS:\n",
    "            revenue_messages = S_EXCESS_TEXTS*(messages - S_MONTH_TEXTS)\n",
    "        else :\n",
    "            revenue_messages = 0\n",
    "        if internet_usage >= S_MONTH_DATA:\n",
    "            revenue_internet_usage = S_EXCESS_DATA*(internet_usage - S_MONTH_DATA)\n",
    "        else :\n",
    "            revenue_internet_usage = 0\n",
    " \n",
    "        cost = S_MONTH_CHARGE + revenue_messages + revenue_internet_usage + revenue_calls\n",
    " \n",
    " \n",
    " \n",
    "    elif plan == 'ultimate':\n",
    " \n",
    "        if monthly_minutes >= U_MONTH_MINUTES:\n",
    "            revenue_calls = (U_EXCESS_MINUTES)*(monthly_minutes - U_MONTH_MINUTES) \n",
    "        else:\n",
    "            revenue_calls = 0\n",
    "        if messages >= U_MONTH_TEXTS:\n",
    "            revenue_messages = U_EXCESS_TEXTS*(messages - U_MONTH_TEXTS)\n",
    "        else :\n",
    "            revenue_messages = 0\n",
    "        if internet_usage >= U_MONTH_DATA:\n",
    "            revenue_internet_usage = U_EXCESS_DATA*(internet_usage - U_MONTH_DATA)\n",
    "        else :\n",
    "            revenue_internet_usage = 0\n",
    " \n",
    "        cost = U_MONTH_CHARGE + revenue_messages + revenue_internet_usage + revenue_calls\n",
    " \n",
    "    return cost\n",
    "\n",
    "\n",
    "#Adding cost column to the final merged dataframe\n",
    "final_merged['total_cost'] = final_merged.apply(total_revenue, axis = 1)\n",
    "\n",
    "final_merged.sample(5)\n"
   ]
  },
  {
   "cell_type": "markdown",
   "metadata": {},
   "source": [
    "<h4>Conclusion"
   ]
  },
  {
   "cell_type": "markdown",
   "metadata": {},
   "source": [
    "- Rounded seconds up to minutes, and megabytes to gigabytes. For calls, each individual call is rounded up even the one second call is counted as one minute. For web traffic, individual web sessions are not rounded up. Instead, the total for the month is rounded up based on 1024mb = 1GB\n",
    "- Calculated monthly charges for Surf customers based on the given plan of:\n",
    "`Monthly charge: $20\n",
    " 500 monthly minutes, 50 texts, and 15 GB of data\n",
    "    After exceeding the package limits:\n",
    "1 minute:3 cents;1 text message:3 cents;1 GB of data:$10\n",
    "`\n",
    "<br>\n",
    "- Calculated monthly charges for Ultimate customers based on the given plan of:\n",
    "`Monthly charge: $70\n",
    "3000 monthly minutes, 1000 text messages, and 30 GB of data\n",
    "After exceeding the package limits:\n",
    "1 minute:1 cent; 1 text message:1 cent; 1 GB of data:$7\n",
    "`\n"
   ]
  },
  {
   "cell_type": "markdown",
   "metadata": {},
   "source": [
    "<h2>Analyze the Data"
   ]
  },
  {
   "cell_type": "markdown",
   "metadata": {},
   "source": [
    "Here we are working on the data to get an understanding of customers' behaviour. With the help of histograms we can get a better understanding of both the plans and how it works for the customers. We will also find the minutes, texts, and volume of data the users of each plan require per month as well as the mean, dispersion, and standard deviation"
   ]
  },
  {
   "cell_type": "markdown",
   "metadata": {},
   "source": [
    "<h3>Find the minutes, texts, and volume of data the users of each plan require per month. Calculate the mean, dispersion, and standard deviation. "
   ]
  },
  {
   "cell_type": "code",
   "execution_count": 28,
   "metadata": {
    "scrolled": false
   },
   "outputs": [
    {
     "name": "stdout",
     "output_type": "stream",
     "text": [
      "Skewness\n",
      "index             0.021651\n",
      "user_id           0.071628\n",
      "age               0.020578\n",
      "month            -0.790531\n",
      "total_duration    0.120221\n",
      "count_calls       0.054274\n",
      "total_data       -0.068821\n",
      "count_messages    0.984244\n",
      "total_cost        1.265476\n",
      "dtype: float64\n"
     ]
    },
    {
     "data": {
      "image/png": "[encoded data removed]",
      "text/plain": [
       "<Figure size 600x350 with 1 Axes>"
      ]
     },
     "metadata": {
      "needs_background": "light"
     },
     "output_type": "display_data"
    },
    {
     "data": {
      "image/png": "[encoded data removed]",
      "text/plain": [
       "<Figure size 600x350 with 1 Axes>"
      ]
     },
     "metadata": {
      "needs_background": "light"
     },
     "output_type": "display_data"
    },
    {
     "data": {
      "image/png": "[encoded data removed]",
      "text/plain": [
       "<Figure size 600x350 with 1 Axes>"
      ]
     },
     "metadata": {
      "needs_background": "light"
     },
     "output_type": "display_data"
    },
    {
     "data": {
      "image/png": "[encoded data removed]",
      "text/plain": [
       "<Figure size 600x350 with 1 Axes>"
      ]
     },
     "metadata": {
      "needs_background": "light"
     },
     "output_type": "display_data"
    },
    {
     "data": {
      "image/png": "[encoded data removed]",
      "text/plain": [
       "<Figure size 600x350 with 1 Axes>"
      ]
     },
     "metadata": {
      "needs_background": "light"
     },
     "output_type": "display_data"
    },
    {
     "name": "stdout",
     "output_type": "stream",
     "text": [
      "Skewness\n",
      "index             0.021651\n",
      "user_id           0.071628\n",
      "age               0.020578\n",
      "month            -0.790531\n",
      "total_duration    0.120221\n",
      "count_calls       0.054274\n",
      "total_data       -0.068821\n",
      "count_messages    0.984244\n",
      "total_cost        1.265476\n",
      "dtype: float64\n",
      "\n",
      "\n",
      "The mean, dispersion, and standard deviation:\n"
     ]
    },
    {
     "data": {
      "text/html": [
       "<div>\n",
       "<style scoped>\n",
       "    .dataframe tbody tr th:only-of-type {\n",
       "        vertical-align: middle;\n",
       "    }\n",
       "\n",
       "    .dataframe tbody tr th {\n",
       "        vertical-align: top;\n",
       "    }\n",
       "\n",
       "    .dataframe thead th {\n",
       "        text-align: right;\n",
       "    }\n",
       "</style>\n",
       "<table border=\"1\" class=\"dataframe\">\n",
       "  <thead>\n",
       "    <tr style=\"text-align: right;\">\n",
       "      <th></th>\n",
       "      <th>index</th>\n",
       "      <th>user_id</th>\n",
       "      <th>age</th>\n",
       "      <th>month</th>\n",
       "      <th>total_duration</th>\n",
       "      <th>count_calls</th>\n",
       "      <th>total_data</th>\n",
       "      <th>count_messages</th>\n",
       "      <th>total_cost</th>\n",
       "    </tr>\n",
       "  </thead>\n",
       "  <tbody>\n",
       "    <tr>\n",
       "      <td>count</td>\n",
       "      <td>2158.000000</td>\n",
       "      <td>2158.000000</td>\n",
       "      <td>2158.000000</td>\n",
       "      <td>2158.000000</td>\n",
       "      <td>2158.000000</td>\n",
       "      <td>2158.000000</td>\n",
       "      <td>2158.000000</td>\n",
       "      <td>2158.000000</td>\n",
       "      <td>2158.000000</td>\n",
       "    </tr>\n",
       "    <tr>\n",
       "      <td>mean</td>\n",
       "      <td>1146.059314</td>\n",
       "      <td>1245.092215</td>\n",
       "      <td>45.540315</td>\n",
       "      <td>9.134384</td>\n",
       "      <td>411.010195</td>\n",
       "      <td>57.534291</td>\n",
       "      <td>16.269694</td>\n",
       "      <td>29.717331</td>\n",
       "      <td>60.110533</td>\n",
       "    </tr>\n",
       "    <tr>\n",
       "      <td>std</td>\n",
       "      <td>664.677137</td>\n",
       "      <td>143.002525</td>\n",
       "      <td>16.790288</td>\n",
       "      <td>2.510158</td>\n",
       "      <td>210.723794</td>\n",
       "      <td>28.818368</td>\n",
       "      <td>6.863428</td>\n",
       "      <td>29.045610</td>\n",
       "      <td>36.875547</td>\n",
       "    </tr>\n",
       "    <tr>\n",
       "      <td>min</td>\n",
       "      <td>0.000000</td>\n",
       "      <td>1000.000000</td>\n",
       "      <td>18.000000</td>\n",
       "      <td>1.000000</td>\n",
       "      <td>0.000000</td>\n",
       "      <td>0.000000</td>\n",
       "      <td>0.000000</td>\n",
       "      <td>0.000000</td>\n",
       "      <td>20.000000</td>\n",
       "    </tr>\n",
       "    <tr>\n",
       "      <td>25%</td>\n",
       "      <td>566.250000</td>\n",
       "      <td>1120.000000</td>\n",
       "      <td>30.000000</td>\n",
       "      <td>8.000000</td>\n",
       "      <td>260.000000</td>\n",
       "      <td>37.000000</td>\n",
       "      <td>12.000000</td>\n",
       "      <td>3.000000</td>\n",
       "      <td>22.160000</td>\n",
       "    </tr>\n",
       "    <tr>\n",
       "      <td>50%</td>\n",
       "      <td>1137.500000</td>\n",
       "      <td>1241.000000</td>\n",
       "      <td>46.000000</td>\n",
       "      <td>10.000000</td>\n",
       "      <td>416.000000</td>\n",
       "      <td>59.000000</td>\n",
       "      <td>17.000000</td>\n",
       "      <td>24.000000</td>\n",
       "      <td>70.000000</td>\n",
       "    </tr>\n",
       "    <tr>\n",
       "      <td>75%</td>\n",
       "      <td>1723.750000</td>\n",
       "      <td>1368.000000</td>\n",
       "      <td>61.000000</td>\n",
       "      <td>11.000000</td>\n",
       "      <td>554.000000</td>\n",
       "      <td>78.000000</td>\n",
       "      <td>21.000000</td>\n",
       "      <td>47.000000</td>\n",
       "      <td>70.000000</td>\n",
       "    </tr>\n",
       "    <tr>\n",
       "      <td>max</td>\n",
       "      <td>2302.000000</td>\n",
       "      <td>1499.000000</td>\n",
       "      <td>75.000000</td>\n",
       "      <td>12.000000</td>\n",
       "      <td>1043.000000</td>\n",
       "      <td>139.000000</td>\n",
       "      <td>35.000000</td>\n",
       "      <td>128.000000</td>\n",
       "      <td>227.230000</td>\n",
       "    </tr>\n",
       "  </tbody>\n",
       "</table>\n",
       "</div>"
      ],
      "text/plain": [
       "             index      user_id          age        month  total_duration  \\\n",
       "count  2158.000000  2158.000000  2158.000000  2158.000000     2158.000000   \n",
       "mean   1146.059314  1245.092215    45.540315     9.134384      411.010195   \n",
       "std     664.677137   143.002525    16.790288     2.510158      210.723794   \n",
       "min       0.000000  1000.000000    18.000000     1.000000        0.000000   \n",
       "25%     566.250000  1120.000000    30.000000     8.000000      260.000000   \n",
       "50%    1137.500000  1241.000000    46.000000    10.000000      416.000000   \n",
       "75%    1723.750000  1368.000000    61.000000    11.000000      554.000000   \n",
       "max    2302.000000  1499.000000    75.000000    12.000000     1043.000000   \n",
       "\n",
       "       count_calls   total_data  count_messages   total_cost  \n",
       "count  2158.000000  2158.000000     2158.000000  2158.000000  \n",
       "mean     57.534291    16.269694       29.717331    60.110533  \n",
       "std      28.818368     6.863428       29.045610    36.875547  \n",
       "min       0.000000     0.000000        0.000000    20.000000  \n",
       "25%      37.000000    12.000000        3.000000    22.160000  \n",
       "50%      59.000000    17.000000       24.000000    70.000000  \n",
       "75%      78.000000    21.000000       47.000000    70.000000  \n",
       "max     139.000000    35.000000      128.000000   227.230000  "
      ]
     },
     "execution_count": 28,
     "metadata": {},
     "output_type": "execute_result"
    }
   ],
   "source": [
    "#Checking for the skewness\n",
    "print('Skewness')\n",
    "print(final_merged.skew())\n",
    "\n",
    "\n",
    "#Finding outliers of the final merged dataframe using boxplot for the quantitative columns\n",
    "\n",
    "pyplot.ylim(0,1510)\n",
    "final_merged.boxplot(column=[\"total_duration\"]) \n",
    "pyplot.ylabel('values')\n",
    "pyplot.show()\n",
    "pyplot.ylim(0,70)\n",
    "final_merged.boxplot(column=[\"total_data\"]) \n",
    "pyplot.ylabel('values')\n",
    "pyplot.show()\n",
    "pyplot.ylim(0,266)\n",
    "final_merged.boxplot(column=[\"count_messages\"])\n",
    "pyplot.ylabel('values')\n",
    "pyplot.show()\n",
    "pyplot.ylim(0,205)\n",
    "final_merged.boxplot(column=[\"count_calls\"]) \n",
    "pyplot.ylabel('values')\n",
    "pyplot.show()\n",
    "\n",
    "\n",
    "#Final dataframe after removing the outlier data\n",
    "final_merged = final_merged.query('total_duration < 1050 and count_messages <130 and total_data <36 and count_calls <140')\n",
    "\n",
    "\n",
    "#Checking for the skewness\n",
    "print('Skewness')\n",
    "print(final_merged.skew())\n",
    "\n",
    "print('\\n\\nThe mean, dispersion, and standard deviation:')\n",
    "final_merged.describe()\n",
    "\n",
    "\n",
    "\n"
   ]
  },
  {
   "cell_type": "markdown",
   "metadata": {},
   "source": [
    "<h4>Conclusion"
   ]
  },
  {
   "cell_type": "markdown",
   "metadata": {},
   "source": [
    "- We can see that `total_duration`,`total_data` ,the data are moderately skewed\n",
    "- `total_cost` and `count_messages`, the data are highly skewed\n",
    "- Rest of the column have skewness in between -0.5 and 0.5, the data are fairly symmetrical\n",
    "- We see that `month` and `age` also has skewness but it is a fixed data like `user_id`, hence we wont operate on these columns to change the skewness, i.e to remove outliers<br>\n",
    "\n"
   ]
  },
  {
   "cell_type": "markdown",
   "metadata": {},
   "source": [
    "- Removed the outliers using the boxplot method. Did not work on the `total_cost` column as it is a dependent column. Therefore worked on `total_data`,`total_duration`, `count_calls` and `count_messages`.\n",
    "- First boxplotted all the `total_data`,`total_duration`, `count_calls` and `count_messages` columns based on their ranges which I got from the `.describe()` method.\n",
    "- Updated the `final_merged` dataframe by filtering the values based on the outliers seen on the boxplot graphs.\n",
    "- There are now 2132 data entries to work on as compared to the previous 2293 entries.\n"
   ]
  },
  {
   "cell_type": "markdown",
   "metadata": {},
   "source": [
    "\n"
   ]
  },
  {
   "cell_type": "markdown",
   "metadata": {},
   "source": [
    "<h3>Plot histograms. Describe the distributions."
   ]
  },
  {
   "cell_type": "code",
   "execution_count": 24,
   "metadata": {},
   "outputs": [
    {
     "data": {
      "image/png": "[encoded data removed]",
      "text/plain": [
       "<Figure size 600x350 with 1 Axes>"
      ]
     },
     "metadata": {
      "needs_background": "light"
     },
     "output_type": "display_data"
    },
    {
     "data": {
      "image/png": "[encoded data removed]",
      "text/plain": [
       "<Figure size 600x350 with 1 Axes>"
      ]
     },
     "metadata": {
      "needs_background": "light"
     },
     "output_type": "display_data"
    },
    {
     "data": {
      "image/png": "[encoded data removed]",
      "text/plain": [
       "<Figure size 600x350 with 1 Axes>"
      ]
     },
     "metadata": {
      "needs_background": "light"
     },
     "output_type": "display_data"
    },
    {
     "name": "stdout",
     "output_type": "stream",
     "text": [
      "Final merged data description:\n",
      "\n",
      "             index      user_id          age        month  total_duration  \\\n",
      "count  2158.000000  2158.000000  2158.000000  2158.000000     2158.000000   \n",
      "mean   1146.059314  1245.092215    45.540315     9.134384      411.010195   \n",
      "std     664.677137   143.002525    16.790288     2.510158      210.723794   \n",
      "min       0.000000  1000.000000    18.000000     1.000000        0.000000   \n",
      "25%     566.250000  1120.000000    30.000000     8.000000      260.000000   \n",
      "50%    1137.500000  1241.000000    46.000000    10.000000      416.000000   \n",
      "75%    1723.750000  1368.000000    61.000000    11.000000      554.000000   \n",
      "max    2302.000000  1499.000000    75.000000    12.000000     1043.000000   \n",
      "\n",
      "       count_calls   total_data  count_messages   total_cost  \n",
      "count  2158.000000  2158.000000     2158.000000  2158.000000  \n",
      "mean     57.534291    16.269694       29.717331    60.110533  \n",
      "std      28.818368     6.863428       29.045610    36.875547  \n",
      "min       0.000000     0.000000        0.000000    20.000000  \n",
      "25%      37.000000    12.000000        3.000000    22.160000  \n",
      "50%      59.000000    17.000000       24.000000    70.000000  \n",
      "75%      78.000000    21.000000       47.000000    70.000000  \n",
      "max     139.000000    35.000000      128.000000   227.230000  \n"
     ]
    }
   ],
   "source": [
    "\n",
    "#Plotting histogram for total data for both surf and ultimate plans\n",
    "surf_data = final_merged.loc[final_merged.plan=='surf','total_data']\n",
    "ultimate_data = final_merged.loc[final_merged.plan=='ultimate','total_data']\n",
    "\n",
    "pyplot.rcParams.update({'figure.figsize':(6,3.5), 'figure.dpi':100})\n",
    "pyplot.hist(surf_data, alpha=0.5, bins = 30, color = 'r', label='surf data')\n",
    "pyplot.hist(ultimate_data, alpha=0.5, bins = 30, color = 'g', label='ultimate data')\n",
    "pyplot.legend(loc='upper right')\n",
    "pyplot.gca().set(title='Frequency Histogram for total data', ylabel='Frequency')\n",
    "pyplot.xlabel('Total amount of data used(GB)')\n",
    "pyplot.show()\n",
    "\n",
    "\n",
    "#Plotting histogram for total call duration for both surf and ultimate plans\n",
    "surf_call = final_merged.loc[final_merged.plan=='surf','total_duration']\n",
    "ultimate_call = final_merged.loc[final_merged.plan=='ultimate','total_duration']\n",
    "\n",
    "pyplot.rcParams.update({'figure.figsize':(6,3.5), 'figure.dpi':100})\n",
    "pyplot.hist(surf_call, alpha=0.5, bins = 30, color = 'r', label='surf call')\n",
    "pyplot.hist(ultimate_call, alpha=0.5, bins = 30, color = 'b', label='ultimate call')\n",
    "pyplot.legend(loc='upper right')\n",
    "pyplot.gca().set(title='Frequency Histogram for total call duration', ylabel='Frequency')\n",
    "pyplot.ylim(0,160)\n",
    "pyplot.xlabel('Total call duration')\n",
    "pyplot.show()\n",
    "\n",
    "\n",
    "#Plotting histogram for total count of messages for both surf and ultimate plans\n",
    "surf_msg = final_merged.loc[final_merged.plan=='surf','count_messages']\n",
    "ultimate_msg = final_merged.loc[final_merged.plan=='ultimate','count_messages']\n",
    "\n",
    "pyplot.rcParams.update({'figure.figsize':(6,3.5), 'figure.dpi':100})\n",
    "pyplot.hist(surf_msg, alpha=0.5, bins = 30, color = 'b', label='surf messages')\n",
    "pyplot.hist(ultimate_msg, alpha=0.5, bins = 30, color = 'g', label='ultimate messages')\n",
    "pyplot.legend(loc='upper right')\n",
    "pyplot.gca().set(title='Frequency Histogram for total count of messages', ylabel='Frequency')\n",
    "pyplot.ylim(0,600)\n",
    "pyplot.xlabel('Total count of messages')\n",
    "pyplot.show()\n",
    "\n",
    "\n",
    "\n",
    "#Dispersion of the data\n",
    "print('Final merged data description:\\n')\n",
    "print(final_merged.describe())\n"
   ]
  },
  {
   "cell_type": "markdown",
   "metadata": {},
   "source": [
    "<h4>Conclusion"
   ]
  },
  {
   "cell_type": "markdown",
   "metadata": {},
   "source": [
    "- From the above histograms we can make the following conclusions for\n",
    "- Total Data used\n",
    "    - Both for Surf and Ultimate plans mostly people use an average of 17-18GB data, the number of users using the data are different. There are almost 3 times more Surf users as compared to Ultimate plan users.\n",
    "- Total Call Duration\n",
    "     - Both for Surf and Ultimate plans most people spend a little less 500 minutes speaking on the phone for a month, although the number of users using are different. There are almost 2 times more Surf users as compared to Ultimate plan users.\n",
    "- Total Messages sent\n",
    "    - We can notice that mostly people do not send a text message as there are huge peaks at 0 messages. Here as well we see that the number of users sending the same number of text messages are more than double in Surf plan as compared to Ultimate plan users\n",
    "- The other very noticeable thing  as per the histograms is that the ranges are almost similar for both surf and ultimate users,for the all the three areas - data, calls, messages.\n",
    "- Also we can see from the `.describe()` method, the way the data has been distributed.\n",
    "- Now after removing the outliers we can now see that the mean and median are very close in range."
   ]
  },
  {
   "cell_type": "markdown",
   "metadata": {},
   "source": [
    "<h2>Test the hypotheses - For Surf and Ultimate plan users"
   ]
  },
  {
   "cell_type": "markdown",
   "metadata": {},
   "source": [
    "\n",
    "We start with the null hypothesis H₀ : “The average revenue from users of Ultimate plans is equal to Surf calling plans.” The alternative hypothesis, H₁, is based on H₀. For this H₀, H₁ would be, “The average revenue from users of Ultimate plans is not equal to Surf calling plans.”"
   ]
  },
  {
   "cell_type": "code",
   "execution_count": 31,
   "metadata": {},
   "outputs": [
    {
     "name": "stdout",
     "output_type": "stream",
     "text": [
      "\n",
      "\n",
      " Surf Variance:  1893.1822340498625\n",
      "Ultimate Variance:  11.63023055685037\n",
      "Ratio: 162.781143915909\n",
      "\n",
      "\n",
      "  Welch's t-test 's \n",
      "Different distribution (reject H0)\n",
      "p-value: 4.680405731838834e-38\n"
     ]
    }
   ],
   "source": [
    "\n",
    "#Creating two dataframes for surf plan and ultimate plan users\n",
    "surf_df = final_merged.query(\"plan == 'surf'\")\n",
    "ultimate_df = final_merged.query(\"plan == 'ultimate'\")\n",
    "\n",
    "#Hypothesis on the Equality of Two Population Means\n",
    "#Finding the variance\n",
    "print('\\n\\n Surf Variance: ',np.var(surf_df.total_cost))\n",
    "print('Ultimate Variance: ',np.var(ultimate_df.total_cost))\n",
    "print('Ratio:',np.var(surf_df.total_cost)/np.var(ultimate_df.total_cost))\n",
    "\n",
    "results = stats.ttest_ind(\n",
    "        surf_df.total_cost, \n",
    "        ultimate_df.total_cost, equal_var = False)\n",
    "#\n",
    "\n",
    "print(\"\\n\\n  Welch's t-test 's \" ) \n",
    "alpha = 0.05\n",
    "if results.pvalue > alpha:\n",
    "    print('Same distribution (fail to reject H0)')\n",
    "else:\n",
    "    print('Different distribution (reject H0)')\n",
    "    \n",
    "print('p-value:',results.pvalue)\n",
    "\n"
   ]
  },
  {
   "cell_type": "markdown",
   "metadata": {},
   "source": [
    "<h4>Conclusion"
   ]
  },
  {
   "cell_type": "markdown",
   "metadata": {},
   "source": [
    "-  Welch's t-test  - as we have more than 50 entities for each case and after removing the outliers the data somewhat resembles that of normally distributed data as well:\n",
    "- We checked for the variance of both surf and ultimate total_cost data, and we found that ratio of the larger sample variance to the smaller sample variance is greater than 4:1. This means we can assume that the population variances are not equal.\n",
    "- Thus, we proceeded to perform the two sample t-test with unequal variances with alpha being 0.05\n",
    "- We can now make the assumption that - The average revenue from users of Ultimate and Surf calling plans differs."
   ]
  },
  {
   "cell_type": "markdown",
   "metadata": {},
   "source": [
    "<h2>Test the hypotheses - For NY-NJ and other users"
   ]
  },
  {
   "cell_type": "markdown",
   "metadata": {},
   "source": [
    "\n",
    "We start with the null hypothesis H₀ : “The average revenue from users of NY-NJ city  is equal to people living in other cities.” The alternative hypothesis, H₁, is based on H₀. For this H₀, H₁ would be, “The average revenue from users of NY-NJ city  is not equal to people living in other cities.”\n"
   ]
  },
  {
   "cell_type": "code",
   "execution_count": 32,
   "metadata": {},
   "outputs": [
    {
     "name": "stdout",
     "output_type": "stream",
     "text": [
      "\n",
      "\n",
      "NY-NJ Users total Revenue:  21153.989999999998\n",
      "Other cities Users total Revenue:  108564.54000000001\n",
      "NY-NJ Variance of total cost:  1591.610229610436\n",
      "Other cities Variance of total cost:  1310.0402661616288\n",
      "Ratio: 0.8230911323573709\n",
      "\n",
      "\n",
      "Student's t-test\n",
      "Same distribution (fail to reject H0)\n",
      "p-value: 0.15898070313969376\n"
     ]
    }
   ],
   "source": [
    "#Creating a dataframe for users in NY-NJ area\n",
    "ny_njdf = final_merged[final_merged['city'].str.contains(\"NY-NJ\")] \n",
    "\n",
    "\n",
    "#Creating a dataframe for users in other areas\n",
    "other_df = final_merged[~final_merged['city'].str.contains(\"NY-NJ\")] \n",
    "\n",
    "\n",
    "#NY-NJ and Other cities total cost\n",
    "print('\\n\\nNY-NJ Users total Revenue: ',ny_njdf.total_cost.sum())\n",
    "print('Other cities Users total Revenue: ',other_df.total_cost.sum())\n",
    "\n",
    "\n",
    "#Hypothesis on the Equality of Two Population Means\n",
    "#Variance of NY-NJ and Other cities total cost\n",
    "print('NY-NJ Variance of total cost: ',np.var(ny_njdf.total_cost))\n",
    "print('Other cities Variance of total cost: ',np.var(other_df.total_cost))\n",
    "print('Ratio:',np.var(other_df.total_cost)/np.var(ny_njdf.total_cost))\n",
    "\n",
    "results = stats.ttest_ind(\n",
    "        ny_njdf.total_cost, \n",
    "        other_df.total_cost, equal_var = True)\n",
    "#\n",
    "print(\"\\n\\nStudent's t-test\" ) \n",
    "alpha = 0.05\n",
    "if results.pvalue > alpha:\n",
    "    print('Same distribution (fail to reject H0)')\n",
    "else:\n",
    "    print('Different distribution (reject H0)')\n",
    "    \n",
    "print('p-value:',results.pvalue)\n"
   ]
  },
  {
   "cell_type": "markdown",
   "metadata": {},
   "source": [
    "<h4>Conclusion"
   ]
  },
  {
   "cell_type": "markdown",
   "metadata": {},
   "source": [
    "- Student's t-test - as we have more than 50 entities for each case and after removing the outliers the data somewhat resembles that of normally distributed data as well:\n",
    "- We checked for the variance of both NY-NJ and Other users total_cost data, and we found that ratio of the larger sample variance to the smaller sample variance is lesser than 4:1. This means we can assume that the population variances are equal.\n",
    "- Thus, we proceeded to perform the two sample t-test with equal variances with alpha being 0.05\n",
    "- As the hypothesis is not rejected so we can assume that - The average revenue from users of NY-NJ city does not differs to the average revenue from people living in other cities.\n",
    "- The p-value tells us that although the average amounts for the two groups of data are different, there is a 16% probability of randomly getting a difference that size or larger. This probability is clearly too high to conclude that there is a significant difference between the average revenue."
   ]
  },
  {
   "cell_type": "markdown",
   "metadata": {},
   "source": [
    "# Overall Conclusion"
   ]
  },
  {
   "cell_type": "markdown",
   "metadata": {},
   "source": [
    "- Even though Ultimate plan offers 3000 monthly minutes, 1000 text messages, and 30 GB of data , rarely do customers use up this much amount of call minutes, messages and internet. \n",
    "- From the above analysis we can conclude that Surf plan users brings in more revenue that Ultimate plan users. This might be due to Surf plan the amount of amount of call minutes, messages and internet offered in its plan is exactly around the average amount of call minutes, messages and internet used by a customer and that too for a monthly charge of less than 1/3 of Ultimate monthly plan. Therefore more number of customers end up buying this plan. thus more revenue is generated.\n",
    "- There is a 16% probability that the average revenue from users of NY-NJ city can differ to that of people living in other cities. This might be due to the fact that is just one area/city as compared to the rest of the country/72 cities"
   ]
  },
  {
   "cell_type": "markdown",
   "metadata": {},
   "source": [
    "<div class=\"alert alert-block alert-success\">\n",
    "<b>Reviewer's comment v.1:</b> Swarna, you've done a really good job and your conclusion is correct! You could also add the conclusion regarded the hypotheses that the average profit from users in NY-NJ area is different from that of the users from other regions. \n",
    "</div>"
   ]
  },
  {
   "cell_type": "markdown",
   "metadata": {},
   "source": [
    "<div class=\"alert alert-info\">\n",
    "    Thank you for the feedback, I really appreciate it. When re-working on my prject based on the feedback, it beacame much more clearer on why the things are supposed to be in that way. I have tried implementing the given suggestions and corrections on my project to the best of my knowledge. Please take a look and let me know if I am still missing something. Thank you!</div>"
   ]
  },
  {
   "cell_type": "markdown",
   "metadata": {},
   "source": [
    "<div class=\"alert alert-block alert-success\">\n",
    "<b>Reviewer's comment v.2:</b> Swarna, thank you for your work and for improving the project. You've done a really good job! Keep up the good work and good luck on the next sprint!\n",
    "</div>"
   ]
  }
 ],
 "metadata": {
  "ExecuteTimeLog": [
   {
    "duration": 1333,
    "start_time": "2021-08-13T20:22:32.235Z"
   },
   {
    "duration": 1064,
    "start_time": "2021-08-13T20:22:33.570Z"
   },
   {
    "duration": 115,
    "start_time": "2021-08-13T20:22:34.637Z"
   },
   {
    "duration": 205,
    "start_time": "2021-08-13T20:22:34.757Z"
   },
   {
    "duration": 9789,
    "start_time": "2021-08-13T20:22:34.966Z"
   },
   {
    "duration": -171,
    "start_time": "2021-08-13T20:22:44.929Z"
   },
   {
    "duration": -183,
    "start_time": "2021-08-13T20:22:44.943Z"
   },
   {
    "duration": -187,
    "start_time": "2021-08-13T20:22:44.949Z"
   },
   {
    "duration": -197,
    "start_time": "2021-08-13T20:22:44.961Z"
   },
   {
    "duration": -203,
    "start_time": "2021-08-13T20:22:44.968Z"
   },
   {
    "duration": 14,
    "start_time": "2021-08-13T20:23:29.322Z"
   },
   {
    "duration": 9,
    "start_time": "2021-08-13T20:23:47.848Z"
   },
   {
    "duration": 11,
    "start_time": "2021-08-13T20:24:56.691Z"
   },
   {
    "duration": 12,
    "start_time": "2021-08-13T20:26:30.088Z"
   },
   {
    "duration": 119,
    "start_time": "2021-08-13T20:27:54.502Z"
   },
   {
    "duration": 18,
    "start_time": "2021-08-13T20:28:01.900Z"
   },
   {
    "duration": 13,
    "start_time": "2021-08-13T20:28:22.769Z"
   },
   {
    "duration": 13,
    "start_time": "2021-08-13T20:28:35.058Z"
   },
   {
    "duration": 131,
    "start_time": "2021-08-13T20:29:12.158Z"
   },
   {
    "duration": 15,
    "start_time": "2021-08-13T20:30:19.432Z"
   },
   {
    "duration": 19,
    "start_time": "2021-08-13T20:30:55.781Z"
   },
   {
    "duration": 14,
    "start_time": "2021-08-13T20:31:02.212Z"
   },
   {
    "duration": 183,
    "start_time": "2021-08-13T20:31:52.430Z"
   },
   {
    "duration": 190,
    "start_time": "2021-08-13T20:56:24.913Z"
   },
   {
    "duration": 953,
    "start_time": "2021-08-13T20:57:21.460Z"
   },
   {
    "duration": 1061,
    "start_time": "2021-08-13T21:03:29.386Z"
   },
   {
    "duration": 998,
    "start_time": "2021-08-13T21:06:24.889Z"
   },
   {
    "duration": 972,
    "start_time": "2021-08-13T21:06:40.576Z"
   },
   {
    "duration": 1678,
    "start_time": "2021-08-13T21:07:31.997Z"
   },
   {
    "duration": 1098,
    "start_time": "2021-08-13T21:09:15.449Z"
   },
   {
    "duration": 29,
    "start_time": "2021-08-13T21:09:29.055Z"
   },
   {
    "duration": 29,
    "start_time": "2021-08-13T21:11:41.085Z"
   },
   {
    "duration": 1359,
    "start_time": "2021-08-13T21:21:46.428Z"
   },
   {
    "duration": 20,
    "start_time": "2021-08-13T21:27:59.313Z"
   },
   {
    "duration": 21,
    "start_time": "2021-08-13T21:32:12.641Z"
   },
   {
    "duration": 18,
    "start_time": "2021-08-13T21:38:15.614Z"
   },
   {
    "duration": 21,
    "start_time": "2021-08-13T21:39:32.194Z"
   }
  ],
  "kernelspec": {
   "display_name": "Python 3",
   "language": "python",
   "name": "python3"
  },
  "language_info": {
   "codemirror_mode": {
    "name": "ipython",
    "version": 3
   },
   "file_extension": ".py",
   "mimetype": "text/x-python",
   "name": "python",
   "nbconvert_exporter": "python",
   "pygments_lexer": "ipython3",
   "version": "3.7.8"
  },
  "toc": {
   "base_numbering": 1,
   "nav_menu": {},
   "number_sections": false,
   "sideBar": true,
   "skip_h1_title": false,
   "title_cell": "Table of Contents",
   "title_sidebar": "Contents",
   "toc_cell": false,
   "toc_position": {},
   "toc_section_display": true,
   "toc_window_display": true
  }
 },
 "nbformat": 4,
 "nbformat_minor": 2
}
