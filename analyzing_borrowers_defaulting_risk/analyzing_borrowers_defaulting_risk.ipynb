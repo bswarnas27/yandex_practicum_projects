{
 "cells": [
  {
   "cell_type": "markdown",
   "metadata": {},
   "source": [
    "# Analyzing borrowers’ risk of defaulting"
   ]
  },
  {
   "cell_type": "markdown",
   "metadata": {},
   "source": [
    "<h2>Project Description"
   ]
  },
  {
   "cell_type": "markdown",
   "metadata": {},
   "source": [
    "\n",
    "The project is to prepare a report for a bank’s loan division. The aim is to find out if a customer’s marital status and number of children has an impact on whether they will default on a loan. The bank already has some data on customers’ credit worthiness.\n",
    "\n",
    "The report will be considered when building a **credit scoring** of a potential customer. A ** credit scoring ** is used to evaluate the ability of a potential borrower to repay their loan.\n",
    "\n",
    "Description of the data\n",
    "- children: the number of children in the family\n",
    "- days_employed: how long the customer has been working\n",
    "- dob_years: the customer’s age\n",
    "- education: the customer’s education level\n",
    "- education_id: identifier for the customer’s education\n",
    "- family_status: the customer’s marital status\n",
    "- family_status_id: identifier for the customer’s marital status\n",
    "- gender: the customer’s gender\n",
    "- income_type: the customer’s income type\n",
    "- debt: whether the customer has ever defaulted on a loan\n",
    "- total_income: monthly income\n",
    "- purpose: reason for taking out a loan"
   ]
  },
  {
   "cell_type": "markdown",
   "metadata": {
    "toc": true
   },
   "source": [
    "<h1>Table of Contents<span class=\"tocSkip\"></span></h1>\n",
    "<div class=\"toc\"><ul class=\"toc-item\"><li><span><a href=\"#Analyzing-borrowers’-risk-of-defaulting\" data-toc-modified-id=\"Analyzing-borrowers’-risk-of-defaulting-1\">Analyzing borrowers’ risk of defaulting</a></span><ul class=\"toc-item\"><li><span><a href=\"#Project-Description\" data-toc-modified-id=\"Project-Description-1.1\">Project Description</a></span></li><li><span><a href=\"#Open-the-data-file-and-have-a-look-at-the-general-information.-\" data-toc-modified-id=\"Open-the-data-file-and-have-a-look-at-the-general-information.--1.2\">Open the data file and have a look at the general information. </a></span><ul class=\"toc-item\"><li><ul class=\"toc-item\"><li><span><a href=\"#-Conclusion\" data-toc-modified-id=\"-Conclusion-1.2.0.1\"> Conclusion</a></span></li></ul></li></ul></li><li><span><a href=\"#Preprocess-the-data:\" data-toc-modified-id=\"Preprocess-the-data:-1.3\">Preprocess the data:</a></span><ul class=\"toc-item\"><li><span><a href=\"#Identify-and-fill-in-missing-values\" data-toc-modified-id=\"Identify-and-fill-in-missing-values-1.3.1\">Identify and fill in missing values</a></span><ul class=\"toc-item\"><li><span><a href=\"#-Conclusion\" data-toc-modified-id=\"-Conclusion-1.3.1.1\"> Conclusion</a></span></li></ul></li><li><span><a href=\"#Replace-the-real-number-data-type-with-the-integer-type\" data-toc-modified-id=\"Replace-the-real-number-data-type-with-the-integer-type-1.3.2\">Replace the real number data type with the integer type</a></span><ul class=\"toc-item\"><li><span><a href=\"#-Conclusion\" data-toc-modified-id=\"-Conclusion-1.3.2.1\"> Conclusion</a></span></li></ul></li><li><span><a href=\"#Delete-duplicate-data-\" data-toc-modified-id=\"Delete-duplicate-data--1.3.3\">Delete duplicate data </a></span><ul class=\"toc-item\"><li><span><a href=\"#-Conclusion\" data-toc-modified-id=\"-Conclusion-1.3.3.1\"> Conclusion</a></span></li></ul></li><li><span><a href=\"#-Categorizing-Data\" data-toc-modified-id=\"-Categorizing-Data-1.3.4\"> Categorizing Data</a></span><ul class=\"toc-item\"><li><span><a href=\"#-Conclusion\" data-toc-modified-id=\"-Conclusion-1.3.4.1\"> Conclusion</a></span></li></ul></li></ul></li><li><span><a href=\"#Loan-Repayment-Factors\" data-toc-modified-id=\"Loan-Repayment-Factors-1.4\">Loan Repayment Factors</a></span><ul class=\"toc-item\"><li><span><a href=\"#Is-there-a-relation-between-having-kids-and-repaying-a-loan-on-time?\" data-toc-modified-id=\"Is-there-a-relation-between-having-kids-and-repaying-a-loan-on-time?-1.4.1\">Is there a relation between having kids and repaying a loan on time?</a></span><ul class=\"toc-item\"><li><span><a href=\"#Conclusion\" data-toc-modified-id=\"Conclusion-1.4.1.1\">Conclusion</a></span></li></ul></li><li><span><a href=\"#Is-there-a-relation-between-marital-status-and-repaying-a-loan-on-time?\" data-toc-modified-id=\"Is-there-a-relation-between-marital-status-and-repaying-a-loan-on-time?-1.4.2\">Is there a relation between marital status and repaying a loan on time?</a></span><ul class=\"toc-item\"><li><span><a href=\"#Conclusion\" data-toc-modified-id=\"Conclusion-1.4.2.1\">Conclusion</a></span></li></ul></li><li><span><a href=\"#-Is-there-a-relation-between-income-level-and-repaying-a-loan-on-time?\" data-toc-modified-id=\"-Is-there-a-relation-between-income-level-and-repaying-a-loan-on-time?-1.4.3\"> Is there a relation between income level and repaying a loan on time?</a></span><ul class=\"toc-item\"><li><span><a href=\"#Conclusion\" data-toc-modified-id=\"Conclusion-1.4.3.1\">Conclusion</a></span></li></ul></li><li><span><a href=\"#How-do-different-loan-purposes-affect-on-time-repayment-of-the-loan?\" data-toc-modified-id=\"How-do-different-loan-purposes-affect-on-time-repayment-of-the-loan?-1.4.4\">How do different loan purposes affect on-time repayment of the loan?</a></span><ul class=\"toc-item\"><li><span><a href=\"#Conclusion\" data-toc-modified-id=\"Conclusion-1.4.4.1\">Conclusion</a></span></li></ul></li></ul></li><li><span><a href=\"#General-conclusion\" data-toc-modified-id=\"General-conclusion-1.5\">General conclusion</a></span></li></ul></li></ul></div>"
   ]
  },
  {
   "cell_type": "markdown",
   "metadata": {},
   "source": [
    "<h2>Open the data file and have a look at the general information. "
   ]
  },
  {
   "cell_type": "code",
   "execution_count": 1,
   "metadata": {
    "scrolled": true
   },
   "outputs": [
    {
     "name": "stdout",
     "output_type": "stream",
     "text": [
      "   children  days_employed  dob_years            education  education_id  \\\n",
      "0         1   -8437.673028         42    bachelor's degree             0   \n",
      "1         1   -4024.803754         36  secondary education             1   \n",
      "2         0   -5623.422610         33  Secondary Education             1   \n",
      "3         3   -4124.747207         32  secondary education             1   \n",
      "4         0  340266.072047         53  secondary education             1   \n",
      "\n",
      "       family_status  family_status_id gender income_type  debt  total_income  \\\n",
      "0            married                 0      F    employee     0     40620.102   \n",
      "1            married                 0      F    employee     0     17932.802   \n",
      "2            married                 0      M    employee     0     23341.752   \n",
      "3            married                 0      M    employee     0     42820.568   \n",
      "4  civil partnership                 1      F     retiree     0     25378.572   \n",
      "\n",
      "                   purpose  \n",
      "0    purchase of the house  \n",
      "1             car purchase  \n",
      "2    purchase of the house  \n",
      "3  supplementary education  \n",
      "4        to have a wedding  \n",
      " 0     14149\n",
      " 1      4818\n",
      " 2      2055\n",
      " 3       330\n",
      " 20       76\n",
      "-1        47\n",
      " 4        41\n",
      " 5         9\n",
      "Name: children, dtype: int64\n",
      "35    617\n",
      "40    609\n",
      "41    607\n",
      "34    603\n",
      "38    598\n",
      "42    597\n",
      "33    581\n",
      "39    573\n",
      "31    560\n",
      "36    555\n",
      "44    547\n",
      "29    545\n",
      "30    540\n",
      "48    538\n",
      "37    537\n",
      "50    514\n",
      "43    513\n",
      "32    510\n",
      "49    508\n",
      "28    503\n",
      "45    497\n",
      "27    493\n",
      "56    487\n",
      "52    484\n",
      "47    480\n",
      "54    479\n",
      "46    475\n",
      "58    461\n",
      "57    460\n",
      "53    459\n",
      "51    448\n",
      "59    444\n",
      "55    443\n",
      "26    408\n",
      "60    377\n",
      "25    357\n",
      "61    355\n",
      "62    352\n",
      "63    269\n",
      "64    265\n",
      "24    264\n",
      "23    254\n",
      "65    194\n",
      "66    183\n",
      "22    183\n",
      "67    167\n",
      "21    111\n",
      "0     101\n",
      "68     99\n",
      "69     85\n",
      "70     65\n",
      "71     58\n",
      "20     51\n",
      "72     33\n",
      "19     14\n",
      "73      8\n",
      "74      6\n",
      "75      1\n",
      "Name: dob_years, dtype: int64\n",
      "secondary education    13750\n",
      "bachelor's degree       4718\n",
      "SECONDARY EDUCATION      772\n",
      "Secondary Education      711\n",
      "some college             668\n",
      "BACHELOR'S DEGREE        274\n",
      "Bachelor's Degree        268\n",
      "primary education        250\n",
      "Some College              47\n",
      "SOME COLLEGE              29\n",
      "PRIMARY EDUCATION         17\n",
      "Primary Education         15\n",
      "graduate degree            4\n",
      "GRADUATE DEGREE            1\n",
      "Graduate Degree            1\n",
      "Name: education, dtype: int64\n",
      "married              12380\n",
      "civil partnership     4177\n",
      "unmarried             2813\n",
      "divorced              1195\n",
      "widow / widower        960\n",
      "Name: family_status, dtype: int64\n",
      "F      14236\n",
      "M       7288\n",
      "XNA        1\n",
      "Name: gender, dtype: int64\n",
      "employee                       11119\n",
      "business                        5085\n",
      "retiree                         3856\n",
      "civil servant                   1459\n",
      "entrepreneur                       2\n",
      "unemployed                         2\n",
      "student                            1\n",
      "paternity / maternity leave        1\n",
      "Name: income_type, dtype: int64\n",
      "wedding ceremony                            797\n",
      "having a wedding                            777\n",
      "to have a wedding                           774\n",
      "real estate transactions                    676\n",
      "buy commercial real estate                  664\n",
      "housing transactions                        653\n",
      "buying property for renting out             653\n",
      "transactions with commercial real estate    651\n",
      "housing                                     647\n",
      "purchase of the house                       647\n",
      "purchase of the house for my family         641\n",
      "construction of own property                635\n",
      "property                                    634\n",
      "transactions with my real estate            630\n",
      "building a real estate                      626\n",
      "buy real estate                             624\n",
      "building a property                         620\n",
      "purchase of my own house                    620\n",
      "housing renovation                          612\n",
      "buy residential real estate                 607\n",
      "buying my own car                           505\n",
      "going to university                         496\n",
      "car                                         495\n",
      "second-hand car purchase                    489\n",
      "to own a car                                480\n",
      "buying a second-hand car                    479\n",
      "cars                                        478\n",
      "to buy a car                                472\n",
      "car purchase                                462\n",
      "supplementary education                     462\n",
      "purchase of a car                           455\n",
      "university education                        453\n",
      "education                                   447\n",
      "to get a supplementary education            447\n",
      "getting an education                        443\n",
      "profile education                           436\n",
      "getting higher education                    426\n",
      "to become educated                          412\n",
      "Name: purpose, dtype: int64\n",
      "<class 'pandas.core.frame.DataFrame'>\n",
      "RangeIndex: 21525 entries, 0 to 21524\n",
      "Data columns (total 12 columns):\n",
      "children            21525 non-null int64\n",
      "days_employed       19351 non-null float64\n",
      "dob_years           21525 non-null int64\n",
      "education           21525 non-null object\n",
      "education_id        21525 non-null int64\n",
      "family_status       21525 non-null object\n",
      "family_status_id    21525 non-null int64\n",
      "gender              21525 non-null object\n",
      "income_type         21525 non-null object\n",
      "debt                21525 non-null int64\n",
      "total_income        19351 non-null float64\n",
      "purpose             21525 non-null object\n",
      "dtypes: float64(2), int64(5), object(5)\n",
      "memory usage: 2.0+ MB\n"
     ]
    }
   ],
   "source": [
    "import pandas as pd\n",
    "\n",
    "credit_scoring = pd.read_csv('/datasets/credit_scoring_eng.csv')\n",
    "print(credit_scoring.head(5)) \n",
    "\n",
    "#checking for the range  and kind of values\n",
    "print(credit_scoring['children'].value_counts())\n",
    "print(credit_scoring['dob_years'].value_counts())\n",
    "print(credit_scoring['education'].value_counts())\n",
    "print(credit_scoring['family_status'].value_counts())\n",
    "print(credit_scoring['gender'].value_counts())\n",
    "print(credit_scoring['income_type'].value_counts())\n",
    "print(credit_scoring['purpose'].value_counts())\n",
    "\n",
    "credit_scoring.info() #for checking the data type of the columns in the dataframe\n",
    "\n"
   ]
  },
  {
   "cell_type": "markdown",
   "metadata": {},
   "source": [
    "<h4> Conclusion"
   ]
  },
  {
   "cell_type": "markdown",
   "metadata": {},
   "source": [
    "- `days_employed` should have datatype as int. \n",
    "- `days_employed` and `total_income` have missing values, hence 19351 entries as compared to the total of 21525 entries "
   ]
  },
  {
   "cell_type": "markdown",
   "metadata": {},
   "source": [
    "- noticed `days_employed` value with days as -8139 kind of values, I think that these are the account holders who have been employed either before taking the loan or opening the bank account. \n",
    "- There are `days_employed` value which are more than 300000, that is around 800 years, so I assume it is incorrect data."
   ]
  },
  {
   "cell_type": "markdown",
   "metadata": {},
   "source": [
    "<h2>Preprocess the data:"
   ]
  },
  {
   "cell_type": "markdown",
   "metadata": {},
   "source": [
    "<h3>Identify and fill in missing values"
   ]
  },
  {
   "cell_type": "code",
   "execution_count": 2,
   "metadata": {
    "scrolled": false
   },
   "outputs": [
    {
     "name": "stdout",
     "output_type": "stream",
     "text": [
      "children               0\n",
      "days_employed       2174\n",
      "dob_years              0\n",
      "education              0\n",
      "education_id           0\n",
      "family_status          0\n",
      "family_status_id       0\n",
      "gender                 0\n",
      "income_type            0\n",
      "debt                   0\n",
      "total_income        2174\n",
      "purpose                0\n",
      "dtype: int64\n",
      "\n",
      "Number of days entries more than or equal to zero: 3445\n",
      "\n",
      "Number of total_income entries less than or equal to zero: 0\n",
      "\n",
      "Number of total_income entries more than zero: 19351\n",
      "\n",
      "\n",
      "   children  days_employed  dob_years            education  education_id  \\\n",
      "0         1    8437.673028       42.0    bachelor's degree             0   \n",
      "1         1    4024.803754       36.0  secondary education             1   \n",
      "2         0    5623.422610       33.0  Secondary Education             1   \n",
      "3         3    4124.747207       32.0  secondary education             1   \n",
      "4         0    1630.019381       53.0  secondary education             1   \n",
      "\n",
      "       family_status  family_status_id gender income_type  debt  total_income  \\\n",
      "0            married                 0      F    employee     0     40620.102   \n",
      "1            married                 0      F    employee     0     17932.802   \n",
      "2            married                 0      M    employee     0     23341.752   \n",
      "3            married                 0      M    employee     0     42820.568   \n",
      "4  civil partnership                 1      F     retiree     0     25378.572   \n",
      "\n",
      "                   purpose  \n",
      "0    purchase of the house  \n",
      "1             car purchase  \n",
      "2    purchase of the house  \n",
      "3  supplementary education  \n",
      "4        to have a wedding  \n",
      "\n",
      "\n",
      "children            0\n",
      "days_employed       0\n",
      "dob_years           0\n",
      "education           0\n",
      "education_id        0\n",
      "family_status       0\n",
      "family_status_id    0\n",
      "gender              0\n",
      "income_type         0\n",
      "debt                0\n",
      "total_income        0\n",
      "purpose             0\n",
      "dtype: int64\n"
     ]
    }
   ],
   "source": [
    "#checking for missing values\n",
    "print(credit_scoring.isnull().sum())\n",
    "\n",
    "#checking for days_employed values that are more than 0\n",
    "days = credit_scoring[credit_scoring['days_employed']>=0]\n",
    "print('\\nNumber of days entries more than or equal to zero:',days['days_employed'].value_counts().sum())\n",
    "\n",
    "#checking for total_income values \n",
    "zeroornegative_income = credit_scoring[credit_scoring['total_income'] <= 0]\n",
    "print('\\nNumber of total_income entries less than or equal to zero:',zeroornegative_income['total_income'].value_counts().sum())\n",
    "income = credit_scoring[credit_scoring['total_income'] > 0]\n",
    "print('\\nNumber of total_income entries more than zero:',income['total_income'].value_counts().sum())\n",
    "\n",
    "#calculating the median for dob_year column\n",
    "age_values = credit_scoring[credit_scoring['dob_years']>0]\n",
    "age_median = age_values['dob_years'].median()\n",
    "\n",
    "#calculating the median of the days_employed column entries\n",
    "days_values = credit_scoring[credit_scoring['days_employed']<0]\n",
    "days_median = days_values['days_employed'].median()\n",
    "\n",
    "#calculating the median of the total_income column entries\n",
    "income_values = credit_scoring[credit_scoring['total_income']>0]\n",
    "income_median = income_values['total_income'].median()\n",
    "\n",
    "#Replacing the 0 values with age_median calculated above \n",
    "credit_scoring.loc[(credit_scoring['dob_years'] == 0), 'dob_years'] = age_median\n",
    "\n",
    "#Replacing the missing values and the unrealistic values with days_median calculated above by using the fillna() method\n",
    "credit_scoring['days_employed'] = credit_scoring['days_employed'].fillna(value = days_median)\n",
    "credit_scoring.loc[(credit_scoring['days_employed']>0), 'days_employed'] = days_median\n",
    "\n",
    "#Replacing the missing values and the unrealistic values with days_median calculated above by using the fillna() method\n",
    "credit_scoring['total_income'] = credit_scoring['total_income'].fillna(value = income_median)\n",
    "\n",
    "\n",
    "#Changing the negative value of children to a positive value using abs() function\n",
    "credit_scoring['children'] = abs(credit_scoring['children'])\n",
    "\n",
    "\n",
    "#Changing the negative value of days_employed to a positive value using abs() function\n",
    "credit_scoring['days_employed'] = abs(credit_scoring['days_employed'])\n",
    "\n",
    "print('\\n')\n",
    "print(credit_scoring.head())\n",
    "print('\\n')\n",
    "print(credit_scoring.isnull().sum())\n"
   ]
  },
  {
   "cell_type": "markdown",
   "metadata": {},
   "source": [
    "<h4> Conclusion"
   ]
  },
  {
   "cell_type": "markdown",
   "metadata": {},
   "source": [
    "- Calculated `days_emloyed` mean by working on the entries that negative values based on my first conclusion\n",
    "- Calculated `total_income` median by working on the entries where the debt was more than zero\n",
    "- `days_employed` and `total_income` initially had 2174 missing values, replaced the missing values with median of that column\n",
    "- Also replaced 101 - 0 age entries with the median of `age` column"
   ]
  },
  {
   "cell_type": "markdown",
   "metadata": {},
   "source": [
    "<h3>Replace the real number data type with the integer type"
   ]
  },
  {
   "cell_type": "code",
   "execution_count": 3,
   "metadata": {
    "scrolled": false
   },
   "outputs": [
    {
     "name": "stdout",
     "output_type": "stream",
     "text": [
      "<class 'pandas.core.frame.DataFrame'>\n",
      "RangeIndex: 21525 entries, 0 to 21524\n",
      "Data columns (total 12 columns):\n",
      "children            21525 non-null int64\n",
      "days_employed       21525 non-null int64\n",
      "dob_years           21525 non-null int64\n",
      "education           21525 non-null object\n",
      "education_id        21525 non-null int64\n",
      "family_status       21525 non-null object\n",
      "family_status_id    21525 non-null int64\n",
      "gender              21525 non-null object\n",
      "income_type         21525 non-null object\n",
      "debt                21525 non-null int64\n",
      "total_income        21525 non-null float64\n",
      "purpose             21525 non-null object\n",
      "dtypes: float64(1), int64(6), object(5)\n",
      "memory usage: 2.0+ MB\n"
     ]
    }
   ],
   "source": [
    "#changing days_employed and dob_years datatype to int\n",
    "\n",
    "credit_scoring['days_employed'] = credit_scoring['days_employed'].astype(\"int\")\n",
    "credit_scoring['dob_years'] = credit_scoring['dob_years'].astype(\"int\")\n",
    "credit_scoring.info()\n",
    "\n"
   ]
  },
  {
   "cell_type": "markdown",
   "metadata": {},
   "source": [
    "<h4> Conclusion"
   ]
  },
  {
   "cell_type": "markdown",
   "metadata": {},
   "source": [
    "changing `days_employed` and `dob_years` datatype to int by using astype method"
   ]
  },
  {
   "cell_type": "markdown",
   "metadata": {},
   "source": [
    "<h3>Delete duplicate data "
   ]
  },
  {
   "cell_type": "code",
   "execution_count": 4,
   "metadata": {},
   "outputs": [
    {
     "name": "stdout",
     "output_type": "stream",
     "text": [
      "<class 'pandas.core.frame.DataFrame'>\n",
      "RangeIndex: 21454 entries, 0 to 21453\n",
      "Data columns (total 12 columns):\n",
      "children            21454 non-null int64\n",
      "days_employed       21454 non-null int64\n",
      "dob_years           21454 non-null int64\n",
      "education           21454 non-null object\n",
      "education_id        21454 non-null int64\n",
      "family_status       21454 non-null object\n",
      "family_status_id    21454 non-null int64\n",
      "gender              21454 non-null object\n",
      "income_type         21454 non-null object\n",
      "debt                21454 non-null int64\n",
      "total_income        21454 non-null float64\n",
      "purpose             21454 non-null object\n",
      "dtypes: float64(1), int64(6), object(5)\n",
      "memory usage: 2.0+ MB\n"
     ]
    }
   ],
   "source": [
    "#changing the values to lower case for consistency\n",
    "credit_scoring['education'] = credit_scoring['education'].str.lower()\n",
    "credit_scoring['family_status'] = credit_scoring['family_status'].str.lower()\n",
    "credit_scoring['gender'] = credit_scoring['gender'].str.lower()\n",
    "credit_scoring['income_type'] = credit_scoring['income_type'].str.lower()\n",
    "credit_scoring['purpose'] = credit_scoring['purpose'].str.lower()\n",
    "\n",
    "\n",
    "#removing duplicates\n",
    "credit_scoring = credit_scoring.drop_duplicates(keep = 'last').reset_index(drop=True)\n",
    "credit_scoring.info()\n",
    "\n"
   ]
  },
  {
   "cell_type": "markdown",
   "metadata": {},
   "source": [
    "<h4> Conclusion"
   ]
  },
  {
   "cell_type": "markdown",
   "metadata": {},
   "source": [
    "Converted all string datatype column into lowercase and then dropped duplicates"
   ]
  },
  {
   "cell_type": "markdown",
   "metadata": {},
   "source": [
    "<h3> Categorizing Data"
   ]
  },
  {
   "cell_type": "code",
   "execution_count": 5,
   "metadata": {},
   "outputs": [
    {
     "name": "stdout",
     "output_type": "stream",
     "text": [
      "high income group      11779\n",
      "middle income group     8014\n",
      "low income group        1661\n",
      "Name: income_groups, dtype: int64\n",
      "real estate    4872\n",
      "car            4306\n",
      "house          3809\n",
      "education      3605\n",
      "property       2538\n",
      "wedding        2324\n",
      "Name: purpose_category, dtype: int64\n",
      "   children  days_employed  dob_years            education  education_id  \\\n",
      "0         1           8437         42    bachelor's degree             0   \n",
      "1         1           4024         36  secondary education             1   \n",
      "2         0           5623         33  secondary education             1   \n",
      "3         3           4124         32  secondary education             1   \n",
      "4         0           1630         53  secondary education             1   \n",
      "\n",
      "       family_status  family_status_id gender income_type  debt  total_income  \\\n",
      "0            married                 0      f    employee     0     40620.102   \n",
      "1            married                 0      f    employee     0     17932.802   \n",
      "2            married                 0      m    employee     0     23341.752   \n",
      "3            married                 0      m    employee     0     42820.568   \n",
      "4  civil partnership                 1      f     retiree     0     25378.572   \n",
      "\n",
      "                   purpose        income_groups purpose_category  \n",
      "0    purchase of the house    high income group            house  \n",
      "1             car purchase  middle income group              car  \n",
      "2    purchase of the house    high income group            house  \n",
      "3  supplementary education    high income group        education  \n",
      "4        to have a wedding    high income group          wedding  \n"
     ]
    }
   ],
   "source": [
    "#categorizing the total_income into different income_groups\n",
    "\n",
    "income_median = credit_scoring['total_income'].median()\n",
    "income_min = credit_scoring['total_income'].min()\n",
    "income_max = credit_scoring['total_income'].max()\n",
    "\n",
    "def income_groups(total_income):\n",
    "    if income_min <= total_income <(income_median/2):\n",
    "        return 'low income group'\n",
    "    elif (income_median/2) <=  total_income <income_median:\n",
    "        return 'middle income group'\n",
    "    else:\n",
    "        return 'high income group'\n",
    "\n",
    "    \n",
    "credit_scoring['income_groups'] = credit_scoring['total_income'].apply(income_groups)\n",
    "print(credit_scoring['income_groups'].value_counts())\n",
    "\n",
    "\n",
    "\n",
    "#categorizing purpose into much more compact categories\n",
    "def purpose_category(purpose):\n",
    "    if any(word in purpose for word in ['wedding','wed','marriage']):\n",
    "        return 'wedding'\n",
    "    elif any(word in purpose for word in ['property']):\n",
    "        return 'property'\n",
    "    elif any(word in purpose for word in ['house','housing']):\n",
    "        return 'house'\n",
    "    elif any(word in purpose for word in ['university','education']):\n",
    "        return 'education'\n",
    "    elif any(word in purpose for word in ['car']):\n",
    "        return 'car'    \n",
    "    else:\n",
    "        return 'real estate'\n",
    "    \n",
    "\n",
    "credit_scoring['purpose_category'] = credit_scoring['purpose'].apply(purpose_category)\n",
    "print(credit_scoring['purpose_category'].value_counts())\n",
    "print(credit_scoring.head())\n",
    "        "
   ]
  },
  {
   "cell_type": "markdown",
   "metadata": {},
   "source": [
    "<h4> Conclusion"
   ]
  },
  {
   "cell_type": "markdown",
   "metadata": {},
   "source": [
    "Categorized `total_income` data by splitting it into 3 groups low, middle and high"
   ]
  },
  {
   "cell_type": "markdown",
   "metadata": {},
   "source": [
    "Categorized purpose data by merging them into more compact 6 groups say buying house, renovating house, etc will all fall into house category"
   ]
  },
  {
   "cell_type": "markdown",
   "metadata": {},
   "source": [
    "<h2>Loan Repayment Factors"
   ]
  },
  {
   "cell_type": "markdown",
   "metadata": {},
   "source": [
    "<h3>Is there a relation between having kids and repaying a loan on time?"
   ]
  },
  {
   "cell_type": "code",
   "execution_count": 6,
   "metadata": {},
   "outputs": [
    {
     "name": "stdout",
     "output_type": "stream",
     "text": [
      "          count   sum non-defaulters ratio of defaulters\n",
      "           debt  debt                                   \n",
      "children                                                \n",
      "20           76     8             68            0.105263\n",
      "4            41     4             37            0.097561\n",
      "2          2052   194           1858            0.094542\n",
      "1          4855   445           4410            0.091658\n",
      "3           330    27            303            0.081818\n",
      "0         14091  1063          13028            0.075438\n",
      "5             9     0              9            0.000000\n"
     ]
    }
   ],
   "source": [
    "#calling pivot table method to find out the dependency between children and debt values. \n",
    "#Since sum is the summation of all 1 values we got all the defaulters from aggfunc sum and the total number of loan takers from count\n",
    "\n",
    "children_pivot = credit_scoring.pivot_table(index = 'children', values = 'debt', aggfunc = ['count', 'sum'])\n",
    "children_pivot['non-defaulters'] = children_pivot['count'] - children_pivot['sum']\n",
    "children_pivot['ratio of defaulters'] = children_pivot['sum'] / children_pivot['count']\n",
    "\n",
    "print(children_pivot.sort_values('ratio of defaulters', ascending = False))\n",
    "\n"
   ]
  },
  {
   "cell_type": "markdown",
   "metadata": {},
   "source": [
    "<h4>Conclusion"
   ]
  },
  {
   "cell_type": "markdown",
   "metadata": {},
   "source": [
    "From the above result, I see that normally the more number of kids there are more defaulters. Assuming 0 in debt column represents non-defaulters and 1 being a defaulter."
   ]
  },
  {
   "cell_type": "markdown",
   "metadata": {},
   "source": [
    "<h3>Is there a relation between marital status and repaying a loan on time?"
   ]
  },
  {
   "cell_type": "code",
   "execution_count": 7,
   "metadata": {},
   "outputs": [
    {
     "name": "stdout",
     "output_type": "stream",
     "text": [
      "                   count  sum non-defaulters ratio of defaulters\n",
      "                    debt debt                                   \n",
      "family_status                                                   \n",
      "unmarried           2810  274           2536            0.097509\n",
      "civil partnership   4151  388           3763            0.093471\n",
      "married            12339  931          11408            0.075452\n",
      "divorced            1195   85           1110            0.071130\n",
      "widow / widower      959   63            896            0.065693\n"
     ]
    }
   ],
   "source": [
    "#calling pivot table method to find out the dependency between family_status and debt values. \n",
    "#Since sum is the summation of all 1 values we got all the defaulters from aggfunc sum and the total number of loan takers \n",
    "#from count\n",
    "\n",
    "\n",
    "family_pivot = credit_scoring.pivot_table(index = 'family_status', values = 'debt', aggfunc = ['count', 'sum'])\n",
    "family_pivot['non-defaulters'] = family_pivot['count'] - family_pivot['sum']\n",
    "family_pivot['ratio of defaulters'] = family_pivot['sum'] / family_pivot['count']\n",
    "\n",
    "print(family_pivot.sort_values('ratio of defaulters', ascending = False))"
   ]
  },
  {
   "cell_type": "markdown",
   "metadata": {},
   "source": [
    "<h4>Conclusion"
   ]
  },
  {
   "cell_type": "markdown",
   "metadata": {},
   "source": [
    "From the above result - I conclude that the unmarried people are the highest number of defaulters and the lowest being widow/widower"
   ]
  },
  {
   "cell_type": "markdown",
   "metadata": {},
   "source": [
    "<h3> Is there a relation between income level and repaying a loan on time?"
   ]
  },
  {
   "cell_type": "code",
   "execution_count": 8,
   "metadata": {},
   "outputs": [
    {
     "name": "stdout",
     "output_type": "stream",
     "text": [
      "                     count  sum non-defaulters ratio of defaulters\n",
      "                      debt debt                                   \n",
      "income_groups                                                     \n",
      "middle income group   8014  689           7325            0.085975\n",
      "high income group    11779  937          10842            0.079548\n",
      "low income group      1661  115           1546            0.069235\n"
     ]
    }
   ],
   "source": [
    "#calling pivot table method to find out the dependency between income_groups and debt values. \n",
    "#Since sum is the summation of all 1 values we got all the defaulters from aggfunc sum and the total number of loan takers \n",
    "#from countprint(credit_scoring.groupby('income_groups')['debt'].value_counts())\n",
    "\n",
    "income_groups_pivot = credit_scoring.pivot_table(index = 'income_groups', values = 'debt', aggfunc = ['count', 'sum'])\n",
    "income_groups_pivot['non-defaulters'] = income_groups_pivot['count'] - income_groups_pivot['sum']\n",
    "income_groups_pivot['ratio of defaulters'] = income_groups_pivot['sum'] / income_groups_pivot['count']\n",
    "\n",
    "print(income_groups_pivot.sort_values('ratio of defaulters', ascending = False))"
   ]
  },
  {
   "cell_type": "markdown",
   "metadata": {},
   "source": [
    "<h4>Conclusion"
   ]
  },
  {
   "cell_type": "markdown",
   "metadata": {},
   "source": [
    "Middle income groups are highest defaulters, whereas high and low income group have a similar defaultment ratio"
   ]
  },
  {
   "cell_type": "markdown",
   "metadata": {},
   "source": [
    "<h3>How do different loan purposes affect on-time repayment of the loan?"
   ]
  },
  {
   "cell_type": "code",
   "execution_count": 9,
   "metadata": {},
   "outputs": [
    {
     "name": "stdout",
     "output_type": "stream",
     "text": [
      "                 count  sum non-defaulters ratio of defaulters\n",
      "                  debt debt                                   \n",
      "purpose_category                                              \n",
      "car               4306  403           3903            0.093590\n",
      "education         3605  331           3274            0.091817\n",
      "wedding           2324  186           2138            0.080034\n",
      "real estate       4872  375           4497            0.076970\n",
      "property          2538  190           2348            0.074862\n",
      "house             3809  256           3553            0.067209\n"
     ]
    }
   ],
   "source": [
    "#calling pivot table method to find out the dependency between purpose_category and debt values. \n",
    "#Since sum is the summation of all 1 values we got all the defaulters from aggfunc sum and the total number of loan takers \n",
    "#from count\n",
    "\n",
    "purpose_category_pivot = credit_scoring.pivot_table(index = 'purpose_category', values = 'debt', aggfunc = ['count', 'sum'])\n",
    "purpose_category_pivot['non-defaulters'] = purpose_category_pivot['count'] - purpose_category_pivot['sum']\n",
    "purpose_category_pivot['ratio of defaulters'] = purpose_category_pivot['sum'] / purpose_category_pivot['count']\n",
    "\n",
    "print(purpose_category_pivot.sort_values('ratio of defaulters', ascending = False))\n"
   ]
  },
  {
   "cell_type": "markdown",
   "metadata": {},
   "source": [
    "<h4>Conclusion"
   ]
  },
  {
   "cell_type": "markdown",
   "metadata": {},
   "source": [
    "From the above result we see that the people who have taken out loans for cars are the highest number of defaulters and the lowest being for housing reason"
   ]
  },
  {
   "cell_type": "markdown",
   "metadata": {},
   "source": [
    "<h2>General conclusion"
   ]
  },
  {
   "cell_type": "markdown",
   "metadata": {},
   "source": [
    "- I think that the blank values in the `days_employed` and `total_income` are an outcome of some scheme or an offer provided to some company or selected group of individuals by the bank. As they are the same rows in which both the `days_employed` and `total_income` are blank at the same time. \n",
    "- Apart from that I also noticed that people who concentrate on basic neccessities say house and have 0-2 kids are the one who are less defaulters. \n",
    "- And also education is costly and there are not enough jobs in the market - that might also be a reason why there are loan defaulters."
   ]
  },
  {
   "cell_type": "markdown",
   "metadata": {},
   "source": [
    "Thank You!"
   ]
  }
 ],
 "metadata": {
  "ExecuteTimeLog": [
   {
    "duration": 141,
    "start_time": "2021-07-17T19:46:37.739Z"
   },
   {
    "duration": 471,
    "start_time": "2021-07-17T19:49:27.009Z"
   },
   {
    "duration": 847,
    "start_time": "2021-07-17T19:49:38.994Z"
   },
   {
    "duration": 73,
    "start_time": "2021-07-17T19:49:47.039Z"
   },
   {
    "duration": 927,
    "start_time": "2021-07-17T19:51:26.841Z"
   },
   {
    "duration": 73,
    "start_time": "2021-07-17T19:51:27.771Z"
   },
   {
    "duration": 34,
    "start_time": "2021-07-17T19:51:27.847Z"
   },
   {
    "duration": 109,
    "start_time": "2021-07-17T19:51:27.885Z"
   },
   {
    "duration": 151,
    "start_time": "2021-07-17T19:51:27.996Z"
   },
   {
    "duration": 58,
    "start_time": "2021-07-17T19:51:28.149Z"
   },
   {
    "duration": 73,
    "start_time": "2021-07-17T19:51:28.210Z"
   },
   {
    "duration": 41,
    "start_time": "2021-07-17T19:51:28.286Z"
   },
   {
    "duration": 60,
    "start_time": "2021-07-17T19:51:28.329Z"
   },
   {
    "duration": 114,
    "start_time": "2021-07-17T20:01:18.553Z"
   }
  ],
  "kernelspec": {
   "display_name": "Python 3",
   "language": "python",
   "name": "python3"
  },
  "language_info": {
   "codemirror_mode": {
    "name": "ipython",
    "version": 3
   },
   "file_extension": ".py",
   "mimetype": "text/x-python",
   "name": "python",
   "nbconvert_exporter": "python",
   "pygments_lexer": "ipython3",
   "version": "3.7.8"
  },
  "toc": {
   "base_numbering": 1,
   "nav_menu": {},
   "number_sections": false,
   "sideBar": true,
   "skip_h1_title": false,
   "title_cell": "Table of Contents",
   "title_sidebar": "Contents",
   "toc_cell": true,
   "toc_position": {},
   "toc_section_display": true,
   "toc_window_display": true
  }
 },
 "nbformat": 4,
 "nbformat_minor": 2
}
